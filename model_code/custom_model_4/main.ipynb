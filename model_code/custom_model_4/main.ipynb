{
 "cells": [
  {
   "cell_type": "code",
   "execution_count": 1,
   "metadata": {},
   "outputs": [
    {
     "name": "stderr",
     "output_type": "stream",
     "text": [
      "2024-09-09 05:39:33.668502: I tensorflow/core/util/port.cc:110] oneDNN custom operations are on. You may see slightly different numerical results due to floating-point round-off errors from different computation orders. To turn them off, set the environment variable `TF_ENABLE_ONEDNN_OPTS=0`.\n",
      "2024-09-09 05:39:33.712277: I tensorflow/core/platform/cpu_feature_guard.cc:182] This TensorFlow binary is optimized to use available CPU instructions in performance-critical operations.\n",
      "To enable the following instructions: AVX2 AVX512F AVX512_VNNI FMA, in other operations, rebuild TensorFlow with the appropriate compiler flags.\n"
     ]
    }
   ],
   "source": [
    "# from mobile_net import get_model\n",
    "import librosa\n",
    "import tensorflow as tf\n",
    "import glob\n",
    "import numpy as np\n",
    "import random\n",
    "import wave\n",
    "import os\n",
    "import pickle\n",
    "# import noisereduce as nr\n",
    "import requests"
   ]
  },
  {
   "cell_type": "code",
   "execution_count": 2,
   "metadata": {},
   "outputs": [
    {
     "name": "stderr",
     "output_type": "stream",
     "text": [
      "2024-09-09 05:39:35.281248: I tensorflow/core/common_runtime/gpu/gpu_device.cc:1639] Created device /job:localhost/replica:0/task:0/device:GPU:0 with 43629 MB memory:  -> device: 0, name: NVIDIA L40S, pci bus id: 0000:8b:00.0, compute capability: 8.9\n"
     ]
    },
    {
     "data": {
      "text/plain": [
       "[LogicalDevice(name='/device:GPU:0', device_type='GPU')]"
      ]
     },
     "execution_count": 2,
     "metadata": {},
     "output_type": "execute_result"
    }
   ],
   "source": [
    "gpus = tf.config.list_physical_devices('GPU')\n",
    "gpu = gpus[0]\n",
    "tf.config.experimental.set_memory_growth(gpu, True)\n",
    "tf.config.list_logical_devices('GPU')"
   ]
  },
  {
   "cell_type": "code",
   "execution_count": 3,
   "metadata": {},
   "outputs": [],
   "source": [
    "noise_path = '/shareddrive/working/data_code/data/neg_data/_background_noise_/chunks/2-5s_chunks/*'\n",
    "environment_path = '/shareddrive/working/data_code/data/neg_data/envornment/chunks/2-5s_chunks/*'\n",
    "word_path = '/shareddrive/working/data_code/data/neg_data/spcmd/all_words/2-5s_chunks/*'\n",
    "recording_path = '/shareddrive/working/data_code/data/neg_data/internet_recordings/chunks/2-5s_chunks/*'"
   ]
  },
  {
   "cell_type": "code",
   "execution_count": 4,
   "metadata": {},
   "outputs": [
    {
     "data": {
      "text/plain": [
       "(515, 264, 64721, 2324)"
      ]
     },
     "execution_count": 4,
     "metadata": {},
     "output_type": "execute_result"
    }
   ],
   "source": [
    "word_files = glob.glob(word_path)\n",
    "environment_files = glob.glob(environment_path)\n",
    "noise_files = glob.glob(noise_path)\n",
    "recording_files = glob.glob(recording_path)\n",
    "len(environment_files),len(noise_files),len(word_files),len(recording_files)"
   ]
  },
  {
   "cell_type": "code",
   "execution_count": 5,
   "metadata": {},
   "outputs": [],
   "source": [
    "def get_duration(audio_path):\n",
    "    with wave.open(audio_path, 'rb') as wav_file:\n",
    "        sample_rate = wav_file.getframerate()\n",
    "        num_frames = wav_file.getnframes()\n",
    "        duration = num_frames / sample_rate\n",
    "    return duration"
   ]
  },
  {
   "cell_type": "code",
   "execution_count": 6,
   "metadata": {},
   "outputs": [],
   "source": [
    "limit = 1.5\n",
    "# adele_path = '/shareddrive/working/data_code/data/adele/augmented/*'\n",
    "# adele_folders = glob.glob(adele_path)\n",
    "# adele_files = [j for i in adele_folders for j in glob.glob(f'{i}/*')]\n",
    "# adele_files = [j for i in adele_folders for j in glob.glob(f'{i}/*') if get_duration(j) <= limit]\n",
    "hilfe_path = '/shareddrive/working/data_code/data/hilfe_hilfe/augmented/*'\n",
    "hilfe_folders = glob.glob(hilfe_path)\n",
    "hilfe_files = [j for i in hilfe_folders for j in glob.glob(f'{i}/*')]\n",
    "# # hilfe_files = [j for i in hilfe_folders for j in glob.glob(f'{i}/*') if get_duration(j) <= limit]"
   ]
  },
  {
   "cell_type": "code",
   "execution_count": 7,
   "metadata": {},
   "outputs": [
    {
     "data": {
      "text/plain": [
       "10935"
      ]
     },
     "execution_count": 7,
     "metadata": {},
     "output_type": "execute_result"
    }
   ],
   "source": [
    "len(hilfe_files)"
   ]
  },
  {
   "cell_type": "code",
   "execution_count": 8,
   "metadata": {},
   "outputs": [],
   "source": [
    "# DEEPGRAM_API_KEY = '4207b8a639744fbdbe634616684bf7d67c8791e2'\n",
    "# url = 'https://api.deepgram.com/v1/listen'\n",
    "# headers = {\n",
    "#     'Authorization': f'Token {DEEPGRAM_API_KEY}',\n",
    "#     'Content-Type': 'audio/wav'\n",
    "# }\n",
    "# params = {\n",
    "#     'language': 'de',  # Specify the language as German\n",
    "#     'tier': 'enhanced',  # Use the enhanced tier for better accuracy\n",
    "#     'model': 'general'  # Specify the model\n",
    "# }\n",
    "# ad_files = list()\n",
    "# for i in adele_files:\n",
    "#     # Read the audio file\n",
    "#     with open(i, 'rb') as audio_file:\n",
    "#         response = requests.post(url, headers=headers, params=params, data=audio_file)\n",
    "\n",
    "#     if response.status_code == 200:\n",
    "#         if 'adele' in response.json()['results']['channels'][0]['alternatives'][0]['transcript']:\n",
    "#             ad_files.append(i)\n",
    "#     else:\n",
    "#         print(\"Error:\", response.json())\n",
    "# len(ad_files)"
   ]
  },
  {
   "cell_type": "code",
   "execution_count": 9,
   "metadata": {},
   "outputs": [],
   "source": [
    "no_of_files = 1109+660\n",
    "file_path_and_labels = list()\n",
    "# file_path_and_labels.extend([(i,1) for i in random.sample(adele_files,no_of_files)])\n",
    "# file_path_and_labels.extend([(i,1) for i in adele_files])\n",
    "# file_path_and_labels.extend([(i,1) for i in random.sample(hilfe_files,no_of_files)])\n",
    "file_path_and_labels.extend([(i,1) for i in hilfe_files])\n",
    "# avg_files = (len(adele_files) + len(hilfe_files)) // 2\n",
    "avg_files = len(hilfe_files)\n",
    "# file_path_and_labels.extend([(i,0) for i in random.sample(recording_files,len(recording_files)//2)])\n",
    "file_path_and_labels.extend([(i,0) for i in random.sample(word_files,avg_files)])\n",
    "file_path_and_labels.extend([(i,0) for i in noise_files])\n",
    "file_path_and_labels.extend([(i,0) for i in environment_files])\n",
    "random.shuffle(file_path_and_labels)\n",
    "# avg_files"
   ]
  },
  {
   "cell_type": "code",
   "execution_count": 10,
   "metadata": {},
   "outputs": [
    {
     "data": {
      "text/plain": [
       "9773"
      ]
     },
     "execution_count": 10,
     "metadata": {},
     "output_type": "execute_result"
    }
   ],
   "source": [
    "avg_files-len(recording_files)//2"
   ]
  },
  {
   "cell_type": "code",
   "execution_count": 11,
   "metadata": {},
   "outputs": [
    {
     "name": "stdout",
     "output_type": "stream",
     "text": [
      "(128, 79)\n"
     ]
    }
   ],
   "source": [
    "sr = 16000\n",
    "max_seconds = 2.5\n",
    "pad_or_trunc = lambda a,i : a[0:i] if len(a) > i else a if len(a) == i else np.pad(a,(0, (i-len(a))))\n",
    "\n",
    "def process_data(y,sr,max_seconds):\n",
    "    y = pad_or_trunc(y,int(sr*max_seconds))\n",
    "    features = librosa.feature.melspectrogram(y=y,sr=sr,n_fft=1024)\n",
    "    return features\n",
    "    \n",
    "def get_processed_data(audio_file):\n",
    "    y,_ = librosa.load(audio_file,sr=sr)\n",
    "    # y = nr.reduce_noise(y=y, sr=sr,n_fft=1024)\n",
    "    # y[np.isnan(y)] = 0\n",
    "    features = process_data(y,sr,max_seconds)\n",
    "    return features\n",
    "try:\n",
    "    with open('f_and_ls.pickle','rb') as f:\n",
    "        features_and_labels = pickle.load(f)\n",
    "except:\n",
    "    features_and_labels = list()\n",
    "    for i,j in file_path_and_labels:\n",
    "        try:\n",
    "            features = get_processed_data(i)\n",
    "            features_and_labels.append((features,j))\n",
    "        except Exception as e: \n",
    "            print(i)\n",
    "            print(e)\n",
    "        # features = get_processed_data(i)\n",
    "        # features_and_labels.append(features,j)\n",
    "    # with open('f_and_l.pickle','wb') as f:\n",
    "    #     pickle.dump(features_and_labels,f)\n",
    "finally:\n",
    "    print(features_and_labels[0][0].shape)"
   ]
  },
  {
   "cell_type": "code",
   "execution_count": 12,
   "metadata": {},
   "outputs": [],
   "source": [
    "\n",
    "\n",
    "class DataSequenceRaw(tf.keras.utils.Sequence):\n",
    "\n",
    "    def __init__(self,data,batch_size):\n",
    "        self.data_size = len(data)\n",
    "        audios,labels = zip(*data)\n",
    "        self.X = np.array(audios)\n",
    "        self.Y = np.array(labels)\n",
    "        self.batch_size = batch_size\n",
    "\n",
    "        \n",
    "    def __len__(self):\n",
    "        return int(np.ceil(self.data_size / self.batch_size))\n",
    "\n",
    "    def __getitem__(self,idx):\n",
    "        s = idx * self.batch_size\n",
    "        e = (idx + 1) * self.batch_size\n",
    "        X = self.X[s:e]\n",
    "        Y = self.Y[s:e]\n",
    "        return X,Y\n"
   ]
  },
  {
   "cell_type": "code",
   "execution_count": 13,
   "metadata": {},
   "outputs": [],
   "source": [
    "def _get_train_val_size(total_examples,train_percent=70):\n",
    "    \n",
    "    train_ratio = round(train_percent)/100\n",
    "    remaining_percent = 100 - train_percent\n",
    "    test_percent = round(remaining_percent/3)*2\n",
    "    val_percent = remaining_percent - test_percent\n",
    "    val_ratio = val_percent/100\n",
    "    train_size = round(total_examples * train_ratio)\n",
    "    val_size = round(total_examples * val_ratio)\n",
    "    return train_size,val_size\n",
    "\n",
    "def get_data_raw(data,train_percent=70,batch_size=32):\n",
    "\n",
    "    train_size,val_size = _get_train_val_size(len(data),train_percent)\n",
    "\n",
    "    train_examples = data[:train_size]\n",
    "    val_examples = data[train_size:train_size+val_size]\n",
    "    test_examples = data[train_size+val_size:]\n",
    "\n",
    "    train = DataSequenceRaw(train_examples,batch_size=batch_size)\n",
    "    test = DataSequenceRaw(test_examples,batch_size=1)\n",
    "    val = DataSequenceRaw(val_examples,batch_size=batch_size)\n",
    "\n",
    "    return train,test,val\n",
    "\n",
    "train,test,val = get_data_raw(features_and_labels,train_percent=80)"
   ]
  },
  {
   "cell_type": "code",
   "execution_count": 14,
   "metadata": {},
   "outputs": [],
   "source": [
    "shape = train[0][0][0].shape\n",
    "input_shape = [*shape,1]"
   ]
  },
  {
   "cell_type": "code",
   "execution_count": 15,
   "metadata": {},
   "outputs": [],
   "source": [
    "def get_model(\n",
    "        input_shape,\n",
    "        output_neurons=1,\n",
    "        output_activation='sigmoid',\n",
    "        loss=tf.keras.losses.binary_crossentropy,\n",
    "        lr=0.0001\n",
    "):\n",
    "    _input = tf.keras.layers.Input(shape=input_shape)\n",
    "    x = tf.keras.layers.Conv2D(512,kernel_size=3,padding='valid',activation='relu')(_input)\n",
    "    x = tf.keras.layers.Conv2D(256,kernel_size=3,padding='valid',activation='relu')(x)\n",
    "    x = tf.keras.layers.MaxPool2D((2,2))(x)\n",
    "    x = tf.keras.layers.Conv2D(128,kernel_size=3,padding='valid',activation='relu')(x)\n",
    "    x = tf.keras.layers.Dropout(0.5)(x)\n",
    "    x = tf.keras.layers.Conv2D(128,kernel_size=3,padding='valid',activation='relu')(x)\n",
    "    x = tf.keras.layers.MaxPool2D((2,2))(x)\n",
    "    x = tf.keras.layers.Conv2D(64,kernel_size=3,padding='valid',activation='relu')(x)\n",
    "    x = tf.keras.layers.MaxPool2D((2,2))(x)\n",
    "    x = tf.keras.layers.Flatten()(x)\n",
    "    x = tf.keras.layers.Dense(1024,activation='relu')(x)\n",
    "    x = tf.keras.layers.Dropout(0.3)(x)\n",
    "    x = tf.keras.layers.Dense(1024,activation='relu')(x)\n",
    "    x = tf.keras.layers.Dropout(0.5)(x)\n",
    "    x = tf.keras.layers.Dense(1024,activation='relu')(x)\n",
    "    x = tf.keras.layers.Dropout(0.7)(x)\n",
    "    x = tf.keras.layers.Dense(1024,activation='relu')(x)\n",
    "    x = tf.keras.layers.Dense(10,activation='relu')(x)\n",
    "    outputs = tf.keras.layers.Dense(output_neurons,activation=output_activation,kernel_regularizer=tf.keras.regularizers.L2(l2=0.01))(x)\n",
    "    model = tf.keras.Model(inputs=_input,outputs=outputs)\n",
    "\n",
    "    model.compile(\n",
    "        loss=loss,\n",
    "        optimizer=tf.keras.optimizers.Adam(learning_rate=lr),\n",
    "        metrics=['accuracy'],\n",
    "    )\n",
    "\n",
    "    return model\n",
    "\n",
    "model = get_model(\n",
    "        input_shape=input_shape,\n",
    "        lr=0.001\n",
    ")\n",
    "\n"
   ]
  },
  {
   "cell_type": "code",
   "execution_count": 16,
   "metadata": {},
   "outputs": [
    {
     "name": "stdout",
     "output_type": "stream",
     "text": [
      "Epoch 1/100\n"
     ]
    },
    {
     "name": "stderr",
     "output_type": "stream",
     "text": [
      "2024-09-09 06:02:57.256851: E tensorflow/core/grappler/optimizers/meta_optimizer.cc:954] layout failed: INVALID_ARGUMENT: Size of values 0 does not match size of permutation 4 @ fanin shape inmodel/dropout/dropout/SelectV2-2-TransposeNHWCToNCHW-LayoutOptimizer\n",
      "2024-09-09 06:02:57.513903: I tensorflow/compiler/xla/stream_executor/cuda/cuda_dnn.cc:432] Loaded cuDNN version 8907\n",
      "2024-09-09 06:02:57.603436: I tensorflow/tsl/platform/default/subprocess.cc:304] Start cannot spawn child process: No such file or directory\n",
      "2024-09-09 06:02:58.263790: I tensorflow/compiler/xla/stream_executor/cuda/cuda_blas.cc:606] TensorFloat-32 will be used for the matrix multiplication. This will only be logged once.\n",
      "2024-09-09 06:02:58.308875: I tensorflow/compiler/xla/service/service.cc:168] XLA service 0x7f73822f1b10 initialized for platform CUDA (this does not guarantee that XLA will be used). Devices:\n",
      "2024-09-09 06:02:58.308903: I tensorflow/compiler/xla/service/service.cc:176]   StreamExecutor device (0): NVIDIA L40S, Compute Capability 8.9\n",
      "2024-09-09 06:02:58.312982: I tensorflow/compiler/mlir/tensorflow/utils/dump_mlir_util.cc:255] disabling MLIR crash reproducer, set env var `MLIR_CRASH_REPRODUCER_DIRECTORY` to enable.\n",
      "2024-09-09 06:02:58.371623: I tensorflow/tsl/platform/default/subprocess.cc:304] Start cannot spawn child process: No such file or directory\n",
      "2024-09-09 06:02:58.420176: I ./tensorflow/compiler/jit/device_compiler.h:186] Compiled cluster using XLA!  This line is logged at most once for the lifetime of the process.\n"
     ]
    },
    {
     "name": "stdout",
     "output_type": "stream",
     "text": [
      "567/567 [==============================] - 34s 51ms/step - loss: 0.4780 - accuracy: 0.8562 - val_loss: 0.3523 - val_accuracy: 0.9676 - lr: 0.0010\n",
      "Epoch 2/100\n",
      "567/567 [==============================] - 28s 49ms/step - loss: 0.2730 - accuracy: 0.9630 - val_loss: 0.2735 - val_accuracy: 0.9647 - lr: 0.0010\n",
      "Epoch 3/100\n",
      "567/567 [==============================] - 28s 49ms/step - loss: 0.2604 - accuracy: 0.9426 - val_loss: 0.1910 - val_accuracy: 0.9787 - lr: 0.0010\n",
      "Epoch 4/100\n",
      "567/567 [==============================] - 27s 48ms/step - loss: 0.1015 - accuracy: 0.9796 - val_loss: 0.1037 - val_accuracy: 0.9890 - lr: 0.0010\n",
      "Epoch 5/100\n",
      "567/567 [==============================] - 27s 48ms/step - loss: 0.0657 - accuracy: 0.9860 - val_loss: 0.1402 - val_accuracy: 0.9831 - lr: 0.0010\n",
      "Epoch 6/100\n",
      "567/567 [==============================] - 28s 49ms/step - loss: 0.1261 - accuracy: 0.9848 - val_loss: 0.1957 - val_accuracy: 0.9919 - lr: 0.0010\n",
      "Epoch 7/100\n",
      "567/567 [==============================] - 28s 49ms/step - loss: 0.0848 - accuracy: 0.9906 - val_loss: 0.1213 - val_accuracy: 0.9934 - lr: 0.0010\n",
      "Epoch 8/100\n",
      "567/567 [==============================] - 28s 49ms/step - loss: 0.1022 - accuracy: 0.9852 - val_loss: 0.0899 - val_accuracy: 0.9875 - lr: 0.0010\n",
      "Epoch 9/100\n",
      "567/567 [==============================] - 28s 49ms/step - loss: 0.1360 - accuracy: 0.9759 - val_loss: 0.0911 - val_accuracy: 0.9838 - lr: 0.0010\n",
      "Epoch 10/100\n",
      "567/567 [==============================] - 28s 49ms/step - loss: 0.1622 - accuracy: 0.9636 - val_loss: 0.1969 - val_accuracy: 0.9676 - lr: 0.0010\n",
      "Epoch 11/100\n",
      "567/567 [==============================] - 28s 49ms/step - loss: 0.0707 - accuracy: 0.9887 - val_loss: 0.1372 - val_accuracy: 0.9904 - lr: 1.0000e-04\n",
      "Epoch 12/100\n",
      "567/567 [==============================] - 28s 49ms/step - loss: 0.0490 - accuracy: 0.9937 - val_loss: 0.1518 - val_accuracy: 0.9912 - lr: 1.0000e-04\n",
      "Epoch 13/100\n",
      "567/567 [==============================] - 28s 49ms/step - loss: 0.0460 - accuracy: 0.9950 - val_loss: 0.1043 - val_accuracy: 0.9904 - lr: 1.0000e-04\n",
      "Epoch 14/100\n",
      "567/567 [==============================] - 28s 49ms/step - loss: 0.0439 - accuracy: 0.9951 - val_loss: 0.1127 - val_accuracy: 0.9919 - lr: 1.0000e-05\n",
      "Epoch 15/100\n",
      "567/567 [==============================] - 28s 49ms/step - loss: 0.0421 - accuracy: 0.9950 - val_loss: 0.1218 - val_accuracy: 0.9926 - lr: 1.0000e-05\n",
      "Epoch 16/100\n",
      "567/567 [==============================] - 28s 49ms/step - loss: 0.0415 - accuracy: 0.9954 - val_loss: 0.1239 - val_accuracy: 0.9934 - lr: 1.0000e-05\n",
      "Epoch 17/100\n",
      "567/567 [==============================] - 28s 49ms/step - loss: 0.0422 - accuracy: 0.9955 - val_loss: 0.1235 - val_accuracy: 0.9934 - lr: 1.0000e-06\n",
      "Epoch 18/100\n",
      "567/567 [==============================] - 28s 49ms/step - loss: 0.0431 - accuracy: 0.9953 - val_loss: 0.1236 - val_accuracy: 0.9934 - lr: 1.0000e-06\n",
      "Epoch 19/100\n",
      "567/567 [==============================] - 28s 49ms/step - loss: 0.0400 - accuracy: 0.9961 - val_loss: 0.1232 - val_accuracy: 0.9934 - lr: 1.0000e-06\n",
      "Epoch 20/100\n",
      "567/567 [==============================] - 28s 49ms/step - loss: 0.0424 - accuracy: 0.9954 - val_loss: 0.1232 - val_accuracy: 0.9934 - lr: 1.0000e-07\n",
      "Epoch 21/100\n",
      "567/567 [==============================] - 28s 49ms/step - loss: 0.0400 - accuracy: 0.9955 - val_loss: 0.1233 - val_accuracy: 0.9934 - lr: 1.0000e-07\n"
     ]
    }
   ],
   "source": [
    "reduce_lr = tf.keras.callbacks.ReduceLROnPlateau(monitor='val_accuracy',factor=0.1,patience=3,mode='max')\n",
    "early_stopping = tf.keras.callbacks.EarlyStopping(monitor='val_accuracy',patience=5,mode='max',restore_best_weights=True,start_from_epoch=10)\n",
    "with tf.device('/gpu'):\n",
    "    history = model.fit(train,epochs=100,validation_data=val,verbose=1,callbacks=[reduce_lr,early_stopping])"
   ]
  },
  {
   "cell_type": "code",
   "execution_count": 17,
   "metadata": {},
   "outputs": [
    {
     "name": "stdout",
     "output_type": "stream",
     "text": [
      "3171/3171 [==============================] - 6s 2ms/step - loss: 0.0472 - accuracy: 0.9921\n"
     ]
    },
    {
     "data": {
      "text/plain": [
       "[0.04715721681714058, 0.9921160340309143]"
      ]
     },
     "execution_count": 17,
     "metadata": {},
     "output_type": "execute_result"
    }
   ],
   "source": [
    "model.evaluate(test)"
   ]
  },
  {
   "cell_type": "code",
   "execution_count": 18,
   "metadata": {},
   "outputs": [],
   "source": [
    "folder_path = '/shareddrive/working/model_code/models/custom_model_4/trail_2'\n",
    "os.makedirs(folder_path,exist_ok=True)\n",
    "model_path = f'{folder_path}/16k_melspec-nfft-1024_h_cnn_dense_model.keras'\n",
    "model.save(model_path)"
   ]
  },
  {
   "cell_type": "code",
   "execution_count": null,
   "metadata": {},
   "outputs": [],
   "source": []
  }
 ],
 "metadata": {
  "kernelspec": {
   "display_name": "Python 3 (ipykernel)",
   "language": "python",
   "name": "python3"
  },
  "language_info": {
   "codemirror_mode": {
    "name": "ipython",
    "version": 3
   },
   "file_extension": ".py",
   "mimetype": "text/x-python",
   "name": "python",
   "nbconvert_exporter": "python",
   "pygments_lexer": "ipython3",
   "version": "3.8.10"
  }
 },
 "nbformat": 4,
 "nbformat_minor": 4
}
