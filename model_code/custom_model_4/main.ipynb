{
 "cells": [
  {
   "cell_type": "code",
   "execution_count": 1,
   "metadata": {},
   "outputs": [
    {
     "name": "stderr",
     "output_type": "stream",
     "text": [
      "2024-10-30 23:09:21.137029: I tensorflow/core/util/port.cc:153] oneDNN custom operations are on. You may see slightly different numerical results due to floating-point round-off errors from different computation orders. To turn them off, set the environment variable `TF_ENABLE_ONEDNN_OPTS=0`.\n",
      "2024-10-30 23:09:21.150487: E external/local_xla/xla/stream_executor/cuda/cuda_fft.cc:485] Unable to register cuFFT factory: Attempting to register factory for plugin cuFFT when one has already been registered\n",
      "2024-10-30 23:09:21.166288: E external/local_xla/xla/stream_executor/cuda/cuda_dnn.cc:8454] Unable to register cuDNN factory: Attempting to register factory for plugin cuDNN when one has already been registered\n",
      "2024-10-30 23:09:21.171050: E external/local_xla/xla/stream_executor/cuda/cuda_blas.cc:1452] Unable to register cuBLAS factory: Attempting to register factory for plugin cuBLAS when one has already been registered\n",
      "2024-10-30 23:09:21.183434: I tensorflow/core/platform/cpu_feature_guard.cc:210] This TensorFlow binary is optimized to use available CPU instructions in performance-critical operations.\n",
      "To enable the following instructions: AVX2 AVX512F AVX512_VNNI FMA, in other operations, rebuild TensorFlow with the appropriate compiler flags.\n"
     ]
    }
   ],
   "source": [
    "# from mobile_net import get_model\n",
    "import librosa\n",
    "import tensorflow as tf\n",
    "import glob\n",
    "import numpy as np\n",
    "import random\n",
    "import wave\n",
    "import os\n",
    "import pickle\n",
    "# import noisereduce as nr\n",
    "import requests"
   ]
  },
  {
   "cell_type": "code",
   "execution_count": 2,
   "metadata": {},
   "outputs": [
    {
     "name": "stderr",
     "output_type": "stream",
     "text": [
      "2024-10-30 23:09:22.826704: I tensorflow/core/common_runtime/gpu/gpu_device.cc:2021] Created device /job:localhost/replica:0/task:0/device:GPU:0 with 43629 MB memory:  -> device: 0, name: NVIDIA L40S, pci bus id: 0000:8b:00.0, compute capability: 8.9\n"
     ]
    },
    {
     "data": {
      "text/plain": [
       "[LogicalDevice(name='/device:GPU:0', device_type='GPU')]"
      ]
     },
     "execution_count": 2,
     "metadata": {},
     "output_type": "execute_result"
    }
   ],
   "source": [
    "gpus = tf.config.list_physical_devices('GPU')\n",
    "gpu = gpus[0]\n",
    "tf.config.experimental.set_memory_growth(gpu, True)\n",
    "tf.config.list_logical_devices('GPU')"
   ]
  },
  {
   "cell_type": "code",
   "execution_count": 3,
   "metadata": {},
   "outputs": [
    {
     "data": {
      "text/plain": [
       "[PhysicalDevice(name='/physical_device:GPU:0', device_type='GPU')]"
      ]
     },
     "execution_count": 3,
     "metadata": {},
     "output_type": "execute_result"
    }
   ],
   "source": [
    "tf.config.list_physical_devices('GPU')"
   ]
  },
  {
   "cell_type": "code",
   "execution_count": 4,
   "metadata": {},
   "outputs": [],
   "source": [
    "noise_path = '/shareddrive/working/data_code/data/neg_data/_background_noise_/chunks/2-5s_chunks/*'\n",
    "environment_path = '/shareddrive/working/data_code/data/neg_data/envornment/chunks/2-5s_chunks/*'\n",
    "word_path = '/shareddrive/working/data_code/data/neg_data/spcmd/all_words/original/*'\n",
    "# word_path = '/shareddrive/working/data_code/data/neg_data/spcmd/all_words/2-5s_chunks/*'\n",
    "recording_path = '/shareddrive/working/data_code/data/neg_data/internet_recordings/chunks/2-5s_chunks/2-5s_chunks/*'\n",
    "aug_recording_path = '/shareddrive/working/data_code/data/neg_data/internet_recordings/chunks/2-5s_chunks/2-5s_chunks_aug/*'"
   ]
  },
  {
   "cell_type": "code",
   "execution_count": 5,
   "metadata": {},
   "outputs": [
    {
     "data": {
      "text/plain": [
       "(515, 264, 64721, 8649, 16636)"
      ]
     },
     "execution_count": 5,
     "metadata": {},
     "output_type": "execute_result"
    }
   ],
   "source": [
    "word_files = glob.glob(word_path)\n",
    "environment_files = glob.glob(environment_path)\n",
    "noise_files = glob.glob(noise_path)\n",
    "recording_files = glob.glob(recording_path)\n",
    "aug_recording_files = glob.glob(aug_recording_path)\n",
    "len(environment_files),len(noise_files),len(word_files),len(recording_files),len(aug_recording_files)"
   ]
  },
  {
   "cell_type": "code",
   "execution_count": 6,
   "metadata": {},
   "outputs": [],
   "source": [
    "# def get_duration(audio_path):\n",
    "#     with wave.open(audio_path, 'rb') as wav_file:\n",
    "#         sample_rate = wav_file.getframerate()\n",
    "#         num_frames = wav_file.getnframes()\n",
    "#         duration = num_frames / sample_rate\n",
    "#     return duration"
   ]
  },
  {
   "cell_type": "code",
   "execution_count": 7,
   "metadata": {},
   "outputs": [],
   "source": [
    "limit = 1.5\n",
    "keyword_path = '/shareddrive/working/data_code/data/adele/augmented/*'\n",
    "keyword_folders = glob.glob(keyword_path)\n",
    "keyword_files = [j for i in keyword_folders for j in glob.glob(f'{i}/*')]\n",
    "# keyword_files = [j for i in keyword_folders for j in glob.glob(f'{i}/*') if get_duration(j) <= limit]\n",
    "# keyword_path = '/shareddrive/working/data_code/data/hilfe_hilfe/augmented/*'\n",
    "# keyword_folders = glob.glob(keyword_path)\n",
    "# keyword_files = [j for i in keyword_folders for j in glob.glob(f'{i}/*')]\n",
    "# keyword_files = [j for i in keyword_folders for j in glob.glob(f'{i}/*') if get_duration(j) <= limit]"
   ]
  },
  {
   "cell_type": "code",
   "execution_count": 8,
   "metadata": {},
   "outputs": [
    {
     "data": {
      "text/plain": [
       "14250"
      ]
     },
     "execution_count": 8,
     "metadata": {},
     "output_type": "execute_result"
    }
   ],
   "source": [
    "len(keyword_files)"
   ]
  },
  {
   "cell_type": "code",
   "execution_count": 9,
   "metadata": {},
   "outputs": [],
   "source": [
    "# DEEPGRAM_API_KEY = '4207b8a639744fbdbe634616684bf7d67c8791e2'\n",
    "# url = 'https://api.deepgram.com/v1/listen'\n",
    "# headers = {\n",
    "#     'Authorization': f'Token {DEEPGRAM_API_KEY}',\n",
    "#     'Content-Type': 'audio/wav'\n",
    "# }\n",
    "# params = {\n",
    "#     'language': 'de',  # Specify the language as German\n",
    "#     'tier': 'enhanced',  # Use the enhanced tier for better accuracy\n",
    "#     'model': 'general'  # Specify the model\n",
    "# }\n",
    "# ad_files = list()\n",
    "# for i in adele_files:\n",
    "#     # Read the audio file\n",
    "#     with open(i, 'rb') as audio_file:\n",
    "#         response = requests.post(url, headers=headers, params=params, data=audio_file)\n",
    "\n",
    "#     if response.status_code == 200:\n",
    "#         if 'adele' in response.json()['results']['channels'][0]['alternatives'][0]['transcript']:\n",
    "#             ad_files.append(i)\n",
    "#     else:\n",
    "#         print(\"Error:\", response.json())\n",
    "# len(ad_files)"
   ]
  },
  {
   "cell_type": "code",
   "execution_count": 10,
   "metadata": {},
   "outputs": [
    {
     "data": {
      "text/plain": [
       "(28664, 14250, 14414)"
      ]
     },
     "execution_count": 10,
     "metadata": {},
     "output_type": "execute_result"
    }
   ],
   "source": [
    "no_of_files = 1109+660\n",
    "file_path_and_labels = list()\n",
    "# file_path_and_labels.extend([(i,1) for i in random.sample(adele_files,no_of_files)])\n",
    "file_path_and_labels.extend([(i,1) for i in keyword_files])\n",
    "# avg_files = (len(adele_files) + len(hilfe_files)) // 2\n",
    "avg_files = int(len(keyword_files)/8)\n",
    "file_path_and_labels.extend([(i,0) for i in random.sample(aug_recording_files,int(avg_files*1.8))])\n",
    "file_path_and_labels.extend([(i,0) for i in recording_files])\n",
    "# file_path_and_labels.extend([(i,0) for i in aug_recording_files])\n",
    "file_path_and_labels.extend([(i,0) for i in random.sample(word_files,avg_files)])\n",
    "file_path_and_labels.extend([(i,0) for i in noise_files])\n",
    "file_path_and_labels.extend([(i,0) for i in environment_files])\n",
    "random.shuffle(file_path_and_labels)\n",
    "# avg_files\n",
    "len(file_path_and_labels),len(keyword_files),len(file_path_and_labels)-len(keyword_files),"
   ]
  },
  {
   "cell_type": "code",
   "execution_count": 11,
   "metadata": {},
   "outputs": [
    {
     "data": {
      "text/plain": [
       "['/shareddrive/working/data_code/data/neg_data/internet_recordings/chunks/2-5s_chunks/2-5s_chunks_aug/bc_00971196588c18.wav',\n",
       " '/shareddrive/working/data_code/data/neg_data/internet_recordings/chunks/2-5s_chunks/2-5s_chunks_aug/bc_0158312d4f0770.wav',\n",
       " '/shareddrive/working/data_code/data/neg_data/internet_recordings/chunks/2-5s_chunks/2-5s_chunks_aug/bc_01871f09884cd9.wav',\n",
       " '/shareddrive/working/data_code/data/neg_data/internet_recordings/chunks/2-5s_chunks/2-5s_chunks_aug/bc_0196c8eea5ce69.wav',\n",
       " '/shareddrive/working/data_code/data/neg_data/internet_recordings/chunks/2-5s_chunks/2-5s_chunks_aug/bc_01bba8d5689f14.wav',\n",
       " '/shareddrive/working/data_code/data/neg_data/internet_recordings/chunks/2-5s_chunks/2-5s_chunks_aug/bc_01c43346f4810d.wav',\n",
       " '/shareddrive/working/data_code/data/neg_data/internet_recordings/chunks/2-5s_chunks/2-5s_chunks_aug/bc_01e05a3f58c559.wav',\n",
       " '/shareddrive/working/data_code/data/neg_data/internet_recordings/chunks/2-5s_chunks/2-5s_chunks_aug/bc_01f0eacb0ea01a.wav',\n",
       " '/shareddrive/working/data_code/data/neg_data/internet_recordings/chunks/2-5s_chunks/2-5s_chunks_aug/bc_023fb720946c18.wav',\n",
       " '/shareddrive/working/data_code/data/neg_data/internet_recordings/chunks/2-5s_chunks/2-5s_chunks_aug/bc_024bde1533f462.wav',\n",
       " '/shareddrive/working/data_code/data/neg_data/internet_recordings/chunks/2-5s_chunks/2-5s_chunks_aug/bc_02acc8b1bf49ad.wav',\n",
       " '/shareddrive/working/data_code/data/neg_data/internet_recordings/chunks/2-5s_chunks/2-5s_chunks_aug/bc_02f217770efd6e.wav',\n",
       " '/shareddrive/working/data_code/data/neg_data/internet_recordings/chunks/2-5s_chunks/2-5s_chunks_aug/bc_030a34b335f362.wav',\n",
       " '/shareddrive/working/data_code/data/neg_data/internet_recordings/chunks/2-5s_chunks/2-5s_chunks_aug/bc_032b9dc19ca98d.wav',\n",
       " '/shareddrive/working/data_code/data/neg_data/internet_recordings/chunks/2-5s_chunks/2-5s_chunks_aug/bc_036fbc37f6d84b.wav',\n",
       " '/shareddrive/working/data_code/data/neg_data/internet_recordings/chunks/2-5s_chunks/2-5s_chunks_aug/bc_03940b023dca21.wav',\n",
       " '/shareddrive/working/data_code/data/neg_data/internet_recordings/chunks/2-5s_chunks/2-5s_chunks_aug/bc_039ad6e789dff0.wav',\n",
       " '/shareddrive/working/data_code/data/neg_data/internet_recordings/chunks/2-5s_chunks/2-5s_chunks_aug/bc_03e9430ca0cbe6.wav',\n",
       " '/shareddrive/working/data_code/data/neg_data/internet_recordings/chunks/2-5s_chunks/2-5s_chunks_aug/bc_03f2c01a9121e6.wav',\n",
       " '/shareddrive/working/data_code/data/neg_data/internet_recordings/chunks/2-5s_chunks/2-5s_chunks_aug/bc_0429f1673aad3f.wav']"
      ]
     },
     "execution_count": 11,
     "metadata": {},
     "output_type": "execute_result"
    }
   ],
   "source": [
    "aug_recording_files[:20]"
   ]
  },
  {
   "cell_type": "code",
   "execution_count": 12,
   "metadata": {},
   "outputs": [
    {
     "name": "stdout",
     "output_type": "stream",
     "text": [
      "(128, 32)\n"
     ]
    }
   ],
   "source": [
    "sr = 16000\n",
    "max_seconds = 1#2.5\n",
    "pad_or_trunc = lambda a,i : a[0:i] if len(a) > i else a if len(a) == i else np.pad(a,(0, (i-len(a))))\n",
    "\n",
    "def process_data(y,sr,max_seconds):\n",
    "    y = pad_or_trunc(y,int(sr*max_seconds))\n",
    "    features = librosa.feature.melspectrogram(y=y,sr=sr,n_fft=1024)\n",
    "    return features\n",
    "    \n",
    "def get_processed_data(audio_file):\n",
    "    y,_ = librosa.load(audio_file,sr=sr)\n",
    "    # y = nr.reduce_noise(y=y, sr=sr,n_fft=1024)\n",
    "    # y[np.isnan(y)] = 0\n",
    "    features = process_data(y,sr,max_seconds)\n",
    "    return features\n",
    "try:\n",
    "    with open('f_and_ls.pickle','rb') as f:\n",
    "        features_and_labels = pickle.load(f)\n",
    "except:\n",
    "    features_and_labels = list()\n",
    "    for i,j in file_path_and_labels:\n",
    "        try:\n",
    "            features = get_processed_data(i)\n",
    "            features_and_labels.append((features,j))\n",
    "        except Exception as e: \n",
    "            print(i)\n",
    "            print(e)\n",
    "        # features = get_processed_data(i)\n",
    "        # features_and_labels.append(features,j)\n",
    "    # with open('f_and_l.pickle','wb') as f:\n",
    "    #     pickle.dump(features_and_labels,f)\n",
    "finally:\n",
    "    print(features_and_labels[0][0].shape)"
   ]
  },
  {
   "cell_type": "code",
   "execution_count": 13,
   "metadata": {},
   "outputs": [],
   "source": [
    "\n",
    "\n",
    "class DataSequenceRaw(tf.keras.utils.Sequence):\n",
    "\n",
    "    def __init__(self,data,batch_size):\n",
    "        self.data_size = len(data)\n",
    "        audios,labels = zip(*data)\n",
    "        self.X = np.array(audios)\n",
    "        self.Y = np.array(labels)\n",
    "        self.batch_size = batch_size\n",
    "\n",
    "        \n",
    "    def __len__(self):\n",
    "        return int(np.ceil(self.data_size / self.batch_size))\n",
    "\n",
    "    def __getitem__(self,idx):\n",
    "        s = idx * self.batch_size\n",
    "        e = (idx + 1) * self.batch_size\n",
    "        X = self.X[s:e]\n",
    "        Y = self.Y[s:e]\n",
    "        return X,Y\n"
   ]
  },
  {
   "cell_type": "code",
   "execution_count": 14,
   "metadata": {},
   "outputs": [],
   "source": [
    "def _get_train_val_size(total_examples,train_percent=70):\n",
    "    \n",
    "    train_ratio = round(train_percent)/100\n",
    "    remaining_percent = 100 - train_percent\n",
    "    test_percent = round(remaining_percent/3)*2\n",
    "    val_percent = remaining_percent - test_percent\n",
    "    val_ratio = val_percent/100\n",
    "    train_size = round(total_examples * train_ratio)\n",
    "    val_size = round(total_examples * val_ratio)\n",
    "    return train_size,val_size\n",
    "\n",
    "def get_data_raw(data,train_percent=70,batch_size=32):\n",
    "\n",
    "    train_size,val_size = _get_train_val_size(len(data),train_percent)\n",
    "\n",
    "    train_examples = data[:train_size]\n",
    "    val_examples = data[train_size:train_size+val_size]\n",
    "    test_examples = data[train_size+val_size:]\n",
    "\n",
    "    train = DataSequenceRaw(train_examples,batch_size=batch_size)\n",
    "    test = DataSequenceRaw(test_examples,batch_size=1)\n",
    "    val = DataSequenceRaw(val_examples,batch_size=batch_size)\n",
    "\n",
    "    return train,test,val\n",
    "\n",
    "train,test,val = get_data_raw(features_and_labels,train_percent=80)"
   ]
  },
  {
   "cell_type": "code",
   "execution_count": 15,
   "metadata": {},
   "outputs": [],
   "source": [
    "shape = train[0][0][0].shape\n",
    "input_shape = [*shape,1]"
   ]
  },
  {
   "cell_type": "code",
   "execution_count": 16,
   "metadata": {},
   "outputs": [],
   "source": [
    "def get_model(\n",
    "        input_shape,\n",
    "        output_neurons=1,\n",
    "        output_activation='sigmoid',\n",
    "        loss=tf.keras.losses.binary_crossentropy,\n",
    "        lr=0.0001\n",
    "):\n",
    "    _input = tf.keras.layers.Input(shape=input_shape)\n",
    "    x = tf.keras.layers.Conv2D(512,kernel_size=3,padding='valid',activation='relu')(_input)\n",
    "    x = tf.keras.layers.Conv2D(256,kernel_size=3,padding='valid',activation='relu')(x)\n",
    "    x = tf.keras.layers.MaxPool2D((2,2))(x)\n",
    "    x = tf.keras.layers.Conv2D(128,kernel_size=3,padding='valid',activation='relu')(x)\n",
    "    x = tf.keras.layers.Dropout(0.5)(x)\n",
    "    x = tf.keras.layers.Conv2D(128,kernel_size=3,padding='valid',activation='relu')(x)\n",
    "    x = tf.keras.layers.MaxPool2D((2,2))(x)\n",
    "    x = tf.keras.layers.Conv2D(64,kernel_size=3,padding='valid',activation='relu')(x)\n",
    "    x = tf.keras.layers.MaxPool2D((2,2))(x)\n",
    "    x = tf.keras.layers.Flatten()(x)\n",
    "    x = tf.keras.layers.Dense(1024,activation='relu')(x)\n",
    "    x = tf.keras.layers.Dropout(0.3)(x)\n",
    "    x = tf.keras.layers.Dense(1024,activation='relu')(x)\n",
    "    x = tf.keras.layers.Dropout(0.5)(x)\n",
    "    x = tf.keras.layers.Dense(1024,activation='relu')(x)\n",
    "    x = tf.keras.layers.Dropout(0.7)(x)\n",
    "    x = tf.keras.layers.Dense(1024,activation='relu')(x)\n",
    "    x = tf.keras.layers.Dense(10,activation='relu')(x)\n",
    "    outputs = tf.keras.layers.Dense(output_neurons,activation=output_activation,kernel_regularizer=tf.keras.regularizers.L2(l2=0.01))(x)\n",
    "    model = tf.keras.Model(inputs=_input,outputs=outputs)\n",
    "\n",
    "    model.compile(\n",
    "        loss=loss,\n",
    "        optimizer=tf.keras.optimizers.Adam(learning_rate=lr),\n",
    "        metrics=['accuracy'],\n",
    "    )\n",
    "\n",
    "    return model\n",
    "\n",
    "model = get_model(\n",
    "        input_shape=input_shape,\n",
    "        lr=0.001\n",
    ")\n",
    "\n"
   ]
  },
  {
   "cell_type": "code",
   "execution_count": 17,
   "metadata": {},
   "outputs": [
    {
     "name": "stdout",
     "output_type": "stream",
     "text": [
      "Epoch 1/100\n"
     ]
    },
    {
     "name": "stderr",
     "output_type": "stream",
     "text": [
      "/usr/local/lib/python3.11/dist-packages/keras/src/trainers/data_adapters/py_dataset_adapter.py:121: UserWarning: Your `PyDataset` class should call `super().__init__(**kwargs)` in its constructor. `**kwargs` can include `workers`, `use_multiprocessing`, `max_queue_size`. Do not pass these arguments to `fit()`, as they will be ignored.\n",
      "  self._warn_if_super_not_called()\n",
      "WARNING: All log messages before absl::InitializeLog() is called are written to STDERR\n",
      "I0000 00:00:1730330813.516126    3956 service.cc:146] XLA service 0x7fa168004660 initialized for platform CUDA (this does not guarantee that XLA will be used). Devices:\n",
      "I0000 00:00:1730330813.516160    3956 service.cc:154]   StreamExecutor device (0): NVIDIA L40S, Compute Capability 8.9\n",
      "2024-10-30 23:26:53.572778: I tensorflow/compiler/mlir/tensorflow/utils/dump_mlir_util.cc:268] disabling MLIR crash reproducer, set env var `MLIR_CRASH_REPRODUCER_DIRECTORY` to enable.\n",
      "2024-10-30 23:26:53.913966: I external/local_xla/xla/stream_executor/cuda/cuda_dnn.cc:531] Loaded cuDNN version 8906\n",
      "2024-10-30 23:26:54.946251: I external/local_xla/xla/stream_executor/cuda/cuda_asm_compiler.cc:393] ptxas warning : Registers are spilled to local memory in function 'gemm_fusion_dot_2069', 188 bytes spill stores, 188 bytes spill loads\n",
      "\n"
     ]
    },
    {
     "name": "stdout",
     "output_type": "stream",
     "text": [
      "\u001b[1m 10/717\u001b[0m \u001b[37m━━━━━━━━━━━━━━━━━━━━\u001b[0m \u001b[1m13s\u001b[0m 19ms/step - accuracy: 0.5307 - loss: 0.8412"
     ]
    },
    {
     "name": "stderr",
     "output_type": "stream",
     "text": [
      "I0000 00:00:1730330820.055048    3956 device_compiler.h:188] Compiled cluster using XLA!  This line is logged at most once for the lifetime of the process.\n"
     ]
    },
    {
     "name": "stdout",
     "output_type": "stream",
     "text": [
      "\u001b[1m559/717\u001b[0m \u001b[32m━━━━━━━━━━━━━━━\u001b[0m\u001b[37m━━━━━\u001b[0m \u001b[1m2s\u001b[0m 18ms/step - accuracy: 0.8484 - loss: 0.4508"
     ]
    },
    {
     "name": "stderr",
     "output_type": "stream",
     "text": [
      "2024-10-30 23:27:11.676394: I external/local_xla/xla/stream_executor/cuda/cuda_asm_compiler.cc:393] ptxas warning : Registers are spilled to local memory in function 'gemm_fusion_dot_2069', 232 bytes spill stores, 232 bytes spill loads\n",
      "\n"
     ]
    },
    {
     "name": "stdout",
     "output_type": "stream",
     "text": [
      "\u001b[1m716/717\u001b[0m \u001b[32m━━━━━━━━━━━━━━━━━━━\u001b[0m\u001b[37m━\u001b[0m \u001b[1m0s\u001b[0m 26ms/step - accuracy: 0.8596 - loss: 0.4197"
     ]
    },
    {
     "name": "stderr",
     "output_type": "stream",
     "text": [
      "2024-10-30 23:27:19.449484: I external/local_xla/xla/stream_executor/cuda/cuda_asm_compiler.cc:393] ptxas warning : Registers are spilled to local memory in function 'gemm_fusion_dot_102', 132 bytes spill stores, 132 bytes spill loads\n",
      "\n",
      "2024-10-30 23:27:21.986207: I external/local_xla/xla/stream_executor/cuda/cuda_asm_compiler.cc:393] ptxas warning : Registers are spilled to local memory in function 'gemm_fusion_dot_102', 32 bytes spill stores, 32 bytes spill loads\n",
      "\n",
      "2024-10-30 23:27:22.132793: I external/local_xla/xla/stream_executor/cuda/cuda_asm_compiler.cc:393] ptxas warning : Registers are spilled to local memory in function 'gemm_fusion_dot_102', 200 bytes spill stores, 200 bytes spill loads\n",
      "\n",
      "2024-10-30 23:27:22.364270: I external/local_xla/xla/stream_executor/cuda/cuda_asm_compiler.cc:393] ptxas warning : Registers are spilled to local memory in function 'gemm_fusion_dot_102', 12 bytes spill stores, 12 bytes spill loads\n",
      "\n",
      "2024-10-30 23:27:22.591979: I external/local_xla/xla/stream_executor/cuda/cuda_asm_compiler.cc:393] ptxas warning : Registers are spilled to local memory in function 'gemm_fusion_dot_123', 232 bytes spill stores, 232 bytes spill loads\n",
      "\n"
     ]
    },
    {
     "name": "stdout",
     "output_type": "stream",
     "text": [
      "\u001b[1m717/717\u001b[0m \u001b[32m━━━━━━━━━━━━━━━━━━━━\u001b[0m\u001b[37m\u001b[0m \u001b[1m33s\u001b[0m 33ms/step - accuracy: 0.8597 - loss: 0.4194 - val_accuracy: 0.9529 - val_loss: 0.1478 - learning_rate: 0.0010\n",
      "Epoch 2/100\n",
      "\u001b[1m717/717\u001b[0m \u001b[32m━━━━━━━━━━━━━━━━━━━━\u001b[0m\u001b[37m\u001b[0m \u001b[1m13s\u001b[0m 19ms/step - accuracy: 0.9557 - loss: 0.1442 - val_accuracy: 0.9727 - val_loss: 0.0858 - learning_rate: 0.0010\n",
      "Epoch 3/100\n",
      "\u001b[1m717/717\u001b[0m \u001b[32m━━━━━━━━━━━━━━━━━━━━\u001b[0m\u001b[37m\u001b[0m \u001b[1m13s\u001b[0m 19ms/step - accuracy: 0.9530 - loss: 0.1670 - val_accuracy: 0.9802 - val_loss: 0.0781 - learning_rate: 0.0010\n",
      "Epoch 4/100\n",
      "\u001b[1m717/717\u001b[0m \u001b[32m━━━━━━━━━━━━━━━━━━━━\u001b[0m\u001b[37m\u001b[0m \u001b[1m13s\u001b[0m 19ms/step - accuracy: 0.9763 - loss: 0.0800 - val_accuracy: 0.9907 - val_loss: 0.0294 - learning_rate: 0.0010\n",
      "Epoch 5/100\n",
      "\u001b[1m717/717\u001b[0m \u001b[32m━━━━━━━━━━━━━━━━━━━━\u001b[0m\u001b[37m\u001b[0m \u001b[1m13s\u001b[0m 19ms/step - accuracy: 0.9816 - loss: 0.0671 - val_accuracy: 0.9936 - val_loss: 0.0228 - learning_rate: 0.0010\n",
      "Epoch 6/100\n",
      "\u001b[1m717/717\u001b[0m \u001b[32m━━━━━━━━━━━━━━━━━━━━\u001b[0m\u001b[37m\u001b[0m \u001b[1m13s\u001b[0m 19ms/step - accuracy: 0.9865 - loss: 0.0468 - val_accuracy: 0.9913 - val_loss: 0.0219 - learning_rate: 0.0010\n",
      "Epoch 7/100\n",
      "\u001b[1m717/717\u001b[0m \u001b[32m━━━━━━━━━━━━━━━━━━━━\u001b[0m\u001b[37m\u001b[0m \u001b[1m13s\u001b[0m 19ms/step - accuracy: 0.9884 - loss: 0.0364 - val_accuracy: 0.9936 - val_loss: 0.0262 - learning_rate: 0.0010\n",
      "Epoch 8/100\n",
      "\u001b[1m717/717\u001b[0m \u001b[32m━━━━━━━━━━━━━━━━━━━━\u001b[0m\u001b[37m\u001b[0m \u001b[1m13s\u001b[0m 19ms/step - accuracy: 0.9863 - loss: 0.0547 - val_accuracy: 0.9895 - val_loss: 0.0356 - learning_rate: 0.0010\n",
      "Epoch 9/100\n",
      "\u001b[1m717/717\u001b[0m \u001b[32m━━━━━━━━━━━━━━━━━━━━\u001b[0m\u001b[37m\u001b[0m \u001b[1m13s\u001b[0m 19ms/step - accuracy: 0.9920 - loss: 0.0264 - val_accuracy: 0.9959 - val_loss: 0.0128 - learning_rate: 1.0000e-04\n",
      "Epoch 10/100\n",
      "\u001b[1m717/717\u001b[0m \u001b[32m━━━━━━━━━━━━━━━━━━━━\u001b[0m\u001b[37m\u001b[0m \u001b[1m13s\u001b[0m 19ms/step - accuracy: 0.9952 - loss: 0.0163 - val_accuracy: 0.9959 - val_loss: 0.0094 - learning_rate: 1.0000e-04\n",
      "Epoch 11/100\n",
      "\u001b[1m717/717\u001b[0m \u001b[32m━━━━━━━━━━━━━━━━━━━━\u001b[0m\u001b[37m\u001b[0m \u001b[1m14s\u001b[0m 19ms/step - accuracy: 0.9963 - loss: 0.0130 - val_accuracy: 0.9953 - val_loss: 0.0085 - learning_rate: 1.0000e-04\n",
      "Epoch 12/100\n",
      "\u001b[1m717/717\u001b[0m \u001b[32m━━━━━━━━━━━━━━━━━━━━\u001b[0m\u001b[37m\u001b[0m \u001b[1m13s\u001b[0m 19ms/step - accuracy: 0.9971 - loss: 0.0119 - val_accuracy: 0.9959 - val_loss: 0.0084 - learning_rate: 1.0000e-04\n",
      "Epoch 13/100\n",
      "\u001b[1m717/717\u001b[0m \u001b[32m━━━━━━━━━━━━━━━━━━━━\u001b[0m\u001b[37m\u001b[0m \u001b[1m13s\u001b[0m 19ms/step - accuracy: 0.9971 - loss: 0.0086 - val_accuracy: 0.9971 - val_loss: 0.0067 - learning_rate: 1.0000e-05\n",
      "Epoch 14/100\n",
      "\u001b[1m717/717\u001b[0m \u001b[32m━━━━━━━━━━━━━━━━━━━━\u001b[0m\u001b[37m\u001b[0m \u001b[1m13s\u001b[0m 19ms/step - accuracy: 0.9970 - loss: 0.0089 - val_accuracy: 0.9971 - val_loss: 0.0063 - learning_rate: 1.0000e-05\n",
      "Epoch 15/100\n",
      "\u001b[1m717/717\u001b[0m \u001b[32m━━━━━━━━━━━━━━━━━━━━\u001b[0m\u001b[37m\u001b[0m \u001b[1m13s\u001b[0m 19ms/step - accuracy: 0.9975 - loss: 0.0073 - val_accuracy: 0.9971 - val_loss: 0.0063 - learning_rate: 1.0000e-05\n",
      "Epoch 16/100\n",
      "\u001b[1m717/717\u001b[0m \u001b[32m━━━━━━━━━━━━━━━━━━━━\u001b[0m\u001b[37m\u001b[0m \u001b[1m13s\u001b[0m 19ms/step - accuracy: 0.9974 - loss: 0.0085 - val_accuracy: 0.9977 - val_loss: 0.0053 - learning_rate: 1.0000e-05\n",
      "Epoch 17/100\n",
      "\u001b[1m717/717\u001b[0m \u001b[32m━━━━━━━━━━━━━━━━━━━━\u001b[0m\u001b[37m\u001b[0m \u001b[1m13s\u001b[0m 19ms/step - accuracy: 0.9974 - loss: 0.0088 - val_accuracy: 0.9977 - val_loss: 0.0053 - learning_rate: 1.0000e-05\n",
      "Epoch 18/100\n",
      "\u001b[1m717/717\u001b[0m \u001b[32m━━━━━━━━━━━━━━━━━━━━\u001b[0m\u001b[37m\u001b[0m \u001b[1m13s\u001b[0m 19ms/step - accuracy: 0.9971 - loss: 0.0084 - val_accuracy: 0.9977 - val_loss: 0.0051 - learning_rate: 1.0000e-05\n",
      "Epoch 19/100\n",
      "\u001b[1m717/717\u001b[0m \u001b[32m━━━━━━━━━━━━━━━━━━━━\u001b[0m\u001b[37m\u001b[0m \u001b[1m13s\u001b[0m 19ms/step - accuracy: 0.9975 - loss: 0.0080 - val_accuracy: 0.9983 - val_loss: 0.0050 - learning_rate: 1.0000e-05\n",
      "Epoch 20/100\n",
      "\u001b[1m717/717\u001b[0m \u001b[32m━━━━━━━━━━━━━━━━━━━━\u001b[0m\u001b[37m\u001b[0m \u001b[1m13s\u001b[0m 19ms/step - accuracy: 0.9975 - loss: 0.0072 - val_accuracy: 0.9983 - val_loss: 0.0051 - learning_rate: 1.0000e-05\n",
      "Epoch 21/100\n",
      "\u001b[1m717/717\u001b[0m \u001b[32m━━━━━━━━━━━━━━━━━━━━\u001b[0m\u001b[37m\u001b[0m \u001b[1m13s\u001b[0m 19ms/step - accuracy: 0.9981 - loss: 0.0068 - val_accuracy: 0.9983 - val_loss: 0.0049 - learning_rate: 1.0000e-05\n",
      "Epoch 22/100\n",
      "\u001b[1m717/717\u001b[0m \u001b[32m━━━━━━━━━━━━━━━━━━━━\u001b[0m\u001b[37m\u001b[0m \u001b[1m13s\u001b[0m 19ms/step - accuracy: 0.9982 - loss: 0.0069 - val_accuracy: 0.9983 - val_loss: 0.0050 - learning_rate: 1.0000e-05\n",
      "Epoch 23/100\n",
      "\u001b[1m717/717\u001b[0m \u001b[32m━━━━━━━━━━━━━━━━━━━━\u001b[0m\u001b[37m\u001b[0m \u001b[1m13s\u001b[0m 19ms/step - accuracy: 0.9976 - loss: 0.0069 - val_accuracy: 0.9983 - val_loss: 0.0049 - learning_rate: 1.0000e-06\n",
      "Epoch 24/100\n",
      "\u001b[1m717/717\u001b[0m \u001b[32m━━━━━━━━━━━━━━━━━━━━\u001b[0m\u001b[37m\u001b[0m \u001b[1m13s\u001b[0m 19ms/step - accuracy: 0.9979 - loss: 0.0059 - val_accuracy: 0.9983 - val_loss: 0.0049 - learning_rate: 1.0000e-06\n"
     ]
    }
   ],
   "source": [
    "reduce_lr = tf.keras.callbacks.ReduceLROnPlateau(monitor='val_accuracy',factor=0.1,patience=3,mode='max')\n",
    "early_stopping = tf.keras.callbacks.EarlyStopping(monitor='val_accuracy',patience=5,mode='max',restore_best_weights=True,start_from_epoch=10)\n",
    "with tf.device('/gpu'):\n",
    "    history = model.fit(train,epochs=100,validation_data=val,verbose=1,callbacks=[reduce_lr,early_stopping])"
   ]
  },
  {
   "cell_type": "code",
   "execution_count": 18,
   "metadata": {},
   "outputs": [
    {
     "name": "stdout",
     "output_type": "stream",
     "text": [
      "\u001b[1m4013/4013\u001b[0m \u001b[32m━━━━━━━━━━━━━━━━━━━━\u001b[0m\u001b[37m\u001b[0m \u001b[1m5s\u001b[0m 994us/step - accuracy: 0.9951 - loss: 0.0183\n"
     ]
    },
    {
     "data": {
      "text/plain": [
       "[0.022720249369740486, 0.9937702417373657]"
      ]
     },
     "execution_count": 18,
     "metadata": {},
     "output_type": "execute_result"
    }
   ],
   "source": [
    "model.evaluate(test)"
   ]
  },
  {
   "cell_type": "code",
   "execution_count": 19,
   "metadata": {},
   "outputs": [],
   "source": [
    "folder_path = '/shareddrive/working/model_code/models/custom_model_4/trail_7'\n",
    "os.makedirs(folder_path,exist_ok=True)\n",
    "model_path = f'{folder_path}/16k_melspec-nfft-1024_a_cnn_dense_model.keras'\n",
    "model.save(model_path)"
   ]
  },
  {
   "cell_type": "code",
   "execution_count": null,
   "metadata": {},
   "outputs": [],
   "source": []
  }
 ],
 "metadata": {
  "kernelspec": {
   "display_name": "Python 3 (ipykernel)",
   "language": "python",
   "name": "python3"
  },
  "language_info": {
   "codemirror_mode": {
    "name": "ipython",
    "version": 3
   },
   "file_extension": ".py",
   "mimetype": "text/x-python",
   "name": "python",
   "nbconvert_exporter": "python",
   "pygments_lexer": "ipython3",
   "version": "3.11.0rc1"
  }
 },
 "nbformat": 4,
 "nbformat_minor": 4
}
