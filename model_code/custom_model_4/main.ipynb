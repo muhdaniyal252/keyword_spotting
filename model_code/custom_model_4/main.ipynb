{
 "cells": [
  {
   "cell_type": "code",
   "execution_count": 1,
   "metadata": {},
   "outputs": [
    {
     "name": "stderr",
     "output_type": "stream",
     "text": [
      "2024-10-30 08:01:39.676154: I tensorflow/core/util/port.cc:153] oneDNN custom operations are on. You may see slightly different numerical results due to floating-point round-off errors from different computation orders. To turn them off, set the environment variable `TF_ENABLE_ONEDNN_OPTS=0`.\n",
      "2024-10-30 08:01:41.341414: E external/local_xla/xla/stream_executor/cuda/cuda_fft.cc:485] Unable to register cuFFT factory: Attempting to register factory for plugin cuFFT when one has already been registered\n",
      "2024-10-30 08:01:41.932594: E external/local_xla/xla/stream_executor/cuda/cuda_dnn.cc:8454] Unable to register cuDNN factory: Attempting to register factory for plugin cuDNN when one has already been registered\n",
      "2024-10-30 08:01:42.093745: E external/local_xla/xla/stream_executor/cuda/cuda_blas.cc:1452] Unable to register cuBLAS factory: Attempting to register factory for plugin cuBLAS when one has already been registered\n",
      "2024-10-30 08:01:43.300432: I tensorflow/core/platform/cpu_feature_guard.cc:210] This TensorFlow binary is optimized to use available CPU instructions in performance-critical operations.\n",
      "To enable the following instructions: AVX2 AVX512F AVX512_VNNI FMA, in other operations, rebuild TensorFlow with the appropriate compiler flags.\n"
     ]
    }
   ],
   "source": [
    "# from mobile_net import get_model\n",
    "import librosa\n",
    "import tensorflow as tf\n",
    "import glob\n",
    "import numpy as np\n",
    "import random\n",
    "import wave\n",
    "import os\n",
    "import pickle\n",
    "# import noisereduce as nr\n",
    "import requests"
   ]
  },
  {
   "cell_type": "code",
   "execution_count": 2,
   "metadata": {},
   "outputs": [
    {
     "name": "stderr",
     "output_type": "stream",
     "text": [
      "2024-10-30 08:01:50.771579: I tensorflow/core/common_runtime/gpu/gpu_device.cc:2021] Created device /job:localhost/replica:0/task:0/device:GPU:0 with 43629 MB memory:  -> device: 0, name: NVIDIA L40S, pci bus id: 0000:8b:00.0, compute capability: 8.9\n"
     ]
    },
    {
     "data": {
      "text/plain": [
       "[LogicalDevice(name='/device:GPU:0', device_type='GPU')]"
      ]
     },
     "execution_count": 2,
     "metadata": {},
     "output_type": "execute_result"
    }
   ],
   "source": [
    "gpus = tf.config.list_physical_devices('GPU')\n",
    "gpu = gpus[0]\n",
    "tf.config.experimental.set_memory_growth(gpu, True)\n",
    "tf.config.list_logical_devices('GPU')"
   ]
  },
  {
   "cell_type": "code",
   "execution_count": 3,
   "metadata": {},
   "outputs": [
    {
     "data": {
      "text/plain": [
       "[PhysicalDevice(name='/physical_device:GPU:0', device_type='GPU')]"
      ]
     },
     "execution_count": 3,
     "metadata": {},
     "output_type": "execute_result"
    }
   ],
   "source": [
    "tf.config.list_physical_devices('GPU')"
   ]
  },
  {
   "cell_type": "code",
   "execution_count": 6,
   "metadata": {},
   "outputs": [],
   "source": [
    "noise_path = '/shareddrive/working/data_code/data/neg_data/_background_noise_/chunks/2-5s_chunks/*'\n",
    "environment_path = '/shareddrive/working/data_code/data/neg_data/envornment/chunks/2-5s_chunks/*'\n",
    "word_path = '/shareddrive/working/data_code/data/neg_data/spcmd/all_words/2-5s_chunks/*'\n",
    "recording_path = '/shareddrive/working/data_code/data/neg_data/internet_recordings/chunks/2-5s_chunks/2-5s_chunks/*'\n",
    "aug_recording_path = '/shareddrive/working/data_code/data/neg_data/internet_recordings/chunks/2-5s_chunks/2-5s_chunks_aug/*'"
   ]
  },
  {
   "cell_type": "code",
   "execution_count": 7,
   "metadata": {},
   "outputs": [
    {
     "data": {
      "text/plain": [
       "(515, 264, 64721, 8649, 16636)"
      ]
     },
     "execution_count": 7,
     "metadata": {},
     "output_type": "execute_result"
    }
   ],
   "source": [
    "word_files = glob.glob(word_path)\n",
    "environment_files = glob.glob(environment_path)\n",
    "noise_files = glob.glob(noise_path)\n",
    "recording_files = glob.glob(recording_path)\n",
    "aug_recording_files = glob.glob(aug_recording_path)\n",
    "len(environment_files),len(noise_files),len(word_files),len(recording_files),len(aug_recording_files)"
   ]
  },
  {
   "cell_type": "code",
   "execution_count": 8,
   "metadata": {},
   "outputs": [],
   "source": [
    "# def get_duration(audio_path):\n",
    "#     with wave.open(audio_path, 'rb') as wav_file:\n",
    "#         sample_rate = wav_file.getframerate()\n",
    "#         num_frames = wav_file.getnframes()\n",
    "#         duration = num_frames / sample_rate\n",
    "#     return duration"
   ]
  },
  {
   "cell_type": "code",
   "execution_count": 8,
   "metadata": {},
   "outputs": [],
   "source": [
    "limit = 1.5\n",
    "# keyword_path = '/shareddrive/working/data_code/data/adele/augmented/*'\n",
    "# keyword_folders = glob.glob(keyword_path)\n",
    "# keyword_files = [j for i in keyword_folders for j in glob.glob(f'{i}/*')]\n",
    "# keyword_files = [j for i in keyword_folders for j in glob.glob(f'{i}/*') if get_duration(j) <= limit]\n",
    "keyword_path = '/shareddrive/working/data_code/data/hilfe_hilfe/augmented/*'\n",
    "keyword_folders = glob.glob(keyword_path)\n",
    "keyword_files = [j for i in keyword_folders for j in glob.glob(f'{i}/*')]\n",
    "# keyword_files = [j for i in keyword_folders for j in glob.glob(f'{i}/*') if get_duration(j) <= limit]"
   ]
  },
  {
   "cell_type": "code",
   "execution_count": 9,
   "metadata": {},
   "outputs": [
    {
     "data": {
      "text/plain": [
       "28500"
      ]
     },
     "execution_count": 9,
     "metadata": {},
     "output_type": "execute_result"
    }
   ],
   "source": [
    "len(keyword_files)"
   ]
  },
  {
   "cell_type": "code",
   "execution_count": 46,
   "metadata": {},
   "outputs": [],
   "source": [
    "# DEEPGRAM_API_KEY = '4207b8a639744fbdbe634616684bf7d67c8791e2'\n",
    "# url = 'https://api.deepgram.com/v1/listen'\n",
    "# headers = {\n",
    "#     'Authorization': f'Token {DEEPGRAM_API_KEY}',\n",
    "#     'Content-Type': 'audio/wav'\n",
    "# }\n",
    "# params = {\n",
    "#     'language': 'de',  # Specify the language as German\n",
    "#     'tier': 'enhanced',  # Use the enhanced tier for better accuracy\n",
    "#     'model': 'general'  # Specify the model\n",
    "# }\n",
    "# ad_files = list()\n",
    "# for i in adele_files:\n",
    "#     # Read the audio file\n",
    "#     with open(i, 'rb') as audio_file:\n",
    "#         response = requests.post(url, headers=headers, params=params, data=audio_file)\n",
    "\n",
    "#     if response.status_code == 200:\n",
    "#         if 'adele' in response.json()['results']['channels'][0]['alternatives'][0]['transcript']:\n",
    "#             ad_files.append(i)\n",
    "#     else:\n",
    "#         print(\"Error:\", response.json())\n",
    "# len(ad_files)"
   ]
  },
  {
   "cell_type": "code",
   "execution_count": 15,
   "metadata": {},
   "outputs": [
    {
     "data": {
      "text/plain": [
       "(57029, 28500, 28529)"
      ]
     },
     "execution_count": 15,
     "metadata": {},
     "output_type": "execute_result"
    }
   ],
   "source": [
    "no_of_files = 1109+660\n",
    "file_path_and_labels = list()\n",
    "# file_path_and_labels.extend([(i,1) for i in random.sample(adele_files,no_of_files)])\n",
    "file_path_and_labels.extend([(i,1) for i in keyword_files])\n",
    "# avg_files = (len(adele_files) + len(hilfe_files)) // 2\n",
    "avg_files = int(len(keyword_files)/1.5)\n",
    "file_path_and_labels.extend([(i,0) for i in recording_files])\n",
    "file_path_and_labels.extend([(i,0) for i in aug_recording_path])\n",
    "file_path_and_labels.extend([(i,0) for i in random.sample(word_files,avg_files)])\n",
    "file_path_and_labels.extend([(i,0) for i in noise_files])\n",
    "file_path_and_labels.extend([(i,0) for i in environment_files])\n",
    "random.shuffle(file_path_and_labels)\n",
    "# avg_files\n",
    "len(file_path_and_labels),len(keyword_files),len(file_path_and_labels)-len(keyword_files),"
   ]
  },
  {
   "cell_type": "code",
   "execution_count": 16,
   "metadata": {},
   "outputs": [
    {
     "name": "stderr",
     "output_type": "stream",
     "text": [
      "/tmp/ipykernel_51/2894920758.py:11: UserWarning: PySoundFile failed. Trying audioread instead.\n",
      "  y,_ = librosa.load(audio_file,sr=sr)\n",
      "/usr/local/lib/python3.11/dist-packages/librosa/core/audio.py:184: FutureWarning: librosa.core.audio.__audioread_load\n",
      "\tDeprecated as of librosa version 0.10.0.\n",
      "\tIt will be removed in librosa version 1.0.\n",
      "  y, sr_native = __audioread_load(path, offset, duration, dtype)\n"
     ]
    },
    {
     "name": "stdout",
     "output_type": "stream",
     "text": [
      "i\n",
      "[Errno 2] No such file or directory: 'i'\n",
      "r\n",
      "[Errno 2] No such file or directory: 'r'\n",
      "s\n",
      "[Errno 2] No such file or directory: 's'\n",
      "d\n",
      "[Errno 2] No such file or directory: 'd'\n",
      "/\n",
      "[Errno 21] Is a directory: '/'\n",
      "a\n",
      "[Errno 2] No such file or directory: 'a'\n",
      "g\n",
      "[Errno 2] No such file or directory: 'g'\n",
      "e\n",
      "[Errno 2] No such file or directory: 'e'\n",
      "_\n",
      "[Errno 2] No such file or directory: '_'\n",
      "r\n",
      "[Errno 2] No such file or directory: 'r'\n",
      "n\n",
      "[Errno 2] No such file or directory: 'n'\n",
      "o\n",
      "[Errno 2] No such file or directory: 'o'\n",
      "t\n",
      "[Errno 2] No such file or directory: 't'\n",
      "t\n",
      "[Errno 2] No such file or directory: 't'\n",
      "r\n",
      "[Errno 2] No such file or directory: 'r'\n",
      "u\n",
      "[Errno 2] No such file or directory: 'u'\n",
      "-\n",
      "[Errno 2] No such file or directory: '-'\n",
      "d\n",
      "[Errno 2] No such file or directory: 'd'\n",
      "/\n",
      "[Errno 21] Is a directory: '/'\n",
      "n\n",
      "[Errno 2] No such file or directory: 'n'\n",
      "n\n",
      "[Errno 2] No such file or directory: 'n'\n",
      "g\n",
      "[Errno 2] No such file or directory: 'g'\n",
      "r\n",
      "[Errno 2] No such file or directory: 'r'\n",
      "h\n",
      "[Errno 2] No such file or directory: 'h'\n",
      "5\n",
      "[Errno 2] No such file or directory: '5'\n",
      "r\n",
      "[Errno 2] No such file or directory: 'r'\n",
      "k\n",
      "[Errno 2] No such file or directory: 'k'\n",
      "2\n",
      "[Errno 2] No such file or directory: '2'\n",
      "e\n",
      "[Errno 2] No such file or directory: 'e'\n",
      "/\n",
      "[Errno 21] Is a directory: '/'\n",
      "d\n",
      "[Errno 2] No such file or directory: 'd'\n",
      "2\n",
      "[Errno 2] No such file or directory: '2'\n",
      "e\n",
      "[Errno 2] No such file or directory: 'e'\n",
      "s\n",
      "[Errno 2] No such file or directory: 's'\n",
      "w\n",
      "[Errno 2] No such file or directory: 'w'\n",
      "e\n",
      "[Errno 2] No such file or directory: 'e'\n",
      "s\n",
      "[Errno 2] No such file or directory: 's'\n",
      "c\n",
      "[Errno 2] No such file or directory: 'c'\n",
      "c\n",
      "[Errno 2] No such file or directory: 'c'\n",
      "u\n",
      "[Errno 2] No such file or directory: 'u'\n",
      "o\n",
      "[Errno 2] No such file or directory: 'o'\n",
      "u\n",
      "[Errno 2] No such file or directory: 'u'\n",
      "*\n",
      "[Errno 2] No such file or directory: '*'\n",
      "o\n",
      "[Errno 2] No such file or directory: 'o'\n",
      "h\n",
      "[Errno 2] No such file or directory: 'h'\n",
      "v\n",
      "[Errno 2] No such file or directory: 'v'\n",
      "a\n",
      "[Errno 2] No such file or directory: 'a'\n",
      "-\n",
      "[Errno 2] No such file or directory: '-'\n",
      "/\n",
      "[Errno 21] Is a directory: '/'\n",
      "c\n",
      "[Errno 2] No such file or directory: 'c'\n",
      "c\n",
      "[Errno 2] No such file or directory: 'c'\n",
      "_\n",
      "[Errno 2] No such file or directory: '_'\n",
      "t\n",
      "[Errno 2] No such file or directory: 't'\n",
      "k\n",
      "[Errno 2] No such file or directory: 'k'\n",
      "a\n",
      "[Errno 2] No such file or directory: 'a'\n",
      "/\n",
      "[Errno 21] Is a directory: '/'\n",
      "h\n",
      "[Errno 2] No such file or directory: 'h'\n",
      "k\n",
      "[Errno 2] No such file or directory: 'k'\n",
      "/\n",
      "[Errno 21] Is a directory: '/'\n",
      "a\n",
      "[Errno 2] No such file or directory: 'a'\n",
      "e\n",
      "[Errno 2] No such file or directory: 'e'\n",
      "u\n",
      "[Errno 2] No such file or directory: 'u'\n",
      "n\n",
      "[Errno 2] No such file or directory: 'n'\n",
      "/\n",
      "[Errno 21] Is a directory: '/'\n",
      "k\n",
      "[Errno 2] No such file or directory: 'k'\n",
      "d\n",
      "[Errno 2] No such file or directory: 'd'\n",
      "d\n",
      "[Errno 2] No such file or directory: 'd'\n",
      "_\n",
      "[Errno 2] No such file or directory: '_'\n",
      "g\n",
      "[Errno 2] No such file or directory: 'g'\n",
      "n\n",
      "[Errno 2] No such file or directory: 'n'\n",
      "d\n",
      "[Errno 2] No such file or directory: 'd'\n",
      "i\n",
      "[Errno 2] No such file or directory: 'i'\n",
      "n\n",
      "[Errno 2] No such file or directory: 'n'\n",
      "t\n",
      "[Errno 2] No such file or directory: 't'\n",
      "e\n",
      "[Errno 2] No such file or directory: 'e'\n",
      "a\n",
      "[Errno 2] No such file or directory: 'a'\n",
      "n\n",
      "[Errno 2] No such file or directory: 'n'\n",
      "c\n",
      "[Errno 2] No such file or directory: 'c'\n",
      "/\n",
      "[Errno 21] Is a directory: '/'\n",
      "5\n",
      "[Errno 2] No such file or directory: '5'\n",
      "_\n",
      "[Errno 2] No such file or directory: '_'\n",
      "s\n",
      "[Errno 2] No such file or directory: 's'\n",
      "a\n",
      "[Errno 2] No such file or directory: 'a'\n",
      "a\n",
      "[Errno 2] No such file or directory: 'a'\n",
      "_\n",
      "[Errno 2] No such file or directory: '_'\n",
      "a\n",
      "[Errno 2] No such file or directory: 'a'\n",
      "s\n",
      "[Errno 2] No such file or directory: 's'\n",
      "/\n",
      "[Errno 21] Is a directory: '/'\n",
      "/\n",
      "[Errno 21] Is a directory: '/'\n",
      "t\n",
      "[Errno 2] No such file or directory: 't'\n",
      "r\n",
      "[Errno 2] No such file or directory: 'r'\n",
      "s\n",
      "[Errno 2] No such file or directory: 's'\n",
      "s\n",
      "[Errno 2] No such file or directory: 's'\n",
      "_\n",
      "[Errno 2] No such file or directory: '_'\n",
      "i\n",
      "[Errno 2] No such file or directory: 'i'\n",
      "g\n",
      "[Errno 2] No such file or directory: 'g'\n",
      "h\n",
      "[Errno 2] No such file or directory: 'h'\n",
      "d\n",
      "[Errno 2] No such file or directory: 'd'\n",
      "i\n",
      "[Errno 2] No such file or directory: 'i'\n",
      "n\n",
      "[Errno 2] No such file or directory: 'n'\n",
      "e\n",
      "[Errno 2] No such file or directory: 'e'\n",
      "(128, 79)\n"
     ]
    }
   ],
   "source": [
    "sr = 16000\n",
    "max_seconds = 2.5\n",
    "pad_or_trunc = lambda a,i : a[0:i] if len(a) > i else a if len(a) == i else np.pad(a,(0, (i-len(a))))\n",
    "\n",
    "def process_data(y,sr,max_seconds):\n",
    "    y = pad_or_trunc(y,int(sr*max_seconds))\n",
    "    features = librosa.feature.melspectrogram(y=y,sr=sr,n_fft=1024)\n",
    "    return features\n",
    "    \n",
    "def get_processed_data(audio_file):\n",
    "    y,_ = librosa.load(audio_file,sr=sr)\n",
    "    # y = nr.reduce_noise(y=y, sr=sr,n_fft=1024)\n",
    "    # y[np.isnan(y)] = 0\n",
    "    features = process_data(y,sr,max_seconds)\n",
    "    return features\n",
    "try:\n",
    "    with open('f_and_ls.pickle','rb') as f:\n",
    "        features_and_labels = pickle.load(f)\n",
    "except:\n",
    "    features_and_labels = list()\n",
    "    for i,j in file_path_and_labels:\n",
    "        try:\n",
    "            features = get_processed_data(i)\n",
    "            features_and_labels.append((features,j))\n",
    "        except Exception as e: \n",
    "            print(i)\n",
    "            print(e)\n",
    "        # features = get_processed_data(i)\n",
    "        # features_and_labels.append(features,j)\n",
    "    # with open('f_and_l.pickle','wb') as f:\n",
    "    #     pickle.dump(features_and_labels,f)\n",
    "finally:\n",
    "    print(features_and_labels[0][0].shape)"
   ]
  },
  {
   "cell_type": "code",
   "execution_count": 17,
   "metadata": {},
   "outputs": [],
   "source": [
    "\n",
    "\n",
    "class DataSequenceRaw(tf.keras.utils.Sequence):\n",
    "\n",
    "    def __init__(self,data,batch_size):\n",
    "        self.data_size = len(data)\n",
    "        audios,labels = zip(*data)\n",
    "        self.X = np.array(audios)\n",
    "        self.Y = np.array(labels)\n",
    "        self.batch_size = batch_size\n",
    "\n",
    "        \n",
    "    def __len__(self):\n",
    "        return int(np.ceil(self.data_size / self.batch_size))\n",
    "\n",
    "    def __getitem__(self,idx):\n",
    "        s = idx * self.batch_size\n",
    "        e = (idx + 1) * self.batch_size\n",
    "        X = self.X[s:e]\n",
    "        Y = self.Y[s:e]\n",
    "        return X,Y\n"
   ]
  },
  {
   "cell_type": "code",
   "execution_count": 18,
   "metadata": {},
   "outputs": [],
   "source": [
    "def _get_train_val_size(total_examples,train_percent=70):\n",
    "    \n",
    "    train_ratio = round(train_percent)/100\n",
    "    remaining_percent = 100 - train_percent\n",
    "    test_percent = round(remaining_percent/3)*2\n",
    "    val_percent = remaining_percent - test_percent\n",
    "    val_ratio = val_percent/100\n",
    "    train_size = round(total_examples * train_ratio)\n",
    "    val_size = round(total_examples * val_ratio)\n",
    "    return train_size,val_size\n",
    "\n",
    "def get_data_raw(data,train_percent=70,batch_size=32):\n",
    "\n",
    "    train_size,val_size = _get_train_val_size(len(data),train_percent)\n",
    "\n",
    "    train_examples = data[:train_size]\n",
    "    val_examples = data[train_size:train_size+val_size]\n",
    "    test_examples = data[train_size+val_size:]\n",
    "\n",
    "    train = DataSequenceRaw(train_examples,batch_size=batch_size)\n",
    "    test = DataSequenceRaw(test_examples,batch_size=1)\n",
    "    val = DataSequenceRaw(val_examples,batch_size=batch_size)\n",
    "\n",
    "    return train,test,val\n",
    "\n",
    "train,test,val = get_data_raw(features_and_labels,train_percent=80)"
   ]
  },
  {
   "cell_type": "code",
   "execution_count": 19,
   "metadata": {},
   "outputs": [],
   "source": [
    "shape = train[0][0][0].shape\n",
    "input_shape = [*shape,1]"
   ]
  },
  {
   "cell_type": "code",
   "execution_count": 20,
   "metadata": {},
   "outputs": [],
   "source": [
    "def get_model(\n",
    "        input_shape,\n",
    "        output_neurons=1,\n",
    "        output_activation='sigmoid',\n",
    "        loss=tf.keras.losses.binary_crossentropy,\n",
    "        lr=0.0001\n",
    "):\n",
    "    _input = tf.keras.layers.Input(shape=input_shape)\n",
    "    x = tf.keras.layers.Conv2D(512,kernel_size=3,padding='valid',activation='relu')(_input)\n",
    "    x = tf.keras.layers.Conv2D(256,kernel_size=3,padding='valid',activation='relu')(x)\n",
    "    x = tf.keras.layers.MaxPool2D((2,2))(x)\n",
    "    x = tf.keras.layers.Conv2D(128,kernel_size=3,padding='valid',activation='relu')(x)\n",
    "    x = tf.keras.layers.Dropout(0.5)(x)\n",
    "    x = tf.keras.layers.Conv2D(128,kernel_size=3,padding='valid',activation='relu')(x)\n",
    "    x = tf.keras.layers.MaxPool2D((2,2))(x)\n",
    "    x = tf.keras.layers.Conv2D(64,kernel_size=3,padding='valid',activation='relu')(x)\n",
    "    x = tf.keras.layers.MaxPool2D((2,2))(x)\n",
    "    x = tf.keras.layers.Flatten()(x)\n",
    "    x = tf.keras.layers.Dense(1024,activation='relu')(x)\n",
    "    x = tf.keras.layers.Dropout(0.3)(x)\n",
    "    x = tf.keras.layers.Dense(1024,activation='relu')(x)\n",
    "    x = tf.keras.layers.Dropout(0.5)(x)\n",
    "    x = tf.keras.layers.Dense(1024,activation='relu')(x)\n",
    "    x = tf.keras.layers.Dropout(0.7)(x)\n",
    "    x = tf.keras.layers.Dense(1024,activation='relu')(x)\n",
    "    x = tf.keras.layers.Dense(10,activation='relu')(x)\n",
    "    outputs = tf.keras.layers.Dense(output_neurons,activation=output_activation,kernel_regularizer=tf.keras.regularizers.L2(l2=0.01))(x)\n",
    "    model = tf.keras.Model(inputs=_input,outputs=outputs)\n",
    "\n",
    "    model.compile(\n",
    "        loss=loss,\n",
    "        optimizer=tf.keras.optimizers.Adam(learning_rate=lr),\n",
    "        metrics=['accuracy'],\n",
    "    )\n",
    "\n",
    "    return model\n",
    "\n",
    "model = get_model(\n",
    "        input_shape=input_shape,\n",
    "        lr=0.001\n",
    ")\n",
    "\n"
   ]
  },
  {
   "cell_type": "code",
   "execution_count": 21,
   "metadata": {},
   "outputs": [
    {
     "name": "stdout",
     "output_type": "stream",
     "text": [
      "Epoch 1/100\n"
     ]
    },
    {
     "name": "stderr",
     "output_type": "stream",
     "text": [
      "/usr/local/lib/python3.11/dist-packages/keras/src/trainers/data_adapters/py_dataset_adapter.py:121: UserWarning: Your `PyDataset` class should call `super().__init__(**kwargs)` in its constructor. `**kwargs` can include `workers`, `use_multiprocessing`, `max_queue_size`. Do not pass these arguments to `fit()`, as they will be ignored.\n",
      "  self._warn_if_super_not_called()\n",
      "WARNING: All log messages before absl::InitializeLog() is called are written to STDERR\n",
      "I0000 00:00:1730277920.475277     160 service.cc:146] XLA service 0x7fdfdc004450 initialized for platform CUDA (this does not guarantee that XLA will be used). Devices:\n",
      "I0000 00:00:1730277920.475310     160 service.cc:154]   StreamExecutor device (0): NVIDIA L40S, Compute Capability 8.9\n",
      "2024-10-30 08:45:20.608086: I tensorflow/compiler/mlir/tensorflow/utils/dump_mlir_util.cc:268] disabling MLIR crash reproducer, set env var `MLIR_CRASH_REPRODUCER_DIRECTORY` to enable.\n",
      "2024-10-30 08:45:21.146752: I external/local_xla/xla/stream_executor/cuda/cuda_dnn.cc:531] Loaded cuDNN version 8906\n",
      "2024-10-30 08:45:22.257379: I external/local_xla/xla/stream_executor/cuda/cuda_asm_compiler.cc:393] ptxas warning : Registers are spilled to local memory in function 'gemm_fusion_dot_2069', 188 bytes spill stores, 188 bytes spill loads\n",
      "\n"
     ]
    },
    {
     "name": "stdout",
     "output_type": "stream",
     "text": [
      "\u001b[1m   3/1424\u001b[0m \u001b[37m━━━━━━━━━━━━━━━━━━━━\u001b[0m \u001b[1m1:05\u001b[0m 46ms/step - accuracy: 0.4549 - loss: 3.1955  "
     ]
    },
    {
     "name": "stderr",
     "output_type": "stream",
     "text": [
      "I0000 00:00:1730277931.672699     160 device_compiler.h:188] Compiled cluster using XLA!  This line is logged at most once for the lifetime of the process.\n"
     ]
    },
    {
     "name": "stdout",
     "output_type": "stream",
     "text": [
      "\u001b[1m 636/1424\u001b[0m \u001b[32m━━━━━━━━\u001b[0m\u001b[37m━━━━━━━━━━━━\u001b[0m \u001b[1m40s\u001b[0m 51ms/step - accuracy: 0.7874 - loss: 0.5629"
     ]
    },
    {
     "name": "stderr",
     "output_type": "stream",
     "text": [
      "2024-10-30 08:46:04.228758: I external/local_xla/xla/stream_executor/cuda/cuda_asm_compiler.cc:393] ptxas warning : Registers are spilled to local memory in function 'input_reduce_select_fusion_4', 72 bytes spill stores, 72 bytes spill loads\n",
      "\n"
     ]
    },
    {
     "name": "stdout",
     "output_type": "stream",
     "text": [
      "\u001b[1m1424/1424\u001b[0m \u001b[32m━━━━━━━━━━━━━━━━━━━━\u001b[0m\u001b[37m\u001b[0m \u001b[1m0s\u001b[0m 47ms/step - accuracy: 0.8471 - loss: 0.4605"
     ]
    },
    {
     "name": "stderr",
     "output_type": "stream",
     "text": [
      "2024-10-30 08:46:40.183329: I external/local_xla/xla/stream_executor/cuda/cuda_asm_compiler.cc:393] ptxas warning : Registers are spilled to local memory in function 'gemm_fusion_dot_102', 132 bytes spill stores, 132 bytes spill loads\n",
      "\n",
      "2024-10-30 08:46:45.379701: I external/local_xla/xla/stream_executor/cuda/cuda_asm_compiler.cc:393] ptxas warning : Registers are spilled to local memory in function 'gemm_fusion_dot_102', 32 bytes spill stores, 32 bytes spill loads\n",
      "\n",
      "2024-10-30 08:46:45.445107: I external/local_xla/xla/stream_executor/cuda/cuda_asm_compiler.cc:393] ptxas warning : Registers are spilled to local memory in function 'gemm_fusion_dot_102', 12 bytes spill stores, 12 bytes spill loads\n",
      "\n",
      "2024-10-30 08:46:45.563395: I external/local_xla/xla/stream_executor/cuda/cuda_asm_compiler.cc:393] ptxas warning : Registers are spilled to local memory in function 'gemm_fusion_dot_102', 200 bytes spill stores, 200 bytes spill loads\n",
      "\n",
      "2024-10-30 08:46:46.056445: I external/local_xla/xla/stream_executor/cuda/cuda_asm_compiler.cc:393] ptxas warning : Registers are spilled to local memory in function 'gemm_fusion_dot_123', 232 bytes spill stores, 232 bytes spill loads\n",
      "\n"
     ]
    },
    {
     "name": "stdout",
     "output_type": "stream",
     "text": [
      "\u001b[1m1424/1424\u001b[0m \u001b[32m━━━━━━━━━━━━━━━━━━━━\u001b[0m\u001b[37m\u001b[0m \u001b[1m90s\u001b[0m 54ms/step - accuracy: 0.8471 - loss: 0.4604 - val_accuracy: 0.9848 - val_loss: 0.1749 - learning_rate: 0.0010\n",
      "Epoch 2/100\n",
      "\u001b[1m1424/1424\u001b[0m \u001b[32m━━━━━━━━━━━━━━━━━━━━\u001b[0m\u001b[37m\u001b[0m \u001b[1m64s\u001b[0m 45ms/step - accuracy: 0.9713 - loss: 0.1841 - val_accuracy: 0.4880 - val_loss: 1.0790 - learning_rate: 0.0010\n",
      "Epoch 3/100\n",
      "\u001b[1m1424/1424\u001b[0m \u001b[32m━━━━━━━━━━━━━━━━━━━━\u001b[0m\u001b[37m\u001b[0m \u001b[1m65s\u001b[0m 46ms/step - accuracy: 0.4993 - loss: 0.8917 - val_accuracy: 0.4880 - val_loss: 0.7123 - learning_rate: 0.0010\n",
      "Epoch 4/100\n",
      "\u001b[1m1424/1424\u001b[0m \u001b[32m━━━━━━━━━━━━━━━━━━━━\u001b[0m\u001b[37m\u001b[0m \u001b[1m65s\u001b[0m 46ms/step - accuracy: 0.5004 - loss: 0.7005 - val_accuracy: 0.4880 - val_loss: 0.6939 - learning_rate: 0.0010\n",
      "Epoch 5/100\n",
      "\u001b[1m1424/1424\u001b[0m \u001b[32m━━━━━━━━━━━━━━━━━━━━\u001b[0m\u001b[37m\u001b[0m \u001b[1m65s\u001b[0m 46ms/step - accuracy: 0.5025 - loss: 0.6933 - val_accuracy: 0.4880 - val_loss: 0.6937 - learning_rate: 1.0000e-04\n",
      "Epoch 6/100\n",
      "\u001b[1m1424/1424\u001b[0m \u001b[32m━━━━━━━━━━━━━━━━━━━━\u001b[0m\u001b[37m\u001b[0m \u001b[1m65s\u001b[0m 46ms/step - accuracy: 0.5047 - loss: 0.6931 - val_accuracy: 0.4880 - val_loss: 0.6935 - learning_rate: 1.0000e-04\n",
      "Epoch 7/100\n",
      "\u001b[1m1424/1424\u001b[0m \u001b[32m━━━━━━━━━━━━━━━━━━━━\u001b[0m\u001b[37m\u001b[0m \u001b[1m65s\u001b[0m 46ms/step - accuracy: 0.5015 - loss: 0.6932 - val_accuracy: 0.4880 - val_loss: 0.6934 - learning_rate: 1.0000e-04\n",
      "Epoch 8/100\n",
      "\u001b[1m1424/1424\u001b[0m \u001b[32m━━━━━━━━━━━━━━━━━━━━\u001b[0m\u001b[37m\u001b[0m \u001b[1m65s\u001b[0m 46ms/step - accuracy: 0.5016 - loss: 0.6932 - val_accuracy: 0.4880 - val_loss: 0.6934 - learning_rate: 1.0000e-05\n",
      "Epoch 9/100\n",
      "\u001b[1m1424/1424\u001b[0m \u001b[32m━━━━━━━━━━━━━━━━━━━━\u001b[0m\u001b[37m\u001b[0m \u001b[1m65s\u001b[0m 46ms/step - accuracy: 0.5016 - loss: 0.6932 - val_accuracy: 0.4880 - val_loss: 0.6934 - learning_rate: 1.0000e-05\n",
      "Epoch 10/100\n",
      "\u001b[1m1424/1424\u001b[0m \u001b[32m━━━━━━━━━━━━━━━━━━━━\u001b[0m\u001b[37m\u001b[0m \u001b[1m65s\u001b[0m 46ms/step - accuracy: 0.5047 - loss: 0.6931 - val_accuracy: 0.4880 - val_loss: 0.6934 - learning_rate: 1.0000e-05\n",
      "Epoch 11/100\n",
      "\u001b[1m1424/1424\u001b[0m \u001b[32m━━━━━━━━━━━━━━━━━━━━\u001b[0m\u001b[37m\u001b[0m \u001b[1m65s\u001b[0m 46ms/step - accuracy: 0.4992 - loss: 0.6932 - val_accuracy: 0.4880 - val_loss: 0.6934 - learning_rate: 1.0000e-06\n",
      "Epoch 12/100\n",
      "\u001b[1m1424/1424\u001b[0m \u001b[32m━━━━━━━━━━━━━━━━━━━━\u001b[0m\u001b[37m\u001b[0m \u001b[1m65s\u001b[0m 46ms/step - accuracy: 0.4983 - loss: 0.6932 - val_accuracy: 0.4880 - val_loss: 0.6934 - learning_rate: 1.0000e-06\n",
      "Epoch 13/100\n",
      "\u001b[1m1424/1424\u001b[0m \u001b[32m━━━━━━━━━━━━━━━━━━━━\u001b[0m\u001b[37m\u001b[0m \u001b[1m65s\u001b[0m 46ms/step - accuracy: 0.5023 - loss: 0.6931 - val_accuracy: 0.4880 - val_loss: 0.6934 - learning_rate: 1.0000e-06\n",
      "Epoch 14/100\n",
      "\u001b[1m1424/1424\u001b[0m \u001b[32m━━━━━━━━━━━━━━━━━━━━\u001b[0m\u001b[37m\u001b[0m \u001b[1m65s\u001b[0m 46ms/step - accuracy: 0.5020 - loss: 0.6932 - val_accuracy: 0.4880 - val_loss: 0.6934 - learning_rate: 1.0000e-07\n",
      "Epoch 15/100\n",
      "\u001b[1m1424/1424\u001b[0m \u001b[32m━━━━━━━━━━━━━━━━━━━━\u001b[0m\u001b[37m\u001b[0m \u001b[1m65s\u001b[0m 46ms/step - accuracy: 0.5064 - loss: 0.6931 - val_accuracy: 0.4880 - val_loss: 0.6934 - learning_rate: 1.0000e-07\n",
      "Epoch 16/100\n",
      "\u001b[1m1424/1424\u001b[0m \u001b[32m━━━━━━━━━━━━━━━━━━━━\u001b[0m\u001b[37m\u001b[0m \u001b[1m65s\u001b[0m 46ms/step - accuracy: 0.5018 - loss: 0.6932 - val_accuracy: 0.4880 - val_loss: 0.6934 - learning_rate: 1.0000e-07\n"
     ]
    }
   ],
   "source": [
    "reduce_lr = tf.keras.callbacks.ReduceLROnPlateau(monitor='val_accuracy',factor=0.1,patience=3,mode='max')\n",
    "early_stopping = tf.keras.callbacks.EarlyStopping(monitor='val_accuracy',patience=5,mode='max',restore_best_weights=True,start_from_epoch=10)\n",
    "with tf.device('/gpu'):\n",
    "    history = model.fit(train,epochs=100,validation_data=val,verbose=1,callbacks=[reduce_lr,early_stopping])"
   ]
  },
  {
   "cell_type": "code",
   "execution_count": 22,
   "metadata": {},
   "outputs": [
    {
     "name": "stdout",
     "output_type": "stream",
     "text": [
      "\u001b[1m7970/7970\u001b[0m \u001b[32m━━━━━━━━━━━━━━━━━━━━\u001b[0m\u001b[37m\u001b[0m \u001b[1m11s\u001b[0m 1ms/step - accuracy: 0.4897 - loss: 0.6934\n"
     ]
    },
    {
     "data": {
      "text/plain": [
       "[0.6933478713035583, 0.4905897080898285]"
      ]
     },
     "execution_count": 22,
     "metadata": {},
     "output_type": "execute_result"
    }
   ],
   "source": [
    "model.evaluate(test)"
   ]
  },
  {
   "cell_type": "code",
   "execution_count": 23,
   "metadata": {},
   "outputs": [],
   "source": [
    "folder_path = '/shareddrive/working/model_code/models/custom_model_4/trail_8'\n",
    "os.makedirs(folder_path,exist_ok=True)\n",
    "model_path = f'{folder_path}/16k_melspec-nfft-1024_h_cnn_dense_model.keras'\n",
    "model.save(model_path)"
   ]
  },
  {
   "cell_type": "code",
   "execution_count": null,
   "metadata": {},
   "outputs": [],
   "source": []
  }
 ],
 "metadata": {
  "kernelspec": {
   "display_name": "Python 3 (ipykernel)",
   "language": "python",
   "name": "python3"
  },
  "language_info": {
   "codemirror_mode": {
    "name": "ipython",
    "version": 3
   },
   "file_extension": ".py",
   "mimetype": "text/x-python",
   "name": "python",
   "nbconvert_exporter": "python",
   "pygments_lexer": "ipython3",
   "version": "3.11.0rc1"
  }
 },
 "nbformat": 4,
 "nbformat_minor": 4
}
