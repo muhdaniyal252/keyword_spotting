{
 "cells": [
  {
   "cell_type": "code",
   "execution_count": 8,
   "id": "6555ea5c-a196-4b65-ab33-b50557e76abe",
   "metadata": {},
   "outputs": [],
   "source": [
    "import tensorflow as tf"
   ]
  },
  {
   "cell_type": "code",
   "execution_count": 9,
   "id": "57fb5e5c",
   "metadata": {},
   "outputs": [
    {
     "data": {
      "text/plain": [
       "'2.17.0'"
      ]
     },
     "execution_count": 9,
     "metadata": {},
     "output_type": "execute_result"
    }
   ],
   "source": [
    "tf.__version__"
   ]
  },
  {
   "cell_type": "code",
   "execution_count": 10,
   "id": "0b133c31-439d-43e1-b889-13e3990ee531",
   "metadata": {},
   "outputs": [],
   "source": [
    "model_path = '/shareddrive/working/model_code/models/custom_model_4/trail_5/16k_melspec-nfft-1024_a_cnn_dense_model.keras'\n",
    "lite_model_path = model_path.replace('keras','tflite')"
   ]
  },
  {
   "cell_type": "code",
   "execution_count": 11,
   "id": "e48cca80-1565-4a3f-bc73-65c21b956965",
   "metadata": {},
   "outputs": [],
   "source": [
    "model = tf.keras.models.load_model(model_path)"
   ]
  },
  {
   "cell_type": "code",
   "execution_count": 12,
   "id": "11925169-923a-47e2-a1d0-190b33ab5a47",
   "metadata": {},
   "outputs": [
    {
     "name": "stdout",
     "output_type": "stream",
     "text": [
      "INFO:tensorflow:Assets written to: /tmp/tmprz0v49_s/assets\n"
     ]
    },
    {
     "name": "stderr",
     "output_type": "stream",
     "text": [
      "INFO:tensorflow:Assets written to: /tmp/tmprz0v49_s/assets\n"
     ]
    },
    {
     "name": "stdout",
     "output_type": "stream",
     "text": [
      "Saved artifact at '/tmp/tmprz0v49_s'. The following endpoints are available:\n",
      "\n",
      "* Endpoint 'serve'\n",
      "  args_0 (POSITIONAL_ONLY): TensorSpec(shape=(None, 128, 32, 1), dtype=tf.float32, name='input_layer_1')\n",
      "Output Type:\n",
      "  TensorSpec(shape=(None, 1), dtype=tf.float32, name=None)\n",
      "Captures:\n",
      "  139745555462480: TensorSpec(shape=(), dtype=tf.resource, name=None)\n",
      "  139745555450512: TensorSpec(shape=(), dtype=tf.resource, name=None)\n",
      "  139745555454560: TensorSpec(shape=(), dtype=tf.resource, name=None)\n",
      "  139745554417440: TensorSpec(shape=(), dtype=tf.resource, name=None)\n",
      "  139745555450688: TensorSpec(shape=(), dtype=tf.resource, name=None)\n",
      "  139745554420432: TensorSpec(shape=(), dtype=tf.resource, name=None)\n",
      "  139745554423248: TensorSpec(shape=(), dtype=tf.resource, name=None)\n",
      "  139745554425712: TensorSpec(shape=(), dtype=tf.resource, name=None)\n",
      "  139745554431696: TensorSpec(shape=(), dtype=tf.resource, name=None)\n",
      "  139745554428528: TensorSpec(shape=(), dtype=tf.resource, name=None)\n",
      "  139745554425888: TensorSpec(shape=(), dtype=tf.resource, name=None)\n",
      "  139745554516976: TensorSpec(shape=(), dtype=tf.resource, name=None)\n",
      "  139745554521200: TensorSpec(shape=(), dtype=tf.resource, name=None)\n",
      "  139745554520672: TensorSpec(shape=(), dtype=tf.resource, name=None)\n",
      "  139745554525424: TensorSpec(shape=(), dtype=tf.resource, name=None)\n",
      "  139745554524896: TensorSpec(shape=(), dtype=tf.resource, name=None)\n",
      "  139745554529120: TensorSpec(shape=(), dtype=tf.resource, name=None)\n",
      "  139745554529824: TensorSpec(shape=(), dtype=tf.resource, name=None)\n",
      "  139745554528064: TensorSpec(shape=(), dtype=tf.resource, name=None)\n",
      "  139745554548336: TensorSpec(shape=(), dtype=tf.resource, name=None)\n",
      "  139745554551152: TensorSpec(shape=(), dtype=tf.resource, name=None)\n",
      "  139745554547456: TensorSpec(shape=(), dtype=tf.resource, name=None)\n"
     ]
    },
    {
     "name": "stderr",
     "output_type": "stream",
     "text": [
      "W0000 00:00:1729150829.711624    2017 tf_tfl_flatbuffer_helpers.cc:392] Ignored output_format.\n",
      "W0000 00:00:1729150829.711650    2017 tf_tfl_flatbuffer_helpers.cc:395] Ignored drop_control_dependency.\n",
      "2024-10-17 07:40:29.711827: I tensorflow/cc/saved_model/reader.cc:83] Reading SavedModel from: /tmp/tmprz0v49_s\n",
      "2024-10-17 07:40:29.712980: I tensorflow/cc/saved_model/reader.cc:52] Reading meta graph with tags { serve }\n",
      "2024-10-17 07:40:29.712996: I tensorflow/cc/saved_model/reader.cc:147] Reading SavedModel debug info (if present) from: /tmp/tmprz0v49_s\n",
      "2024-10-17 07:40:29.723832: I tensorflow/cc/saved_model/loader.cc:236] Restoring SavedModel bundle.\n",
      "2024-10-17 07:40:29.821055: I tensorflow/cc/saved_model/loader.cc:220] Running initialization op on SavedModel bundle at path: /tmp/tmprz0v49_s\n",
      "2024-10-17 07:40:29.841297: I tensorflow/cc/saved_model/loader.cc:462] SavedModel load for tags { serve }; Status: success: OK. Took 129471 microseconds.\n"
     ]
    }
   ],
   "source": [
    "converter = tf.lite.TFLiteConverter.from_keras_model(model)\n",
    "converter.optimizations = [tf.lite.Optimize.DEFAULT]\n",
    "tflite_model = converter.convert()"
   ]
  },
  {
   "cell_type": "code",
   "execution_count": 13,
   "id": "a3898a65-9e84-4160-b61c-ce34302c3290",
   "metadata": {},
   "outputs": [],
   "source": [
    "with open(lite_model_path, 'wb') as f:\n",
    "    f.write(tflite_model)"
   ]
  },
  {
   "cell_type": "code",
   "execution_count": null,
   "id": "bd96995d-38b8-4239-9ad3-b17dc96c0a43",
   "metadata": {},
   "outputs": [],
   "source": []
  }
 ],
 "metadata": {
  "kernelspec": {
   "display_name": "Python 3 (ipykernel)",
   "language": "python",
   "name": "python3"
  },
  "language_info": {
   "codemirror_mode": {
    "name": "ipython",
    "version": 3
   },
   "file_extension": ".py",
   "mimetype": "text/x-python",
   "name": "python",
   "nbconvert_exporter": "python",
   "pygments_lexer": "ipython3",
   "version": "3.10.12"
  }
 },
 "nbformat": 4,
 "nbformat_minor": 5
}
