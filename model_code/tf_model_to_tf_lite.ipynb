{
 "cells": [
  {
   "cell_type": "code",
   "execution_count": null,
   "id": "6555ea5c-a196-4b65-ab33-b50557e76abe",
   "metadata": {},
   "outputs": [],
   "source": [
    "import tensorflow as tf"
   ]
  },
  {
   "cell_type": "code",
   "execution_count": null,
   "id": "0b133c31-439d-43e1-b889-13e3990ee531",
   "metadata": {},
   "outputs": [],
   "source": [
    "model_path = '/shareddrive/working/model_code/models/custom_model_1/trail_8/16k_melspec-nfft-1024_a_cnn_dense_model.keras'\n",
    "lite_model_path = model_path.replace('keras','tflite')"
   ]
  },
  {
   "cell_type": "code",
   "execution_count": null,
   "id": "e48cca80-1565-4a3f-bc73-65c21b956965",
   "metadata": {},
   "outputs": [],
   "source": [
    "model = tf.keras.models.load_model(model_path)"
   ]
  },
  {
   "cell_type": "code",
   "execution_count": null,
   "id": "11925169-923a-47e2-a1d0-190b33ab5a47",
   "metadata": {},
   "outputs": [],
   "source": [
    "converter = tf.lite.TFLiteConverter.from_keras_model(model)\n",
    "converter.optimizations = [tf.lite.Optimize.DEFAULT]\n",
    "tflite_model = converter.convert()"
   ]
  },
  {
   "cell_type": "code",
   "execution_count": null,
   "id": "a3898a65-9e84-4160-b61c-ce34302c3290",
   "metadata": {},
   "outputs": [],
   "source": [
    "with open(lite_model_path, 'wb') as f:\n",
    "    f.write(tflite_model)"
   ]
  },
  {
   "cell_type": "code",
   "execution_count": null,
   "id": "2a657c35-20b5-4a5c-b4f1-daca4afaec49",
   "metadata": {},
   "outputs": [],
   "source": []
  }
 ],
 "metadata": {
  "kernelspec": {
   "display_name": "Python 3 (ipykernel)",
   "language": "python",
   "name": "python3"
  },
  "language_info": {
   "codemirror_mode": {
    "name": "ipython",
    "version": 3
   },
   "file_extension": ".py",
   "mimetype": "text/x-python",
   "name": "python",
   "nbconvert_exporter": "python",
   "pygments_lexer": "ipython3",
   "version": "3.10.12"
  }
 },
 "nbformat": 4,
 "nbformat_minor": 5
}
