{
 "cells": [
  {
   "cell_type": "code",
   "execution_count": 2,
   "metadata": {},
   "outputs": [],
   "source": [
    "# from mobile_net import get_model\n",
    "import librosa\n",
    "import tensorflow as tf\n",
    "import glob\n",
    "import numpy as np\n",
    "import random\n",
    "import wave\n",
    "import os\n",
    "import pickle\n",
    "import noisereduce as nr"
   ]
  },
  {
   "cell_type": "code",
   "execution_count": 3,
   "metadata": {},
   "outputs": [
    {
     "name": "stderr",
     "output_type": "stream",
     "text": [
      "2024-08-15 07:10:41.719648: I tensorflow/core/common_runtime/gpu/gpu_device.cc:2021] Created device /job:localhost/replica:0/task:0/device:GPU:0 with 43629 MB memory:  -> device: 0, name: NVIDIA L40S, pci bus id: 0000:8b:00.0, compute capability: 8.9\n"
     ]
    },
    {
     "data": {
      "text/plain": [
       "[LogicalDevice(name='/device:GPU:0', device_type='GPU')]"
      ]
     },
     "execution_count": 3,
     "metadata": {},
     "output_type": "execute_result"
    }
   ],
   "source": [
    "gpus = tf.config.list_physical_devices('GPU')\n",
    "gpu = gpus[0]\n",
    "tf.config.experimental.set_memory_growth(gpu, True)\n",
    "tf.config.list_logical_devices('GPU')"
   ]
  },
  {
   "cell_type": "code",
   "execution_count": 4,
   "metadata": {},
   "outputs": [],
   "source": [
    "noise_path = '/shareddrive/working/data_code/data/neg_data/_background_noise_/chunks/1s_chunks/*'\n",
    "environment_path = '/shareddrive/working/data_code/data/neg_data/envornment/chunks/1s_chunks/*'\n",
    "word_path = '/shareddrive/working/data_code/data/neg_data/spcmd/all_words/original/*'\n",
    "recording_path = '/shareddrive/working/data_code/data/neg_data/internet_recordings/chunks/1s_chunks/*'"
   ]
  },
  {
   "cell_type": "code",
   "execution_count": 5,
   "metadata": {},
   "outputs": [
    {
     "data": {
      "text/plain": [
       "(1109, 660, 64721, 5806)"
      ]
     },
     "execution_count": 5,
     "metadata": {},
     "output_type": "execute_result"
    }
   ],
   "source": [
    "word_files = glob.glob(word_path)\n",
    "environment_files = glob.glob(environment_path)\n",
    "noise_files = glob.glob(noise_path)\n",
    "recording_files = glob.glob(recording_path)\n",
    "len(environment_files),len(noise_files),len(word_files),len(recording_files)"
   ]
  },
  {
   "cell_type": "code",
   "execution_count": 6,
   "metadata": {},
   "outputs": [],
   "source": [
    "def get_duration(audio_path):\n",
    "    with wave.open(audio_path, 'rb') as wav_file:\n",
    "        sample_rate = wav_file.getframerate()\n",
    "        num_frames = wav_file.getnframes()\n",
    "        duration = num_frames / sample_rate\n",
    "    return duration"
   ]
  },
  {
   "cell_type": "code",
   "execution_count": 7,
   "metadata": {},
   "outputs": [],
   "source": [
    "limit = 1.5\n",
    "adele_path = '/shareddrive/working/data_code/data/adele/augmented/*'\n",
    "adele_folders = glob.glob(adele_path)\n",
    "adele_files = [j for i in adele_folders for j in glob.glob(f'{i}/*')]\n",
    "# adele_files = [j for i in adele_folders for j in glob.glob(f'{i}/*') if get_duration(j) <= limit]\n",
    "hilfe_path = '/shareddrive/working/data_code/data/hilfe/augmented/*'\n",
    "hilfe_folders = glob.glob(hilfe_path)\n",
    "hilfe_files = [j for i in hilfe_folders for j in glob.glob(f'{i}/*')]\n",
    "# hilfe_files = [j for i in hilfe_folders for j in glob.glob(f'{i}/*') if get_duration(j) <= limit]"
   ]
  },
  {
   "cell_type": "code",
   "execution_count": 8,
   "metadata": {},
   "outputs": [
    {
     "data": {
      "text/plain": [
       "(10950, 10935)"
      ]
     },
     "execution_count": 8,
     "metadata": {},
     "output_type": "execute_result"
    }
   ],
   "source": [
    "len(adele_files),len(hilfe_files)"
   ]
  },
  {
   "cell_type": "code",
   "execution_count": 9,
   "metadata": {},
   "outputs": [
    {
     "data": {
      "text/plain": [
       "10950"
      ]
     },
     "execution_count": 9,
     "metadata": {},
     "output_type": "execute_result"
    }
   ],
   "source": [
    "no_of_files = 1109+660\n",
    "file_path_and_labels = list()\n",
    "# file_path_and_labels.extend([(i,1) for i in random.sample(adele_files,no_of_files)])\n",
    "file_path_and_labels.extend([(i,1) for i in adele_files])\n",
    "# file_path_and_labels.extend([(i,2) for i in random.sample(hilfe_files,no_of_files)])\n",
    "# file_path_and_labels.extend([(i,2) for i in hilfe_files])\n",
    "# avg_files = (len(adele_files) + len(hilfe_files)) // 2\n",
    "avg_files = len(adele_files)\n",
    "# file_path_and_labels.extend([(i,0) for i in random.sample(recording_files,len(recording_files)//2)])\n",
    "file_path_and_labels.extend([(i,0) for i in random.sample(word_files,avg_files)])\n",
    "file_path_and_labels.extend([(i,0) for i in noise_files])\n",
    "file_path_and_labels.extend([(i,0) for i in environment_files])\n",
    "random.shuffle(file_path_and_labels)\n",
    "avg_files"
   ]
  },
  {
   "cell_type": "code",
   "execution_count": 10,
   "metadata": {},
   "outputs": [
    {
     "data": {
      "text/plain": [
       "8047"
      ]
     },
     "execution_count": 10,
     "metadata": {},
     "output_type": "execute_result"
    }
   ],
   "source": [
    "avg_files-len(recording_files)//2"
   ]
  },
  {
   "cell_type": "code",
   "execution_count": 11,
   "metadata": {},
   "outputs": [
    {
     "name": "stdout",
     "output_type": "stream",
     "text": [
      "(128, 32)\n"
     ]
    }
   ],
   "source": [
    "sr = 16000\n",
    "max_seconds = 1\n",
    "pad_or_trunc = lambda a,i : a[0:i] if len(a) > i else a if len(a) == i else np.pad(a,(0, (i-len(a))))\n",
    "\n",
    "def process_data(y,sr,max_seconds):\n",
    "    y = pad_or_trunc(y,sr*max_seconds)\n",
    "    features = librosa.feature.melspectrogram(y=y,sr=sr,n_fft=1024)\n",
    "    return features\n",
    "    \n",
    "def get_processed_data(audio_file):\n",
    "    y,_ = librosa.load(audio_file,sr=sr)\n",
    "    # y = nr.reduce_noise(y=y, sr=sr,n_fft=1024)\n",
    "    # y[np.isnan(y)] = 0\n",
    "    features = process_data(y,sr,max_seconds)\n",
    "    return features\n",
    "try:\n",
    "    with open('f_and_l.pickle','rb') as f:\n",
    "        features_and_labels = pickle.load(f)\n",
    "except:\n",
    "    features_and_labels = list()\n",
    "    for i,j in file_path_and_labels:\n",
    "        try:\n",
    "            features = get_processed_data(i)\n",
    "            features_and_labels.append((features,j))\n",
    "        except: print(i)\n",
    "        # features = get_processed_data(i)\n",
    "        # features_and_labels.append(features,j)\n",
    "    # with open('f_and_l.pickle','wb') as f:\n",
    "    #     pickle.dump(features_and_labels,f)\n",
    "finally:\n",
    "    print(features_and_labels[0][0].shape)"
   ]
  },
  {
   "cell_type": "code",
   "execution_count": 12,
   "metadata": {},
   "outputs": [],
   "source": [
    "\n",
    "\n",
    "class DataSequenceRaw(tf.keras.utils.Sequence):\n",
    "\n",
    "    def __init__(self,data,batch_size):\n",
    "        self.data_size = len(data)\n",
    "        audios,labels = zip(*data)\n",
    "        self.X = np.array(audios)\n",
    "        self.Y = np.array(labels)\n",
    "        self.batch_size = batch_size\n",
    "\n",
    "        \n",
    "    def __len__(self):\n",
    "        return int(np.ceil(self.data_size / self.batch_size))\n",
    "\n",
    "    def __getitem__(self,idx):\n",
    "        s = idx * self.batch_size\n",
    "        e = (idx + 1) * self.batch_size\n",
    "        X = self.X[s:e]\n",
    "        Y = self.Y[s:e]\n",
    "        return X,Y\n"
   ]
  },
  {
   "cell_type": "code",
   "execution_count": 13,
   "metadata": {},
   "outputs": [],
   "source": [
    "def _get_train_val_size(total_examples,train_percent=70):\n",
    "    \n",
    "    train_ratio = round(train_percent)/100\n",
    "    remaining_percent = 100 - train_percent\n",
    "    test_percent = round(remaining_percent/3)*2\n",
    "    val_percent = remaining_percent - test_percent\n",
    "    val_ratio = val_percent/100\n",
    "    train_size = round(total_examples * train_ratio)\n",
    "    val_size = round(total_examples * val_ratio)\n",
    "    return train_size,val_size\n",
    "\n",
    "def get_data_raw(data,train_percent=70,batch_size=32):\n",
    "\n",
    "    train_size,val_size = _get_train_val_size(len(data),train_percent)\n",
    "\n",
    "    train_examples = data[:train_size]\n",
    "    val_examples = data[train_size:train_size+val_size]\n",
    "    test_examples = data[train_size+val_size:]\n",
    "\n",
    "    train = DataSequenceRaw(train_examples,batch_size=batch_size)\n",
    "    test = DataSequenceRaw(test_examples,batch_size=1)\n",
    "    val = DataSequenceRaw(val_examples,batch_size=batch_size)\n",
    "\n",
    "    return train,test,val\n",
    "\n",
    "train,test,val = get_data_raw(features_and_labels,train_percent=80)"
   ]
  },
  {
   "cell_type": "code",
   "execution_count": 14,
   "metadata": {},
   "outputs": [],
   "source": [
    "shape = train[0][0][0].shape\n",
    "input_shape = [*shape,1]"
   ]
  },
  {
   "cell_type": "code",
   "execution_count": 15,
   "metadata": {},
   "outputs": [],
   "source": [
    "def get_model(\n",
    "        input_shape,\n",
    "        output_neurons=1,\n",
    "        output_activation='sigmoid',\n",
    "        loss=tf.keras.losses.binary_crossentropy,\n",
    "        lr=0.0001\n",
    "):\n",
    "    _input = tf.keras.layers.Input(shape=input_shape)\n",
    "    # x = tf.keras.layers.Conv1D(200,kernel_size=3,padding='valid',activation='relu')(_input)\n",
    "    # x = tf.keras.layers.Dropout(0.5)(x)\n",
    "    # x = tf.keras.layers.GRU(150,return_sequences=False)(x)\n",
    "    # x = tf.keras.layers.Flatten()(x)\n",
    "    # x = tf.keras.layers.Dense(1024,activation='relu')(x)\n",
    "    # x = tf.keras.layers.Dropout(0.5)(x)\n",
    "    # x = tf.keras.layers.Dense(512,activation='relu')(x)\n",
    "    # x = tf.keras.layers.Dense(64,activation='relu')(x)\n",
    "    # x = tf.keras.layers.Dropout(0.5)(x)\n",
    "    # x = tf.keras.layers.Dense(32,activation='relu')(x)\n",
    "    # x = tf.keras.layers.Dropout(0.5)(x)\n",
    "    # x = tf.keras.layers.Dense(10,activation='relu')(x)\n",
    "    _input = tf.keras.layers.Input(shape=input_shape)\n",
    "    x = tf.keras.layers.Conv2D(512,kernel_size=3,padding='valid',activation='relu')(_input)\n",
    "    x = tf.keras.layers.Conv2D(256,kernel_size=3,padding='valid',activation='relu')(x)\n",
    "    x = tf.keras.layers.Conv2D(128,kernel_size=3,padding='valid',activation='relu')(x)\n",
    "    x = tf.keras.layers.Conv2D(128,kernel_size=3,padding='valid',activation='relu')(x)\n",
    "    x = tf.keras.layers.Dropout(0.5)(x)\n",
    "    x = tf.keras.layers.Conv2D(64,kernel_size=3,padding='valid',activation='relu')(x)\n",
    "    x = tf.keras.layers.Conv2D(32,kernel_size=3,padding='valid',activation='relu')(x)\n",
    "    x = tf.keras.layers.Conv2D(16,kernel_size=3,padding='valid',activation='relu')(x)\n",
    "    x = tf.keras.layers.Conv2D(16,kernel_size=3,padding='valid',activation='relu')(x)\n",
    "    x = tf.keras.layers.Flatten()(x)\n",
    "    x = tf.keras.layers.Dense(1024,activation='relu')(x)\n",
    "    x = tf.keras.layers.Dropout(0.5)(x)\n",
    "    x = tf.keras.layers.Dense(512,activation='relu')(x)\n",
    "    x = tf.keras.layers.Dense(64,activation='relu')(x)\n",
    "    x = tf.keras.layers.Dropout(0.5)(x)\n",
    "    x = tf.keras.layers.Dense(32,activation='relu')(x)\n",
    "    x = tf.keras.layers.Dropout(0.5)(x)\n",
    "    x = tf.keras.layers.Dense(10,activation='relu')(x)\n",
    "    outputs = tf.keras.layers.Dense(output_neurons,activation=output_activation,kernel_regularizer=tf.keras.regularizers.L2(l2=0.01))(x)\n",
    "    model = tf.keras.Model(inputs=_input,outputs=outputs)\n",
    "\n",
    "    model.compile(\n",
    "        loss=loss,\n",
    "        optimizer=tf.keras.optimizers.Adam(learning_rate=lr),\n",
    "        metrics=['accuracy'],\n",
    "    )\n",
    "\n",
    "    return model\n",
    "\n",
    "model = get_model(\n",
    "        input_shape=input_shape,\n",
    "        # output_neurons=1,\n",
    "        # output_activation='softmax',\n",
    "        # loss=tf.keras.losses.sparse_categorical_crossentropy,\n",
    "        lr=0.001\n",
    ")\n",
    "\n"
   ]
  },
  {
   "cell_type": "code",
   "execution_count": 16,
   "metadata": {},
   "outputs": [
    {
     "name": "stdout",
     "output_type": "stream",
     "text": [
      "Epoch 1/100\n"
     ]
    },
    {
     "name": "stderr",
     "output_type": "stream",
     "text": [
      "/usr/local/lib/python3.11/dist-packages/keras/src/trainers/data_adapters/py_dataset_adapter.py:121: UserWarning: Your `PyDataset` class should call `super().__init__(**kwargs)` in its constructor. `**kwargs` can include `workers`, `use_multiprocessing`, `max_queue_size`. Do not pass these arguments to `fit()`, as they will be ignored.\n",
      "  self._warn_if_super_not_called()\n",
      "WARNING: All log messages before absl::InitializeLog() is called are written to STDERR\n",
      "I0000 00:00:1723706452.587470     189 service.cc:146] XLA service 0x7f9280002120 initialized for platform CUDA (this does not guarantee that XLA will be used). Devices:\n",
      "I0000 00:00:1723706452.587506     189 service.cc:154]   StreamExecutor device (0): NVIDIA L40S, Compute Capability 8.9\n",
      "2024-08-15 07:20:52.716973: I tensorflow/compiler/mlir/tensorflow/utils/dump_mlir_util.cc:268] disabling MLIR crash reproducer, set env var `MLIR_CRASH_REPRODUCER_DIRECTORY` to enable.\n",
      "2024-08-15 07:20:53.273526: I external/local_xla/xla/stream_executor/cuda/cuda_dnn.cc:531] Loaded cuDNN version 8907\n",
      "2024-08-15 07:20:54.242507: I external/local_xla/xla/stream_executor/cuda/cuda_asm_compiler.cc:393] ptxas warning : Registers are spilled to local memory in function 'gemm_fusion_dot_2678', 8 bytes spill stores, 8 bytes spill loads\n",
      "\n",
      "2024-08-15 07:20:54.356563: I external/local_xla/xla/stream_executor/cuda/cuda_asm_compiler.cc:393] ptxas warning : Registers are spilled to local memory in function 'gemm_fusion_dot_2678', 32 bytes spill stores, 32 bytes spill loads\n",
      "\n"
     ]
    },
    {
     "name": "stdout",
     "output_type": "stream",
     "text": [
      "\u001b[1m  7/592\u001b[0m \u001b[37m━━━━━━━━━━━━━━━━━━━━\u001b[0m \u001b[1m15s\u001b[0m 27ms/step - accuracy: 0.4942 - loss: 0.7938"
     ]
    },
    {
     "name": "stderr",
     "output_type": "stream",
     "text": [
      "I0000 00:00:1723706461.586549     189 device_compiler.h:188] Compiled cluster using XLA!  This line is logged at most once for the lifetime of the process.\n"
     ]
    },
    {
     "name": "stdout",
     "output_type": "stream",
     "text": [
      "\u001b[1m297/592\u001b[0m \u001b[32m━━━━━━━━━━\u001b[0m\u001b[37m━━━━━━━━━━\u001b[0m \u001b[1m7s\u001b[0m 26ms/step - accuracy: 0.7042 - loss: 0.6377"
     ]
    },
    {
     "name": "stderr",
     "output_type": "stream",
     "text": [
      "2024-08-15 07:21:10.305322: I external/local_xla/xla/stream_executor/cuda/cuda_asm_compiler.cc:393] ptxas warning : Registers are spilled to local memory in function 'gemm_fusion_dot_2678', 8 bytes spill stores, 8 bytes spill loads\n",
      "\n",
      "2024-08-15 07:21:10.653815: I external/local_xla/xla/stream_executor/cuda/cuda_asm_compiler.cc:393] ptxas warning : Registers are spilled to local memory in function 'gemm_fusion_dot_2678', 24 bytes spill stores, 24 bytes spill loads\n",
      "\n"
     ]
    },
    {
     "name": "stdout",
     "output_type": "stream",
     "text": [
      "\u001b[1m592/592\u001b[0m \u001b[32m━━━━━━━━━━━━━━━━━━━━\u001b[0m\u001b[37m\u001b[0m \u001b[1m0s\u001b[0m 37ms/step - accuracy: 0.7649 - loss: 0.5464"
     ]
    },
    {
     "name": "stderr",
     "output_type": "stream",
     "text": [
      "2024-08-15 07:21:24.334394: I external/local_xla/xla/stream_executor/cuda/cuda_asm_compiler.cc:393] ptxas warning : Registers are spilled to local memory in function 'gemm_fusion_dot_114', 132 bytes spill stores, 132 bytes spill loads\n",
      "\n",
      "2024-08-15 07:21:27.912966: I external/local_xla/xla/stream_executor/cuda/cuda_asm_compiler.cc:393] ptxas warning : Registers are spilled to local memory in function 'gemm_fusion_dot_114', 4 bytes spill stores, 4 bytes spill loads\n",
      "\n"
     ]
    },
    {
     "name": "stdout",
     "output_type": "stream",
     "text": [
      "\u001b[1m592/592\u001b[0m \u001b[32m━━━━━━━━━━━━━━━━━━━━\u001b[0m\u001b[37m\u001b[0m \u001b[1m40s\u001b[0m 47ms/step - accuracy: 0.7650 - loss: 0.5462 - val_accuracy: 0.9570 - val_loss: 0.1464 - learning_rate: 0.0010\n",
      "Epoch 2/100\n",
      "\u001b[1m592/592\u001b[0m \u001b[32m━━━━━━━━━━━━━━━━━━━━\u001b[0m\u001b[37m\u001b[0m \u001b[1m16s\u001b[0m 26ms/step - accuracy: 0.9554 - loss: 0.1622 - val_accuracy: 0.9775 - val_loss: 0.0686 - learning_rate: 0.0010\n",
      "Epoch 3/100\n",
      "\u001b[1m592/592\u001b[0m \u001b[32m━━━━━━━━━━━━━━━━━━━━\u001b[0m\u001b[37m\u001b[0m \u001b[1m16s\u001b[0m 26ms/step - accuracy: 0.9692 - loss: 0.1191 - val_accuracy: 0.9768 - val_loss: 0.0771 - learning_rate: 0.0010\n",
      "Epoch 4/100\n",
      "\u001b[1m592/592\u001b[0m \u001b[32m━━━━━━━━━━━━━━━━━━━━\u001b[0m\u001b[37m\u001b[0m \u001b[1m16s\u001b[0m 26ms/step - accuracy: 0.9732 - loss: 0.1048 - val_accuracy: 0.9817 - val_loss: 0.0838 - learning_rate: 0.0010\n",
      "Epoch 5/100\n",
      "\u001b[1m592/592\u001b[0m \u001b[32m━━━━━━━━━━━━━━━━━━━━\u001b[0m\u001b[37m\u001b[0m \u001b[1m15s\u001b[0m 26ms/step - accuracy: 0.9756 - loss: 0.0828 - val_accuracy: 0.9796 - val_loss: 0.1341 - learning_rate: 0.0010\n",
      "Epoch 6/100\n",
      "\u001b[1m592/592\u001b[0m \u001b[32m━━━━━━━━━━━━━━━━━━━━\u001b[0m\u001b[37m\u001b[0m \u001b[1m15s\u001b[0m 26ms/step - accuracy: 0.9836 - loss: 0.0586 - val_accuracy: 0.9768 - val_loss: 0.0643 - learning_rate: 0.0010\n",
      "Epoch 7/100\n",
      "\u001b[1m592/592\u001b[0m \u001b[32m━━━━━━━━━━━━━━━━━━━━\u001b[0m\u001b[37m\u001b[0m \u001b[1m15s\u001b[0m 26ms/step - accuracy: 0.9849 - loss: 0.0554 - val_accuracy: 0.9845 - val_loss: 0.0477 - learning_rate: 0.0010\n",
      "Epoch 8/100\n",
      "\u001b[1m592/592\u001b[0m \u001b[32m━━━━━━━━━━━━━━━━━━━━\u001b[0m\u001b[37m\u001b[0m \u001b[1m15s\u001b[0m 26ms/step - accuracy: 0.9909 - loss: 0.0410 - val_accuracy: 0.9789 - val_loss: 0.0754 - learning_rate: 0.0010\n",
      "Epoch 9/100\n",
      "\u001b[1m592/592\u001b[0m \u001b[32m━━━━━━━━━━━━━━━━━━━━\u001b[0m\u001b[37m\u001b[0m \u001b[1m15s\u001b[0m 26ms/step - accuracy: 0.9863 - loss: 0.0535 - val_accuracy: 0.9894 - val_loss: 0.0387 - learning_rate: 0.0010\n",
      "Epoch 10/100\n",
      "\u001b[1m592/592\u001b[0m \u001b[32m━━━━━━━━━━━━━━━━━━━━\u001b[0m\u001b[37m\u001b[0m \u001b[1m15s\u001b[0m 26ms/step - accuracy: 0.9922 - loss: 0.0305 - val_accuracy: 0.9866 - val_loss: 0.0463 - learning_rate: 0.0010\n",
      "Epoch 11/100\n",
      "\u001b[1m592/592\u001b[0m \u001b[32m━━━━━━━━━━━━━━━━━━━━\u001b[0m\u001b[37m\u001b[0m \u001b[1m16s\u001b[0m 26ms/step - accuracy: 0.9924 - loss: 0.0287 - val_accuracy: 0.9873 - val_loss: 0.0540 - learning_rate: 0.0010\n",
      "Epoch 12/100\n",
      "\u001b[1m592/592\u001b[0m \u001b[32m━━━━━━━━━━━━━━━━━━━━\u001b[0m\u001b[37m\u001b[0m \u001b[1m15s\u001b[0m 26ms/step - accuracy: 0.9919 - loss: 0.0328 - val_accuracy: 0.9873 - val_loss: 0.0373 - learning_rate: 0.0010\n"
     ]
    }
   ],
   "source": [
    "reduce_lr = tf.keras.callbacks.ReduceLROnPlateau(monitor='val_accuracy',factor=0.1,patience=5,mode='max')\n",
    "early_stopping = tf.keras.callbacks.EarlyStopping(monitor='val_accuracy',patience=1,mode='max',restore_best_weights=True,start_from_epoch=10)\n",
    "with tf.device('/gpu'):\n",
    "    history = model.fit(train,epochs=100,validation_data=val,verbose=1,callbacks=[reduce_lr,early_stopping])"
   ]
  },
  {
   "cell_type": "code",
   "execution_count": 17,
   "metadata": {},
   "outputs": [
    {
     "name": "stdout",
     "output_type": "stream",
     "text": [
      "\u001b[1m3314/3314\u001b[0m \u001b[32m━━━━━━━━━━━━━━━━━━━━\u001b[0m\u001b[37m\u001b[0m \u001b[1m5s\u001b[0m 1ms/step - accuracy: 0.9838 - loss: 0.0558\n"
     ]
    },
    {
     "data": {
      "text/plain": [
       "[0.058092713356018066, 0.9831019639968872]"
      ]
     },
     "execution_count": 17,
     "metadata": {},
     "output_type": "execute_result"
    }
   ],
   "source": [
    "model.evaluate(test)"
   ]
  },
  {
   "cell_type": "code",
   "execution_count": 18,
   "metadata": {},
   "outputs": [],
   "source": [
    "folder_path = '/shareddrive/working/model_code/models/custom_model_1/trail_8'\n",
    "os.makedirs(folder_path,exist_ok=True)\n",
    "model_path = f'{folder_path}/16k_melspec-nfft-1024_a_cnn_dense_model.keras'\n",
    "model.save(model_path)"
   ]
  },
  {
   "cell_type": "code",
   "execution_count": null,
   "metadata": {},
   "outputs": [],
   "source": []
  }
 ],
 "metadata": {
  "kernelspec": {
   "display_name": "Python 3 (ipykernel)",
   "language": "python",
   "name": "python3"
  },
  "language_info": {
   "codemirror_mode": {
    "name": "ipython",
    "version": 3
   },
   "file_extension": ".py",
   "mimetype": "text/x-python",
   "name": "python",
   "nbconvert_exporter": "python",
   "pygments_lexer": "ipython3",
   "version": "3.11.0rc1"
  }
 },
 "nbformat": 4,
 "nbformat_minor": 4
}
