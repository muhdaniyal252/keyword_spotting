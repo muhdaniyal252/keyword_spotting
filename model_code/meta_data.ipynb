{
 "cells": [
  {
   "cell_type": "code",
   "execution_count": 9,
   "id": "42c625fe-36ab-441c-aee5-a3048d3fb0ab",
   "metadata": {},
   "outputs": [],
   "source": [
    "\n",
    "\n",
    "actual_model = \"/shareddrive/working/model_code/models/custom_model_4/trail_1/16k_melspec-nfft-1024_a_cnn_dense_model.keras\"\n",
    "model_file = \"/shareddrive/working/model_code/models/custom_model_4/trail_1/16k_melspec-nfft-1024_a_cnn_dense_model.tflite\"\n",
    "export_model_file = \"/shareddrive/working/model_code/models/custom_model_4/trail_1/16k_melspec-nfft-1024_a_cnn_dense_model_meta.tflite\"\n"
   ]
  },
  {
   "cell_type": "code",
   "execution_count": 2,
   "id": "1307f6cd-1b6f-48b5-9c31-ab5414cdd271",
   "metadata": {},
   "outputs": [
    {
     "name": "stderr",
     "output_type": "stream",
     "text": [
      "2024-09-04 06:35:19.817898: I tensorflow/core/util/port.cc:110] oneDNN custom operations are on. You may see slightly different numerical results due to floating-point round-off errors from different computation orders. To turn them off, set the environment variable `TF_ENABLE_ONEDNN_OPTS=0`.\n",
      "2024-09-04 06:35:21.725984: I tensorflow/core/platform/cpu_feature_guard.cc:182] This TensorFlow binary is optimized to use available CPU instructions in performance-critical operations.\n",
      "To enable the following instructions: AVX2 AVX512F AVX512_VNNI FMA, in other operations, rebuild TensorFlow with the appropriate compiler flags.\n"
     ]
    }
   ],
   "source": [
    "\n",
    "from tflite_support import metadata_schema_py_generated as _metadata_fb\n",
    "from tflite_support import metadata as _metadata\n",
    "from tflite_support.metadata_writers import writer_utils\n",
    "import flatbuffers"
   ]
  },
  {
   "cell_type": "code",
   "execution_count": 3,
   "id": "249d83d3",
   "metadata": {},
   "outputs": [],
   "source": [
    "model_meta = _metadata_fb.ModelMetadataT()\n",
    "model_meta.name = \"Binary Classification Model\"\n",
    "model_meta.description = \"A CNN-based binary classification model for audio data.\"\n",
    "model_meta.version = \"v1\"\n",
    "model_meta.author = \"Muhammad Daniyal\""
   ]
  },
  {
   "cell_type": "code",
   "execution_count": 4,
   "id": "8c8588bd",
   "metadata": {},
   "outputs": [],
   "source": [
    "input_meta = _metadata_fb.TensorMetadataT()\n",
    "input_meta.name = \"Input Tensor\"\n",
    "input_meta.description = (\n",
    "    \"Input to the model is a Mel spectrogram of audio, represented as an array of shape [1,128,32,1].\"\n",
    ")\n",
    "input_meta.content = _metadata_fb.ContentT()\n",
    "input_meta.content.contentProperties = _metadata_fb.AudioPropertiesT()\n",
    "input_meta.content.contentProperties.sampleRate = 16000  # Update based on your actual sample rate\n",
    "input_meta.content.contentPropertiesType = _metadata_fb.ContentProperties.AudioProperties\n",
    "input_meta.shape = [1, 128, 32, 1]\n",
    "input_meta.dtype = 'float32'"
   ]
  },
  {
   "cell_type": "code",
   "execution_count": 5,
   "id": "02f0bb20",
   "metadata": {},
   "outputs": [],
   "source": [
    "output_meta = _metadata_fb.TensorMetadataT()\n",
    "output_meta.name = \"Output Tensor\"\n",
    "output_meta.description = \"Output is a float value between 0 and 1 representing the probability of the positive class.\"\n",
    "output_meta.content = _metadata_fb.ContentT()\n",
    "output_meta.content.contentPropertiesType = _metadata_fb.ContentProperties.FeatureProperties\n",
    "output_meta.content.range = _metadata_fb.ValueRangeT()\n",
    "output_meta.content.range.min = 0.0\n",
    "output_meta.content.range.max = 1.0\n",
    "output_meta.shape = [1]\n",
    "output_meta.dtype = 'float32'"
   ]
  },
  {
   "cell_type": "code",
   "execution_count": 6,
   "id": "7ac4df9e",
   "metadata": {},
   "outputs": [],
   "source": [
    "subgraph = _metadata_fb.SubGraphMetadataT()\n",
    "subgraph.inputTensorMetadata = [input_meta]\n",
    "subgraph.outputTensorMetadata = [output_meta]"
   ]
  },
  {
   "cell_type": "code",
   "execution_count": 7,
   "id": "4d2632a1",
   "metadata": {},
   "outputs": [],
   "source": [
    "model_meta.subgraphMetadata = [subgraph]\n"
   ]
  },
  {
   "cell_type": "code",
   "execution_count": 8,
   "id": "9d185bfc",
   "metadata": {},
   "outputs": [
    {
     "ename": "error",
     "evalue": "required argument is not an integer",
     "output_type": "error",
     "traceback": [
      "\u001b[0;31m---------------------------------------------------------------------------\u001b[0m",
      "\u001b[0;31merror\u001b[0m                                     Traceback (most recent call last)",
      "Cell \u001b[0;32mIn[8], line 2\u001b[0m\n\u001b[1;32m      1\u001b[0m builder \u001b[38;5;241m=\u001b[39m flatbuffers\u001b[38;5;241m.\u001b[39mBuilder(\u001b[38;5;241m0\u001b[39m)\n\u001b[0;32m----> 2\u001b[0m meta_offset \u001b[38;5;241m=\u001b[39m \u001b[43mmodel_meta\u001b[49m\u001b[38;5;241;43m.\u001b[39;49m\u001b[43mPack\u001b[49m\u001b[43m(\u001b[49m\u001b[43mbuilder\u001b[49m\u001b[43m)\u001b[49m\n\u001b[1;32m      3\u001b[0m builder\u001b[38;5;241m.\u001b[39mFinish(\n\u001b[1;32m      4\u001b[0m     meta_offset,\n\u001b[1;32m      5\u001b[0m     _metadata\u001b[38;5;241m.\u001b[39mMetadataPopulator\u001b[38;5;241m.\u001b[39mMETADATA_FILE_IDENTIFIER\n\u001b[1;32m      6\u001b[0m )\n\u001b[1;32m      7\u001b[0m metadata_buf \u001b[38;5;241m=\u001b[39m builder\u001b[38;5;241m.\u001b[39mOutput()\n",
      "File \u001b[0;32m/usr/local/lib/python3.8/dist-packages/tensorflow_lite_support/metadata/metadata_schema_py_generated.py:2686\u001b[0m, in \u001b[0;36mModelMetadataT.Pack\u001b[0;34m(self, builder)\u001b[0m\n\u001b[1;32m   2684\u001b[0m subgraphMetadatalist \u001b[38;5;241m=\u001b[39m []\n\u001b[1;32m   2685\u001b[0m \u001b[38;5;28;01mfor\u001b[39;00m i \u001b[38;5;129;01min\u001b[39;00m \u001b[38;5;28mrange\u001b[39m(\u001b[38;5;28mlen\u001b[39m(\u001b[38;5;28mself\u001b[39m\u001b[38;5;241m.\u001b[39msubgraphMetadata)):\n\u001b[0;32m-> 2686\u001b[0m     subgraphMetadatalist\u001b[38;5;241m.\u001b[39mappend(\u001b[38;5;28;43mself\u001b[39;49m\u001b[38;5;241;43m.\u001b[39;49m\u001b[43msubgraphMetadata\u001b[49m\u001b[43m[\u001b[49m\u001b[43mi\u001b[49m\u001b[43m]\u001b[49m\u001b[38;5;241;43m.\u001b[39;49m\u001b[43mPack\u001b[49m\u001b[43m(\u001b[49m\u001b[43mbuilder\u001b[49m\u001b[43m)\u001b[49m)\n\u001b[1;32m   2687\u001b[0m ModelMetadataStartSubgraphMetadataVector(builder, \u001b[38;5;28mlen\u001b[39m(\u001b[38;5;28mself\u001b[39m\u001b[38;5;241m.\u001b[39msubgraphMetadata))\n\u001b[1;32m   2688\u001b[0m \u001b[38;5;28;01mfor\u001b[39;00m i \u001b[38;5;129;01min\u001b[39;00m \u001b[38;5;28mreversed\u001b[39m(\u001b[38;5;28mrange\u001b[39m(\u001b[38;5;28mlen\u001b[39m(\u001b[38;5;28mself\u001b[39m\u001b[38;5;241m.\u001b[39msubgraphMetadata))):\n",
      "File \u001b[0;32m/usr/local/lib/python3.8/dist-packages/tensorflow_lite_support/metadata/metadata_schema_py_generated.py:2425\u001b[0m, in \u001b[0;36mSubGraphMetadataT.Pack\u001b[0;34m(self, builder)\u001b[0m\n\u001b[1;32m   2423\u001b[0m outputTensorMetadatalist \u001b[38;5;241m=\u001b[39m []\n\u001b[1;32m   2424\u001b[0m \u001b[38;5;28;01mfor\u001b[39;00m i \u001b[38;5;129;01min\u001b[39;00m \u001b[38;5;28mrange\u001b[39m(\u001b[38;5;28mlen\u001b[39m(\u001b[38;5;28mself\u001b[39m\u001b[38;5;241m.\u001b[39moutputTensorMetadata)):\n\u001b[0;32m-> 2425\u001b[0m     outputTensorMetadatalist\u001b[38;5;241m.\u001b[39mappend(\u001b[38;5;28;43mself\u001b[39;49m\u001b[38;5;241;43m.\u001b[39;49m\u001b[43moutputTensorMetadata\u001b[49m\u001b[43m[\u001b[49m\u001b[43mi\u001b[49m\u001b[43m]\u001b[49m\u001b[38;5;241;43m.\u001b[39;49m\u001b[43mPack\u001b[49m\u001b[43m(\u001b[49m\u001b[43mbuilder\u001b[49m\u001b[43m)\u001b[49m)\n\u001b[1;32m   2426\u001b[0m SubGraphMetadataStartOutputTensorMetadataVector(builder, \u001b[38;5;28mlen\u001b[39m(\u001b[38;5;28mself\u001b[39m\u001b[38;5;241m.\u001b[39moutputTensorMetadata))\n\u001b[1;32m   2427\u001b[0m \u001b[38;5;28;01mfor\u001b[39;00m i \u001b[38;5;129;01min\u001b[39;00m \u001b[38;5;28mreversed\u001b[39m(\u001b[38;5;28mrange\u001b[39m(\u001b[38;5;28mlen\u001b[39m(\u001b[38;5;28mself\u001b[39m\u001b[38;5;241m.\u001b[39moutputTensorMetadata))):\n",
      "File \u001b[0;32m/usr/local/lib/python3.8/dist-packages/tensorflow_lite_support/metadata/metadata_schema_py_generated.py:2053\u001b[0m, in \u001b[0;36mTensorMetadataT.Pack\u001b[0;34m(self, builder)\u001b[0m\n\u001b[1;32m   2051\u001b[0m     dimensionNames \u001b[38;5;241m=\u001b[39m builder\u001b[38;5;241m.\u001b[39mEndVector()\n\u001b[1;32m   2052\u001b[0m \u001b[38;5;28;01mif\u001b[39;00m \u001b[38;5;28mself\u001b[39m\u001b[38;5;241m.\u001b[39mcontent \u001b[38;5;129;01mis\u001b[39;00m \u001b[38;5;129;01mnot\u001b[39;00m \u001b[38;5;28;01mNone\u001b[39;00m:\n\u001b[0;32m-> 2053\u001b[0m     content \u001b[38;5;241m=\u001b[39m \u001b[38;5;28;43mself\u001b[39;49m\u001b[38;5;241;43m.\u001b[39;49m\u001b[43mcontent\u001b[49m\u001b[38;5;241;43m.\u001b[39;49m\u001b[43mPack\u001b[49m\u001b[43m(\u001b[49m\u001b[43mbuilder\u001b[49m\u001b[43m)\u001b[49m\n\u001b[1;32m   2054\u001b[0m \u001b[38;5;28;01mif\u001b[39;00m \u001b[38;5;28mself\u001b[39m\u001b[38;5;241m.\u001b[39mprocessUnits \u001b[38;5;129;01mis\u001b[39;00m \u001b[38;5;129;01mnot\u001b[39;00m \u001b[38;5;28;01mNone\u001b[39;00m:\n\u001b[1;32m   2055\u001b[0m     processUnitslist \u001b[38;5;241m=\u001b[39m []\n",
      "File \u001b[0;32m/usr/local/lib/python3.8/dist-packages/tensorflow_lite_support/metadata/metadata_schema_py_generated.py:813\u001b[0m, in \u001b[0;36mContentT.Pack\u001b[0;34m(self, builder)\u001b[0m\n\u001b[1;32m    811\u001b[0m     contentProperties \u001b[38;5;241m=\u001b[39m \u001b[38;5;28mself\u001b[39m\u001b[38;5;241m.\u001b[39mcontentProperties\u001b[38;5;241m.\u001b[39mPack(builder)\n\u001b[1;32m    812\u001b[0m \u001b[38;5;28;01mif\u001b[39;00m \u001b[38;5;28mself\u001b[39m\u001b[38;5;241m.\u001b[39mrange \u001b[38;5;129;01mis\u001b[39;00m \u001b[38;5;129;01mnot\u001b[39;00m \u001b[38;5;28;01mNone\u001b[39;00m:\n\u001b[0;32m--> 813\u001b[0m     \u001b[38;5;28mrange\u001b[39m \u001b[38;5;241m=\u001b[39m \u001b[38;5;28;43mself\u001b[39;49m\u001b[38;5;241;43m.\u001b[39;49m\u001b[43mrange\u001b[49m\u001b[38;5;241;43m.\u001b[39;49m\u001b[43mPack\u001b[49m\u001b[43m(\u001b[49m\u001b[43mbuilder\u001b[49m\u001b[43m)\u001b[49m\n\u001b[1;32m    814\u001b[0m ContentStart(builder)\n\u001b[1;32m    815\u001b[0m ContentAddContentPropertiesType(builder, \u001b[38;5;28mself\u001b[39m\u001b[38;5;241m.\u001b[39mcontentPropertiesType)\n",
      "File \u001b[0;32m/usr/local/lib/python3.8/dist-packages/tensorflow_lite_support/metadata/metadata_schema_py_generated.py:714\u001b[0m, in \u001b[0;36mValueRangeT.Pack\u001b[0;34m(self, builder)\u001b[0m\n\u001b[1;32m    712\u001b[0m ValueRangeStart(builder)\n\u001b[1;32m    713\u001b[0m ValueRangeAddMin(builder, \u001b[38;5;28mself\u001b[39m\u001b[38;5;241m.\u001b[39mmin)\n\u001b[0;32m--> 714\u001b[0m \u001b[43mValueRangeAddMax\u001b[49m\u001b[43m(\u001b[49m\u001b[43mbuilder\u001b[49m\u001b[43m,\u001b[49m\u001b[43m \u001b[49m\u001b[38;5;28;43mself\u001b[39;49m\u001b[38;5;241;43m.\u001b[39;49m\u001b[43mmax\u001b[49m\u001b[43m)\u001b[49m\n\u001b[1;32m    715\u001b[0m valueRange \u001b[38;5;241m=\u001b[39m ValueRangeEnd(builder)\n\u001b[1;32m    716\u001b[0m \u001b[38;5;28;01mreturn\u001b[39;00m valueRange\n",
      "File \u001b[0;32m/usr/local/lib/python3.8/dist-packages/tensorflow_lite_support/metadata/metadata_schema_py_generated.py:680\u001b[0m, in \u001b[0;36mValueRangeAddMax\u001b[0;34m(builder, max)\u001b[0m\n\u001b[0;32m--> 680\u001b[0m \u001b[38;5;28;01mdef\u001b[39;00m \u001b[38;5;21mValueRangeAddMax\u001b[39m(builder, \u001b[38;5;28mmax\u001b[39m): \u001b[43mbuilder\u001b[49m\u001b[38;5;241;43m.\u001b[39;49m\u001b[43mPrependInt32Slot\u001b[49m\u001b[43m(\u001b[49m\u001b[38;5;241;43m1\u001b[39;49m\u001b[43m,\u001b[49m\u001b[43m \u001b[49m\u001b[38;5;28;43mmax\u001b[39;49m\u001b[43m,\u001b[49m\u001b[43m \u001b[49m\u001b[38;5;241;43m0\u001b[39;49m\u001b[43m)\u001b[49m\n",
      "File \u001b[0;32m/usr/local/lib/python3.8/dist-packages/flatbuffers/builder.py:621\u001b[0m, in \u001b[0;36mBuilder.PrependInt32Slot\u001b[0;34m(self, *args)\u001b[0m\n\u001b[0;32m--> 621\u001b[0m \u001b[38;5;28;01mdef\u001b[39;00m \u001b[38;5;21mPrependInt32Slot\u001b[39m(\u001b[38;5;28mself\u001b[39m, \u001b[38;5;241m*\u001b[39margs): \u001b[38;5;28;43mself\u001b[39;49m\u001b[38;5;241;43m.\u001b[39;49m\u001b[43mPrependSlot\u001b[49m\u001b[43m(\u001b[49m\u001b[43mN\u001b[49m\u001b[38;5;241;43m.\u001b[39;49m\u001b[43mInt32Flags\u001b[49m\u001b[43m,\u001b[49m\u001b[43m \u001b[49m\u001b[38;5;241;43m*\u001b[39;49m\u001b[43margs\u001b[49m\u001b[43m)\u001b[49m\n",
      "File \u001b[0;32m/usr/local/lib/python3.8/dist-packages/flatbuffers/builder.py:602\u001b[0m, in \u001b[0;36mBuilder.PrependSlot\u001b[0;34m(self, flags, o, x, d)\u001b[0m\n\u001b[1;32m    600\u001b[0m     N\u001b[38;5;241m.\u001b[39menforce_number(d, flags)\n\u001b[1;32m    601\u001b[0m \u001b[38;5;28;01mif\u001b[39;00m x \u001b[38;5;241m!=\u001b[39m d \u001b[38;5;129;01mor\u001b[39;00m (\u001b[38;5;28mself\u001b[39m\u001b[38;5;241m.\u001b[39mforceDefaults \u001b[38;5;129;01mand\u001b[39;00m d \u001b[38;5;129;01mis\u001b[39;00m \u001b[38;5;129;01mnot\u001b[39;00m \u001b[38;5;28;01mNone\u001b[39;00m):\n\u001b[0;32m--> 602\u001b[0m     \u001b[38;5;28;43mself\u001b[39;49m\u001b[38;5;241;43m.\u001b[39;49m\u001b[43mPrepend\u001b[49m\u001b[43m(\u001b[49m\u001b[43mflags\u001b[49m\u001b[43m,\u001b[49m\u001b[43m \u001b[49m\u001b[43mx\u001b[49m\u001b[43m)\u001b[49m\n\u001b[1;32m    603\u001b[0m     \u001b[38;5;28mself\u001b[39m\u001b[38;5;241m.\u001b[39mSlot(o)\n",
      "File \u001b[0;32m/usr/local/lib/python3.8/dist-packages/flatbuffers/builder.py:594\u001b[0m, in \u001b[0;36mBuilder.Prepend\u001b[0;34m(self, flags, off)\u001b[0m\n\u001b[1;32m    592\u001b[0m \u001b[38;5;28;01mdef\u001b[39;00m \u001b[38;5;21mPrepend\u001b[39m(\u001b[38;5;28mself\u001b[39m, flags, off):\n\u001b[1;32m    593\u001b[0m     \u001b[38;5;28mself\u001b[39m\u001b[38;5;241m.\u001b[39mPrep(flags\u001b[38;5;241m.\u001b[39mbytewidth, \u001b[38;5;241m0\u001b[39m)\n\u001b[0;32m--> 594\u001b[0m     \u001b[38;5;28;43mself\u001b[39;49m\u001b[38;5;241;43m.\u001b[39;49m\u001b[43mPlace\u001b[49m\u001b[43m(\u001b[49m\u001b[43moff\u001b[49m\u001b[43m,\u001b[49m\u001b[43m \u001b[49m\u001b[43mflags\u001b[49m\u001b[43m)\u001b[49m\n",
      "File \u001b[0;32m/usr/local/lib/python3.8/dist-packages/flatbuffers/builder.py:762\u001b[0m, in \u001b[0;36mBuilder.Place\u001b[0;34m(self, x, flags)\u001b[0m\n\u001b[1;32m    760\u001b[0m N\u001b[38;5;241m.\u001b[39menforce_number(x, flags)\n\u001b[1;32m    761\u001b[0m \u001b[38;5;28mself\u001b[39m\u001b[38;5;241m.\u001b[39mhead \u001b[38;5;241m=\u001b[39m \u001b[38;5;28mself\u001b[39m\u001b[38;5;241m.\u001b[39mhead \u001b[38;5;241m-\u001b[39m flags\u001b[38;5;241m.\u001b[39mbytewidth\n\u001b[0;32m--> 762\u001b[0m \u001b[43mencode\u001b[49m\u001b[38;5;241;43m.\u001b[39;49m\u001b[43mWrite\u001b[49m\u001b[43m(\u001b[49m\u001b[43mflags\u001b[49m\u001b[38;5;241;43m.\u001b[39;49m\u001b[43mpacker_type\u001b[49m\u001b[43m,\u001b[49m\u001b[43m \u001b[49m\u001b[38;5;28;43mself\u001b[39;49m\u001b[38;5;241;43m.\u001b[39;49m\u001b[43mBytes\u001b[49m\u001b[43m,\u001b[49m\u001b[43m \u001b[49m\u001b[38;5;28;43mself\u001b[39;49m\u001b[38;5;241;43m.\u001b[39;49m\u001b[43mHead\u001b[49m\u001b[43m(\u001b[49m\u001b[43m)\u001b[49m\u001b[43m,\u001b[49m\u001b[43m \u001b[49m\u001b[43mx\u001b[49m\u001b[43m)\u001b[49m\n",
      "File \u001b[0;32m/usr/local/lib/python3.8/dist-packages/flatbuffers/encode.py:42\u001b[0m, in \u001b[0;36mWrite\u001b[0;34m(packer_type, buf, head, n)\u001b[0m\n\u001b[1;32m     40\u001b[0m \u001b[38;5;28;01mdef\u001b[39;00m \u001b[38;5;21mWrite\u001b[39m(packer_type, buf, head, n):\n\u001b[1;32m     41\u001b[0m \u001b[38;5;250m    \u001b[39m\u001b[38;5;124;03m\"\"\" Write encodes `n` at buf[head] using `packer_type`. \"\"\"\u001b[39;00m\n\u001b[0;32m---> 42\u001b[0m     \u001b[43mpacker_type\u001b[49m\u001b[38;5;241;43m.\u001b[39;49m\u001b[43mpack_into\u001b[49m\u001b[43m(\u001b[49m\u001b[43mbuf\u001b[49m\u001b[43m,\u001b[49m\u001b[43m \u001b[49m\u001b[43mhead\u001b[49m\u001b[43m,\u001b[49m\u001b[43m \u001b[49m\u001b[43mn\u001b[49m\u001b[43m)\u001b[49m\n",
      "\u001b[0;31merror\u001b[0m: required argument is not an integer"
     ]
    }
   ],
   "source": [
    "builder = flatbuffers.Builder(0)\n",
    "meta_offset = model_meta.Pack(builder)\n",
    "builder.Finish(\n",
    "    meta_offset,\n",
    "    _metadata.MetadataPopulator.METADATA_FILE_IDENTIFIER\n",
    ")\n",
    "metadata_buf = builder.Output()"
   ]
  },
  {
   "cell_type": "code",
   "execution_count": 16,
   "id": "70e20fb9",
   "metadata": {},
   "outputs": [
    {
     "data": {
      "text/plain": [
       "<flatbuffers.builder.Builder at 0x7faeb80b38c0>"
      ]
     },
     "execution_count": 16,
     "metadata": {},
     "output_type": "execute_result"
    }
   ],
   "source": [
    "b"
   ]
  }
 ],
 "metadata": {
  "kernelspec": {
   "display_name": "Python 3 (ipykernel)",
   "language": "python",
   "name": "python3"
  },
  "language_info": {
   "codemirror_mode": {
    "name": "ipython",
    "version": 3
   },
   "file_extension": ".py",
   "mimetype": "text/x-python",
   "name": "python",
   "nbconvert_exporter": "python",
   "pygments_lexer": "ipython3",
   "version": "3.8.10"
  }
 },
 "nbformat": 4,
 "nbformat_minor": 5
}
