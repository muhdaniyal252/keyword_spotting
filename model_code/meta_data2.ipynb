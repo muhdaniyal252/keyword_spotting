{
 "cells": [
  {
   "cell_type": "code",
   "execution_count": 1,
   "id": "2016a768-abfd-4f4b-bf25-b8981cc892f1",
   "metadata": {},
   "outputs": [],
   "source": [
    "actual_model = \"/shareddrive/working/model_code/models/custom_model_4/trail_1/16k_melspec-nfft-1024_a_cnn_dense_model.keras\"\n",
    "model_file = \"/shareddrive/working/model_code/models/custom_model_4/trail_1/16k_melspec-nfft-1024_a_cnn_dense_model.tflite\"\n",
    "export_model_file = \"/shareddrive/working/model_code/models/custom_model_4/trail_1/16k_melspec-nfft-1024_a_cnn_dense_model_meta.tflite\"\n"
   ]
  },
  {
   "cell_type": "code",
   "execution_count": 12,
   "id": "48cd5ba9-9b74-4ffe-a451-6b0ab7aa0b6d",
   "metadata": {},
   "outputs": [],
   "source": [
    "import tensorflow as tf\n",
    "from tflite_support import metadata as metadata_lib"
   ]
  },
  {
   "cell_type": "code",
   "execution_count": 3,
   "id": "9a485af9-6051-4cae-9c4d-10f21cef7484",
   "metadata": {},
   "outputs": [
    {
     "name": "stderr",
     "output_type": "stream",
     "text": [
      "2024-09-04 06:42:26.560381: I tensorflow/core/common_runtime/gpu/gpu_device.cc:1639] Created device /job:localhost/replica:0/task:0/device:GPU:0 with 880 MB memory:  -> device: 0, name: NVIDIA L40S, pci bus id: 0000:8b:00.0, compute capability: 8.9\n"
     ]
    }
   ],
   "source": [
    "model = tf.keras.models.load_model(actual_model)\n",
    "\n",
    "with open(model_file,'rb') as f:\n",
    "    tflite_model = f.read()"
   ]
  },
  {
   "cell_type": "code",
   "execution_count": 4,
   "id": "b48f4c07-ad73-4682-880d-65b043b4a188",
   "metadata": {},
   "outputs": [],
   "source": [
    "metadata = {\n",
    "    \"name\": \"Audio Classification Model\",\n",
    "    \"description\": \"A TFLite model for classifying audio into two categories: Adele and Unknown.\",\n",
    "    \"version\": \"1.0\",\n",
    "    \"labels\": [\"unknown\", \"adele\"]\n",
    "}"
   ]
  },
  {
   "cell_type": "code",
   "execution_count": 5,
   "id": "dde8ebbf-07b8-4e92-8b10-d0166072bbd4",
   "metadata": {},
   "outputs": [],
   "source": [
    "def create_metadata(model, input_tensor_name, output_tensor_name, metadata):\n",
    "    writer = metadata_lib.MetadataWriter.create_for_inference(\n",
    "        model=model,\n",
    "        input_tensor_names=[input_tensor_name],\n",
    "        output_tensor_names=[output_tensor_name],\n",
    "        metadata=metadata\n",
    "    )\n",
    "    return writer"
   ]
  },
  {
   "cell_type": "code",
   "execution_count": 9,
   "id": "73558706-c75e-4230-964d-36579e6122db",
   "metadata": {},
   "outputs": [],
   "source": [
    "input_tensor_name = model.input.name\n",
    "output_tensor_name = model.output.name"
   ]
  },
  {
   "cell_type": "code",
   "execution_count": 13,
   "id": "f89495c4-fb6c-4ec0-b913-4c73da46a824",
   "metadata": {},
   "outputs": [
    {
     "ename": "AttributeError",
     "evalue": "module 'tensorflow_lite_support.metadata.python.metadata' has no attribute 'MetadataWriter'",
     "output_type": "error",
     "traceback": [
      "\u001b[0;31m---------------------------------------------------------------------------\u001b[0m",
      "\u001b[0;31mAttributeError\u001b[0m                            Traceback (most recent call last)",
      "Cell \u001b[0;32mIn[13], line 1\u001b[0m\n\u001b[0;32m----> 1\u001b[0m writer \u001b[38;5;241m=\u001b[39m \u001b[43mcreate_metadata\u001b[49m\u001b[43m(\u001b[49m\u001b[43mtflite_model\u001b[49m\u001b[43m,\u001b[49m\u001b[43m \u001b[49m\u001b[43minput_tensor_name\u001b[49m\u001b[43m,\u001b[49m\u001b[43m \u001b[49m\u001b[43moutput_tensor_name\u001b[49m\u001b[43m,\u001b[49m\u001b[43m \u001b[49m\u001b[43mmetadata\u001b[49m\u001b[43m)\u001b[49m\n",
      "Cell \u001b[0;32mIn[5], line 2\u001b[0m, in \u001b[0;36mcreate_metadata\u001b[0;34m(model, input_tensor_name, output_tensor_name, metadata)\u001b[0m\n\u001b[1;32m      1\u001b[0m \u001b[38;5;28;01mdef\u001b[39;00m \u001b[38;5;21mcreate_metadata\u001b[39m(model, input_tensor_name, output_tensor_name, metadata):\n\u001b[0;32m----> 2\u001b[0m     writer \u001b[38;5;241m=\u001b[39m \u001b[43mmetadata_lib\u001b[49m\u001b[38;5;241;43m.\u001b[39;49m\u001b[43mMetadataWriter\u001b[49m\u001b[38;5;241m.\u001b[39mcreate_for_inference(\n\u001b[1;32m      3\u001b[0m         model\u001b[38;5;241m=\u001b[39mmodel,\n\u001b[1;32m      4\u001b[0m         input_tensor_names\u001b[38;5;241m=\u001b[39m[input_tensor_name],\n\u001b[1;32m      5\u001b[0m         output_tensor_names\u001b[38;5;241m=\u001b[39m[output_tensor_name],\n\u001b[1;32m      6\u001b[0m         metadata\u001b[38;5;241m=\u001b[39mmetadata\n\u001b[1;32m      7\u001b[0m     )\n\u001b[1;32m      8\u001b[0m     \u001b[38;5;28;01mreturn\u001b[39;00m writer\n",
      "\u001b[0;31mAttributeError\u001b[0m: module 'tensorflow_lite_support.metadata.python.metadata' has no attribute 'MetadataWriter'"
     ]
    }
   ],
   "source": [
    "writer = create_metadata(tflite_model, input_tensor_name, output_tensor_name, metadata)"
   ]
  },
  {
   "cell_type": "code",
   "execution_count": null,
   "id": "b72d5ff8-e444-4820-93cc-522babd30eeb",
   "metadata": {},
   "outputs": [],
   "source": []
  }
 ],
 "metadata": {
  "kernelspec": {
   "display_name": "Python 3 (ipykernel)",
   "language": "python",
   "name": "python3"
  },
  "language_info": {
   "codemirror_mode": {
    "name": "ipython",
    "version": 3
   },
   "file_extension": ".py",
   "mimetype": "text/x-python",
   "name": "python",
   "nbconvert_exporter": "python",
   "pygments_lexer": "ipython3",
   "version": "3.8.10"
  }
 },
 "nbformat": 4,
 "nbformat_minor": 5
}
