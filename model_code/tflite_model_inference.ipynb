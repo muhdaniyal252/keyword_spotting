{
 "cells": [
  {
   "cell_type": "code",
   "execution_count": 1,
   "id": "ea7ebf1b-08ac-448a-959a-f97526024d9b",
   "metadata": {},
   "outputs": [
    {
     "name": "stderr",
     "output_type": "stream",
     "text": [
      "2024-09-03 07:42:13.127812: I tensorflow/core/util/port.cc:110] oneDNN custom operations are on. You may see slightly different numerical results due to floating-point round-off errors from different computation orders. To turn them off, set the environment variable `TF_ENABLE_ONEDNN_OPTS=0`.\n",
      "2024-09-03 07:42:13.169163: I tensorflow/core/platform/cpu_feature_guard.cc:182] This TensorFlow binary is optimized to use available CPU instructions in performance-critical operations.\n",
      "To enable the following instructions: AVX2 AVX512F AVX512_VNNI FMA, in other operations, rebuild TensorFlow with the appropriate compiler flags.\n"
     ]
    }
   ],
   "source": [
    "import tensorflow as tf\n",
    "import librosa"
   ]
  },
  {
   "cell_type": "code",
   "execution_count": 4,
   "id": "add1b1fc-66a7-4696-8a49-49677af019f8",
   "metadata": {},
   "outputs": [],
   "source": [
    "model_path = '/shareddrive/working/model_code/models/custom_model_4/trail_1/16k_melspec-nfft-1024_a_cnn_dense_model.tflite'\n",
    "file_path = '/shareddrive/working/data_code/data/neg_data/envornment/chunks/1s_chunks/env_627.wav'"
   ]
  },
  {
   "cell_type": "code",
   "execution_count": 5,
   "id": "863d319f-1d61-442b-888d-8bcfe53dd658",
   "metadata": {},
   "outputs": [
    {
     "name": "stderr",
     "output_type": "stream",
     "text": [
      "INFO: Created TensorFlow Lite XNNPACK delegate for CPU.\n"
     ]
    }
   ],
   "source": [
    "interpreter = tf.lite.Interpreter(model_path=model_path)\n",
    "interpreter.allocate_tensors()"
   ]
  },
  {
   "cell_type": "code",
   "execution_count": 6,
   "id": "acbdd31e-8ae5-4925-bfba-39bc5a48d3d3",
   "metadata": {},
   "outputs": [],
   "source": [
    "input_details = interpreter.get_input_details()\n",
    "output_details = interpreter.get_output_details()"
   ]
  },
  {
   "cell_type": "code",
   "execution_count": 7,
   "id": "a6163921-8516-4f20-8047-37623994e6fe",
   "metadata": {},
   "outputs": [],
   "source": [
    "sr = 16000\n",
    "max_seconds = 1"
   ]
  },
  {
   "cell_type": "code",
   "execution_count": 8,
   "id": "34bf8d0d-4fad-43ed-b138-099b7cb965b8",
   "metadata": {},
   "outputs": [],
   "source": [
    "data,_ = librosa.load(file_path,sr=sr)"
   ]
  },
  {
   "cell_type": "code",
   "execution_count": 9,
   "id": "c3d81d2c-b46a-4768-bb6e-7ba8dd2265af",
   "metadata": {},
   "outputs": [],
   "source": [
    "pad_or_trunc = lambda a,i : a[0:i] if len(a) > i else a if len(a) == i else np.pad(a,(0, (i-len(a))))\n",
    "\n",
    "def process_data(y,sr,max_seconds):\n",
    "    y = pad_or_trunc(y,sr*max_seconds)\n",
    "    features = librosa.feature.melspectrogram(y=y,sr=sr,n_fft=1024)\n",
    "    return features\n",
    "\n",
    "def get_features(waveform, sr):\n",
    "    features = process_data(waveform,sr,max_seconds)\n",
    "    shape = features.shape\n",
    "    features = features.reshape([1,*shape,1])\n",
    "    return features\n",
    "\n",
    "features = get_features(data,sr=sr)"
   ]
  },
  {
   "cell_type": "code",
   "execution_count": 10,
   "id": "04ab1a5b-0214-4168-9f1c-1c90c1d5be4d",
   "metadata": {},
   "outputs": [],
   "source": [
    "interpreter.set_tensor(input_details[0]['index'], features)"
   ]
  },
  {
   "cell_type": "code",
   "execution_count": 11,
   "id": "04be8f0b-0646-4898-9b0e-595bbcf36f28",
   "metadata": {},
   "outputs": [],
   "source": [
    "interpreter.invoke()"
   ]
  },
  {
   "cell_type": "code",
   "execution_count": 12,
   "id": "9350d363-9a5d-4b42-8017-571e53e11a09",
   "metadata": {},
   "outputs": [],
   "source": [
    "output_data = interpreter.get_tensor(output_details[0]['index'])"
   ]
  },
  {
   "cell_type": "code",
   "execution_count": 13,
   "id": "78d5691b-eee5-4c84-9b96-6575634348a5",
   "metadata": {},
   "outputs": [
    {
     "data": {
      "text/plain": [
       "array([[0.00414084]], dtype=float32)"
      ]
     },
     "execution_count": 13,
     "metadata": {},
     "output_type": "execute_result"
    }
   ],
   "source": [
    "output_data"
   ]
  },
  {
   "cell_type": "code",
   "execution_count": null,
   "id": "b5ebb87a-e511-4f3f-b632-d8029041f70d",
   "metadata": {},
   "outputs": [],
   "source": []
  }
 ],
 "metadata": {
  "kernelspec": {
   "display_name": "Python 3 (ipykernel)",
   "language": "python",
   "name": "python3"
  },
  "language_info": {
   "codemirror_mode": {
    "name": "ipython",
    "version": 3
   },
   "file_extension": ".py",
   "mimetype": "text/x-python",
   "name": "python",
   "nbconvert_exporter": "python",
   "pygments_lexer": "ipython3",
   "version": "3.8.10"
  }
 },
 "nbformat": 4,
 "nbformat_minor": 5
}
