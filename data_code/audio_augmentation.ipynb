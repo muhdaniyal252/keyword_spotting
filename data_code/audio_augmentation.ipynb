{
 "cells": [
  {
   "cell_type": "code",
   "execution_count": 23,
   "metadata": {},
   "outputs": [],
   "source": [
    "import librosa\n",
    "import soundfile as sf\n",
    "import random\n",
    "import os"
   ]
  },
  {
   "cell_type": "code",
   "execution_count": 24,
   "metadata": {},
   "outputs": [],
   "source": [
    "\n",
    "from audiomentations import \\\n",
    "        ApplyImpulseResponse,\\\n",
    "            BitCrush,\\\n",
    "                BandPassFilter,\\\n",
    "                    BandStopFilter,\\\n",
    "                        Mp3Compression,\\\n",
    "                            GainTransition,\\\n",
    "                                Normalize,\\\n",
    "                                    HighShelfFilter,\\\n",
    "                                        LowShelfFilter,\\\n",
    "                                            PitchShift,\\\n",
    "                                                PolarityInversion,\\\n",
    "                                                    RoomSimulator,\\\n",
    "                                                        SevenBandParametricEQ"
   ]
  },
  {
   "cell_type": "code",
   "execution_count": 25,
   "metadata": {},
   "outputs": [],
   "source": [
    "def get_waveform(audio_path):\n",
    "    y,sr = librosa.load(audio_path,sr=None)\n",
    "    return y,sr\n",
    "\n",
    "def save_audio(audio_path,waveform,sr):\n",
    "    sf.write(audio_path, waveform, sr)"
   ]
  },
  {
   "cell_type": "code",
   "execution_count": 26,
   "metadata": {},
   "outputs": [],
   "source": [
    "def apply_transform(transform,audio_paths,destination_folder_path,prefix):\n",
    "    os.makedirs(destination_folder_path, exist_ok=True)\n",
    "    for audio_path in audio_paths:\n",
    "        audio_path = audio_path.replace('\\\\','/')\n",
    "        waveform,sr = get_waveform(audio_path)\n",
    "        augmented_audio = transform(waveform,sample_rate=sr)\n",
    "        filename = f\"{prefix}_{audio_path.split('/')[-1]}\"\n",
    "        augmented_audio_path = f\"{destination_folder_path}/{filename}\"\n",
    "        save_audio(augmented_audio_path,augmented_audio,sr)"
   ]
  },
  {
   "cell_type": "code",
   "execution_count": 27,
   "metadata": {},
   "outputs": [],
   "source": [
    "def get_audio_file_paths(keyword):\n",
    "    folder = f\"D:/new_data/{keyword}/processed/2/cleaning/2 trimmed\"\n",
    "    filepaths = [f\"{folder}/{f}\" for f in os.listdir(folder)]\n",
    "    filepaths = random.sample(filepaths,int(len(filepaths)))\n",
    "    return filepaths"
   ]
  },
  {
   "cell_type": "code",
   "execution_count": 28,
   "metadata": {},
   "outputs": [],
   "source": [
    "get_destination_folder = lambda keyword,destination: f\"D:/new_data/{keyword}/processed/2/augmentation/{destination}\""
   ]
  },
  {
   "cell_type": "code",
   "execution_count": 29,
   "metadata": {},
   "outputs": [],
   "source": [
    "def pitch_emphasis(keyword):\n",
    "    destination_folder = get_destination_folder(keyword,'emphesis')\n",
    "    transform = lambda x,sample_rate=None: librosa.effects.deemphasis(x,coef=0.8)\n",
    "    audio_file_paths = get_audio_file_paths(keyword)\n",
    "    apply_transform(transform,audio_file_paths,destination_folder,'pe')\n",
    "    return len(audio_file_paths)"
   ]
  },
  {
   "cell_type": "code",
   "execution_count": 30,
   "metadata": {},
   "outputs": [],
   "source": [
    "def pitch_negative_emphesis(keyword):\n",
    "    destination_folder = get_destination_folder(keyword,'neg_emphesis')\n",
    "    audio_file_paths = get_audio_file_paths(keyword)\n",
    "    transform = lambda x,sample_rate=None: librosa.effects.preemphasis(x,coef=0.8)\n",
    "    apply_transform(transform,audio_file_paths,destination_folder,'pne')\n",
    "    return len(audio_file_paths)"
   ]
  },
  {
   "cell_type": "code",
   "execution_count": 31,
   "metadata": {},
   "outputs": [],
   "source": [
    "def apply_impulse(keyword):\n",
    "    destination_folder = get_destination_folder(keyword,'impulse')\n",
    "    audio_file_paths = get_audio_file_paths(keyword)\n",
    "    transform =  ApplyImpulseResponse(\n",
    "        r\"D:\\new_data\\__bg_data\\impusle\",\n",
    "        p=1\n",
    "    )\n",
    "    apply_transform(transform,audio_file_paths,destination_folder,'ai')\n",
    "    return len(audio_file_paths)"
   ]
  },
  {
   "cell_type": "code",
   "execution_count": 32,
   "metadata": {},
   "outputs": [],
   "source": [
    "def bit_crush(keyword):\n",
    "    destination_folder = get_destination_folder(keyword,'bit_crush')\n",
    "    audio_file_paths = get_audio_file_paths(keyword)\n",
    "    transform = BitCrush(min_bit_depth=5, max_bit_depth=14, p=1.0)\n",
    "    apply_transform(transform,audio_file_paths,destination_folder,'bc')\n",
    "    return len(audio_file_paths)"
   ]
  },
  {
   "cell_type": "code",
   "execution_count": 33,
   "metadata": {},
   "outputs": [],
   "source": [
    "def band_pass(keyword):\n",
    "    destination_folder = get_destination_folder(keyword,'band_pass')\n",
    "    audio_file_paths = get_audio_file_paths(keyword)\n",
    "    transform = BandPassFilter(min_center_freq=100.0, max_center_freq=6000, p=1.0)\n",
    "    apply_transform(transform,audio_file_paths,destination_folder,'bp')\n",
    "    return len(audio_file_paths)"
   ]
  },
  {
   "cell_type": "code",
   "execution_count": 34,
   "metadata": {},
   "outputs": [],
   "source": [
    "def band_stop(keyword):\n",
    "    destination_folder = get_destination_folder(keyword,'band_stop')\n",
    "    audio_file_paths = get_audio_file_paths(keyword)\n",
    "    transform = BandStopFilter(min_center_freq=100.0, max_center_freq=6000, p=1.0)\n",
    "    apply_transform(transform,audio_file_paths,destination_folder,'bs')\n",
    "    return len(audio_file_paths)"
   ]
  },
  {
   "cell_type": "code",
   "execution_count": 35,
   "metadata": {},
   "outputs": [],
   "source": [
    "def mp3_compression(keyword):\n",
    "    destination_folder = get_destination_folder(keyword,'mp3_compression')\n",
    "    audio_file_paths = get_audio_file_paths(keyword)\n",
    "    transform = Mp3Compression(p=1.0)\n",
    "    apply_transform(transform,audio_file_paths,destination_folder,'mp3c')\n",
    "    return len(audio_file_paths)"
   ]
  },
  {
   "cell_type": "code",
   "execution_count": 36,
   "metadata": {},
   "outputs": [],
   "source": [
    "def pitch_shift(keyword):\n",
    "    destination_folder = get_destination_folder(keyword,'pitch_shift')\n",
    "    audio_file_paths = get_audio_file_paths(keyword)\n",
    "    transform = PitchShift(\n",
    "        min_semitones=-5.0,\n",
    "        max_semitones=5.0,\n",
    "        p=1.0\n",
    "    )\n",
    "    apply_transform(transform,audio_file_paths,destination_folder,'ps')\n",
    "    return len(audio_file_paths)"
   ]
  },
  {
   "cell_type": "code",
   "execution_count": 37,
   "metadata": {},
   "outputs": [],
   "source": [
    "def polarity_inversion(keyword):\n",
    "    destination_folder = get_destination_folder(keyword,'polarity_inversion')\n",
    "    audio_file_paths = get_audio_file_paths(keyword)\n",
    "    transform = PolarityInversion(p=1.0)\n",
    "    apply_transform(transform,audio_file_paths,destination_folder,'pi')\n",
    "    return len(audio_file_paths)"
   ]
  },
  {
   "cell_type": "code",
   "execution_count": 38,
   "metadata": {},
   "outputs": [],
   "source": [
    "def room_simulator(keyword):\n",
    "    destination_folder = get_destination_folder(keyword,'room_simulator')\n",
    "    audio_file_paths = get_audio_file_paths(keyword)\n",
    "    transform = RoomSimulator(p=1.0)\n",
    "    apply_transform(transform,audio_file_paths,destination_folder,'rs')\n",
    "    return len(audio_file_paths)"
   ]
  },
  {
   "cell_type": "code",
   "execution_count": 39,
   "metadata": {},
   "outputs": [],
   "source": [
    "def low_shelf_filter(keyword):\n",
    "    destination_folder = get_destination_folder(keyword,'low_shelf_filter')\n",
    "    audio_file_paths = get_audio_file_paths(keyword)\n",
    "    transform = LowShelfFilter(p=1.0)\n",
    "    apply_transform(transform,audio_file_paths,destination_folder,'lsf')\n",
    "    return len(audio_file_paths)"
   ]
  },
  {
   "cell_type": "code",
   "execution_count": 40,
   "metadata": {},
   "outputs": [],
   "source": [
    "def high_shelf_filter(keyword):\n",
    "    destination_folder = get_destination_folder(keyword,'high_shelf_filter')\n",
    "    audio_file_paths = get_audio_file_paths(keyword)\n",
    "    transform = HighShelfFilter(p=1.0)\n",
    "    apply_transform(transform,audio_file_paths,destination_folder,'hsf')\n",
    "    return len(audio_file_paths)"
   ]
  },
  {
   "cell_type": "code",
   "execution_count": 41,
   "metadata": {},
   "outputs": [],
   "source": [
    "def gain_transition(keyword):\n",
    "    destination_folder = get_destination_folder(keyword,'gain_transition')\n",
    "    audio_file_paths = get_audio_file_paths(keyword)\n",
    "    transform = GainTransition(p=1.0)\n",
    "    apply_transform(transform,audio_file_paths,destination_folder,'gt')\n",
    "    return len(audio_file_paths)"
   ]
  },
  {
   "cell_type": "code",
   "execution_count": 42,
   "metadata": {},
   "outputs": [],
   "source": [
    "def normalize(keyword):\n",
    "    destination_folder = get_destination_folder(keyword,'normalize')\n",
    "    audio_file_paths = get_audio_file_paths(keyword)\n",
    "    transform = Normalize(p=1.0)\n",
    "    apply_transform(transform,audio_file_paths,destination_folder,'n')\n",
    "    return len(audio_file_paths)"
   ]
  },
  {
   "cell_type": "code",
   "execution_count": 43,
   "metadata": {},
   "outputs": [],
   "source": [
    "def seven_band_parameter(keyword):\n",
    "    destination_folder = get_destination_folder(keyword,'seven_band_parameter')\n",
    "    audio_file_paths = get_audio_file_paths(keyword)\n",
    "    transform = SevenBandParametricEQ(p=1.0)\n",
    "    apply_transform(transform,audio_file_paths,destination_folder,'sbp')\n",
    "    return len(audio_file_paths)"
   ]
  },
  {
   "cell_type": "code",
   "execution_count": 44,
   "metadata": {},
   "outputs": [
    {
     "name": "stdout",
     "output_type": "stream",
     "text": [
      "adele pitch_emphasis 513\n",
      "adele pitch_negative_emphesis 513\n"
     ]
    },
    {
     "name": "stderr",
     "output_type": "stream",
     "text": [
      "d:\\envs\\kws\\Lib\\site-packages\\audiomentations\\core\\audio_loading_utils.py:37: UserWarning: D:\\new_data\\__bg_data\\impusle\\h181_Hallway_MITInfiniteCorridor_1txs.wav had to be resampled from 32000 Hz to 44100 Hz. This hurt execution time.\n",
      "  warnings.warn(\n",
      "d:\\envs\\kws\\Lib\\site-packages\\audiomentations\\core\\audio_loading_utils.py:37: UserWarning: D:\\new_data\\__bg_data\\impusle\\h118_MITCampus_Atrium_1txts.wav had to be resampled from 32000 Hz to 44100 Hz. This hurt execution time.\n",
      "  warnings.warn(\n",
      "d:\\envs\\kws\\Lib\\site-packages\\audiomentations\\core\\audio_loading_utils.py:37: UserWarning: D:\\new_data\\__bg_data\\impusle\\h184_BilliardsRoom_1txts.wav had to be resampled from 32000 Hz to 44100 Hz. This hurt execution time.\n",
      "  warnings.warn(\n",
      "d:\\envs\\kws\\Lib\\site-packages\\audiomentations\\core\\audio_loading_utils.py:37: UserWarning: D:\\new_data\\__bg_data\\impusle\\h238_Hallway_MITCampus_1txts.wav had to be resampled from 32000 Hz to 44100 Hz. This hurt execution time.\n",
      "  warnings.warn(\n",
      "d:\\envs\\kws\\Lib\\site-packages\\audiomentations\\core\\audio_loading_utils.py:37: UserWarning: D:\\new_data\\__bg_data\\impusle\\h110_Office_MeetingRoom_1txts.wav had to be resampled from 32000 Hz to 44100 Hz. This hurt execution time.\n",
      "  warnings.warn(\n",
      "d:\\envs\\kws\\Lib\\site-packages\\audiomentations\\core\\audio_loading_utils.py:37: UserWarning: D:\\new_data\\__bg_data\\impusle\\h095_Campground_Cabin_2txts.wav had to be resampled from 32000 Hz to 44100 Hz. This hurt execution time.\n",
      "  warnings.warn(\n",
      "d:\\envs\\kws\\Lib\\site-packages\\audiomentations\\core\\audio_loading_utils.py:37: UserWarning: D:\\new_data\\__bg_data\\impusle\\h150_Outside_MITCampus_1txts.wav had to be resampled from 32000 Hz to 44100 Hz. This hurt execution time.\n",
      "  warnings.warn(\n",
      "d:\\envs\\kws\\Lib\\site-packages\\audiomentations\\core\\audio_loading_utils.py:37: UserWarning: D:\\new_data\\__bg_data\\impusle\\h169_IceCreamParlor_1txts.wav had to be resampled from 32000 Hz to 44100 Hz. This hurt execution time.\n",
      "  warnings.warn(\n",
      "d:\\envs\\kws\\Lib\\site-packages\\audiomentations\\core\\audio_loading_utils.py:37: UserWarning: D:\\new_data\\__bg_data\\impusle\\h024_Bathroom_9txts.wav had to be resampled from 32000 Hz to 44100 Hz. This hurt execution time.\n",
      "  warnings.warn(\n",
      "d:\\envs\\kws\\Lib\\site-packages\\audiomentations\\core\\audio_loading_utils.py:37: UserWarning: D:\\new_data\\__bg_data\\impusle\\h014_HomeExerciseRoom_18txts.wav had to be resampled from 32000 Hz to 44100 Hz. This hurt execution time.\n",
      "  warnings.warn(\n",
      "d:\\envs\\kws\\Lib\\site-packages\\audiomentations\\core\\audio_loading_utils.py:37: UserWarning: D:\\new_data\\__bg_data\\impusle\\h069_Supermarket_2txts.wav had to be resampled from 32000 Hz to 44100 Hz. This hurt execution time.\n",
      "  warnings.warn(\n",
      "d:\\envs\\kws\\Lib\\site-packages\\audiomentations\\core\\audio_loading_utils.py:37: UserWarning: D:\\new_data\\__bg_data\\impusle\\h101_Classroom_2txts.wav had to be resampled from 32000 Hz to 44100 Hz. This hurt execution time.\n",
      "  warnings.warn(\n",
      "d:\\envs\\kws\\Lib\\site-packages\\audiomentations\\core\\audio_loading_utils.py:37: UserWarning: D:\\new_data\\__bg_data\\impusle\\h051_SuperMarket_3txts.wav had to be resampled from 32000 Hz to 44100 Hz. This hurt execution time.\n",
      "  warnings.warn(\n",
      "d:\\envs\\kws\\Lib\\site-packages\\audiomentations\\core\\audio_loading_utils.py:37: UserWarning: D:\\new_data\\__bg_data\\impusle\\h210_Outside_Forest_1txts.wav had to be resampled from 32000 Hz to 44100 Hz. This hurt execution time.\n",
      "  warnings.warn(\n",
      "d:\\envs\\kws\\Lib\\site-packages\\audiomentations\\core\\audio_loading_utils.py:37: UserWarning: D:\\new_data\\__bg_data\\impusle\\h082_HomeFoyer_2txts.wav had to be resampled from 32000 Hz to 44100 Hz. This hurt execution time.\n",
      "  warnings.warn(\n",
      "d:\\envs\\kws\\Lib\\site-packages\\audiomentations\\core\\audio_loading_utils.py:37: UserWarning: D:\\new_data\\__bg_data\\impusle\\h122_CoffeeShop_1txts.wav had to be resampled from 32000 Hz to 44100 Hz. This hurt execution time.\n",
      "  warnings.warn(\n",
      "d:\\envs\\kws\\Lib\\site-packages\\audiomentations\\core\\audio_loading_utils.py:37: UserWarning: D:\\new_data\\__bg_data\\impusle\\h010_Livingroom_31txts.wav had to be resampled from 32000 Hz to 44100 Hz. This hurt execution time.\n",
      "  warnings.warn(\n",
      "d:\\envs\\kws\\Lib\\site-packages\\audiomentations\\core\\audio_loading_utils.py:37: UserWarning: D:\\new_data\\__bg_data\\impusle\\h244_Classroom_1txts.wav had to be resampled from 32000 Hz to 44100 Hz. This hurt execution time.\n",
      "  warnings.warn(\n",
      "d:\\envs\\kws\\Lib\\site-packages\\audiomentations\\core\\audio_loading_utils.py:37: UserWarning: D:\\new_data\\__bg_data\\impusle\\h041_TrainStation_SouthStationBoston_4txts.wav had to be resampled from 32000 Hz to 44100 Hz. This hurt execution time.\n",
      "  warnings.warn(\n",
      "d:\\envs\\kws\\Lib\\site-packages\\audiomentations\\core\\audio_loading_utils.py:37: UserWarning: D:\\new_data\\__bg_data\\impusle\\h207_Outside_Forest_1txts.wav had to be resampled from 32000 Hz to 44100 Hz. This hurt execution time.\n",
      "  warnings.warn(\n",
      "d:\\envs\\kws\\Lib\\site-packages\\audiomentations\\core\\audio_loading_utils.py:37: UserWarning: D:\\new_data\\__bg_data\\impusle\\h075_Hallway_Office_2txts.wav had to be resampled from 32000 Hz to 44100 Hz. This hurt execution time.\n",
      "  warnings.warn(\n",
      "d:\\envs\\kws\\Lib\\site-packages\\audiomentations\\core\\audio_loading_utils.py:37: UserWarning: D:\\new_data\\__bg_data\\impusle\\h029_BabysRoom_8txts.wav had to be resampled from 32000 Hz to 44100 Hz. This hurt execution time.\n",
      "  warnings.warn(\n",
      "d:\\envs\\kws\\Lib\\site-packages\\audiomentations\\core\\audio_loading_utils.py:37: UserWarning: D:\\new_data\\__bg_data\\impusle\\h190_Train_BostonTGreenline_1txts.wav had to be resampled from 32000 Hz to 44100 Hz. This hurt execution time.\n",
      "  warnings.warn(\n",
      "d:\\envs\\kws\\Lib\\site-packages\\audiomentations\\core\\audio_loading_utils.py:37: UserWarning: D:\\new_data\\__bg_data\\impusle\\h155_FastFoodRestaurant_1txts.wav had to be resampled from 32000 Hz to 44100 Hz. This hurt execution time.\n",
      "  warnings.warn(\n",
      "d:\\envs\\kws\\Lib\\site-packages\\audiomentations\\core\\audio_loading_utils.py:37: UserWarning: D:\\new_data\\__bg_data\\impusle\\h178_OfficeFoyer_1txts.wav had to be resampled from 32000 Hz to 44100 Hz. This hurt execution time.\n",
      "  warnings.warn(\n",
      "d:\\envs\\kws\\Lib\\site-packages\\audiomentations\\core\\audio_loading_utils.py:37: UserWarning: D:\\new_data\\__bg_data\\impusle\\h240_Classroom_1txts.wav had to be resampled from 32000 Hz to 44100 Hz. This hurt execution time.\n",
      "  warnings.warn(\n",
      "d:\\envs\\kws\\Lib\\site-packages\\audiomentations\\core\\audio_loading_utils.py:37: UserWarning: D:\\new_data\\__bg_data\\impusle\\h007_Bathroom_Small_41txts.wav had to be resampled from 32000 Hz to 44100 Hz. This hurt execution time.\n",
      "  warnings.warn(\n",
      "d:\\envs\\kws\\Lib\\site-packages\\audiomentations\\core\\audio_loading_utils.py:37: UserWarning: D:\\new_data\\__bg_data\\impusle\\h115_MovieTheater_1txts.wav had to be resampled from 32000 Hz to 44100 Hz. This hurt execution time.\n",
      "  warnings.warn(\n",
      "d:\\envs\\kws\\Lib\\site-packages\\audiomentations\\core\\audio_loading_utils.py:37: UserWarning: D:\\new_data\\__bg_data\\impusle\\h043_Train_BostonTRedLine_4txts.wav had to be resampled from 32000 Hz to 44100 Hz. This hurt execution time.\n",
      "  warnings.warn(\n",
      "d:\\envs\\kws\\Lib\\site-packages\\audiomentations\\core\\audio_loading_utils.py:37: UserWarning: D:\\new_data\\__bg_data\\impusle\\h077_MITCampus_StudentLounge_2txts.wav had to be resampled from 32000 Hz to 44100 Hz. This hurt execution time.\n",
      "  warnings.warn(\n",
      "d:\\envs\\kws\\Lib\\site-packages\\audiomentations\\core\\audio_loading_utils.py:37: UserWarning: D:\\new_data\\__bg_data\\impusle\\h227_Outside_ParkingLot_1txts.wav had to be resampled from 32000 Hz to 44100 Hz. This hurt execution time.\n",
      "  warnings.warn(\n",
      "d:\\envs\\kws\\Lib\\site-packages\\audiomentations\\core\\audio_loading_utils.py:37: UserWarning: D:\\new_data\\__bg_data\\impusle\\h145_Outside_StreetsOfBoston_1txts.wav had to be resampled from 32000 Hz to 44100 Hz. This hurt execution time.\n",
      "  warnings.warn(\n",
      "d:\\envs\\kws\\Lib\\site-packages\\audiomentations\\core\\audio_loading_utils.py:37: UserWarning: D:\\new_data\\__bg_data\\impusle\\h061_Car_3txts.wav had to be resampled from 32000 Hz to 44100 Hz. This hurt execution time.\n",
      "  warnings.warn(\n"
     ]
    },
    {
     "name": "stdout",
     "output_type": "stream",
     "text": [
      "adele apply_impulse 513\n",
      "adele bit_crush 513\n",
      "adele band_pass 513\n",
      "adele band_stop 513\n",
      "adele mp3_compression 513\n",
      "adele gain_transition 513\n",
      "adele high_shelf_filter 513\n",
      "adele low_shelf_filter 513\n",
      "adele pitch_shift 513\n",
      "adele polarity_inversion 513\n",
      "adele room_simulator 513\n",
      "adele normalize 513\n",
      "adele seven_band_parameter 513\n"
     ]
    }
   ],
   "source": [
    "# keywords = ['adele','hilfe_hilfe_not','hilfe_hilfe','hilfe']\n",
    "keywords = ['adele']\n",
    "transforms = {\n",
    "    'pitch_emphasis':pitch_emphasis,\n",
    "    'pitch_negative_emphesis':pitch_negative_emphesis,\n",
    "    'apply_impulse':apply_impulse,\n",
    "    'bit_crush':bit_crush,\n",
    "    'band_pass':band_pass,\n",
    "    'band_stop':band_stop,\n",
    "    'mp3_compression':mp3_compression,\n",
    "    'gain_transition':gain_transition,\n",
    "    'high_shelf_filter':high_shelf_filter,\n",
    "    'low_shelf_filter':low_shelf_filter,\n",
    "    'pitch_shift':pitch_shift,\n",
    "    'polarity_inversion':polarity_inversion,\n",
    "    'room_simulator':room_simulator,\n",
    "    'normalize':normalize,\n",
    "    'seven_band_parameter':seven_band_parameter\n",
    "}\n",
    "\n",
    "for keyword in keywords:\n",
    "    for transform,transform_fn in transforms.items():\n",
    "        number_of_files = transform_fn(keyword)\n",
    "        print(keyword,transform,number_of_files)"
   ]
  }
 ],
 "metadata": {
  "kernelspec": {
   "display_name": "kws",
   "language": "python",
   "name": "python3"
  },
  "language_info": {
   "codemirror_mode": {
    "name": "ipython",
    "version": 3
   },
   "file_extension": ".py",
   "mimetype": "text/x-python",
   "name": "python",
   "nbconvert_exporter": "python",
   "pygments_lexer": "ipython3",
   "version": "3.12.3"
  }
 },
 "nbformat": 4,
 "nbformat_minor": 2
}
