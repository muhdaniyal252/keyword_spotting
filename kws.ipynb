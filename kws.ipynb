{
  "nbformat": 4,
  "nbformat_minor": 0,
  "metadata": {
    "colab": {
      "provenance": [],
      "gpuType": "T4"
    },
    "kernelspec": {
      "name": "python3",
      "display_name": "Python 3"
    },
    "language_info": {
      "name": "python"
    },
    "accelerator": "GPU"
  },
  "cells": [
    {
      "cell_type": "code",
      "execution_count": 34,
      "metadata": {
        "id": "UL42Hlss3sfl"
      },
      "outputs": [],
      "source": [
        "import os\n",
        "import pathlib\n",
        "import random\n",
        "import tensorflow as tf\n",
        "import numpy as np\n",
        "import wave\n",
        "import pandas as pd\n",
        "import librosa\n",
        "from scipy import signal\n",
        "import matplotlib.pyplot as plt\n",
        "import seaborn as sns"
      ]
    },
    {
      "cell_type": "code",
      "source": [
        "DATASET_PATH = 'data/mini_speech_commands'\n",
        "\n",
        "data_dir = pathlib.Path(DATASET_PATH)\n",
        "if not data_dir.exists():\n",
        "    tf.keras.utils.get_file(\n",
        "        'mini_speech_commands.zip',\n",
        "        origin=\"http://storage.googleapis.com/download.tensorflow.org/data/mini_speech_commands.zip\",\n",
        "        extract=True,\n",
        "        cache_dir='.', cache_subdir='data')"
      ],
      "metadata": {
        "colab": {
          "base_uri": "https://localhost:8080/"
        },
        "id": "3dW5pe8F33ql",
        "outputId": "db4945ea-b974-4b0e-d43c-4141aadb31ff"
      },
      "execution_count": 2,
      "outputs": [
        {
          "output_type": "stream",
          "name": "stdout",
          "text": [
            "Downloading data from http://storage.googleapis.com/download.tensorflow.org/data/mini_speech_commands.zip\n",
            "182082353/182082353 [==============================] - 2s 0us/step\n"
          ]
        }
      ]
    },
    {
      "cell_type": "code",
      "source": [
        "categories = {i:j for i,j in enumerate(filter(lambda x: x in ['stop', 'up', 'yes', 'down', 'no', 'left', 'right', 'go'],os.listdir(DATASET_PATH)))}\n",
        "categories"
      ],
      "metadata": {
        "colab": {
          "base_uri": "https://localhost:8080/"
        },
        "id": "B2PoqevW39Il",
        "outputId": "2ca43ab7-7482-46b4-b98c-e36ecfcb78d0"
      },
      "execution_count": 3,
      "outputs": [
        {
          "output_type": "execute_result",
          "data": {
            "text/plain": [
              "{0: 'go',\n",
              " 1: 'stop',\n",
              " 2: 'left',\n",
              " 3: 'right',\n",
              " 4: 'up',\n",
              " 5: 'no',\n",
              " 6: 'yes',\n",
              " 7: 'down'}"
            ]
          },
          "metadata": {},
          "execution_count": 3
        }
      ]
    },
    {
      "cell_type": "code",
      "source": [
        "def load_data(path):\n",
        "    data = list()\n",
        "    for idx, folder in categories.items():\n",
        "        folder_path = os.path.join(path,folder)\n",
        "        images = os.listdir(folder_path)\n",
        "        images = [os.path.join(folder_path,image) for image in images]\n",
        "        for image in images:\n",
        "            data.append([image,idx])\n",
        "    return data\n",
        "data = load_data(DATASET_PATH)"
      ],
      "metadata": {
        "id": "DMBXkty04fDF"
      },
      "execution_count": 4,
      "outputs": []
    },
    {
      "cell_type": "code",
      "source": [
        "random.shuffle(data)\n",
        "random.shuffle(data)"
      ],
      "metadata": {
        "id": "CBUJxnY94g6k"
      },
      "execution_count": 5,
      "outputs": []
    },
    {
      "cell_type": "code",
      "source": [
        "def get_sample_rate(d):\n",
        "    audio_path,label = d\n",
        "    with wave.open(audio_path, 'rb') as wav_file:\n",
        "        sample_rate = wav_file.getframerate()\n",
        "        num_frames = wav_file.getnframes()\n",
        "        duration = num_frames / sample_rate\n",
        "    return sample_rate,duration,label\n",
        "\n",
        "audio_info = [get_sample_rate(d) for d in data]\n",
        "df = pd.DataFrame(audio_info, columns =['sample_rate', 'duration','label'])"
      ],
      "metadata": {
        "id": "YloarUHI4i-U"
      },
      "execution_count": 6,
      "outputs": []
    },
    {
      "cell_type": "code",
      "source": [
        "df['label'].value_counts()"
      ],
      "metadata": {
        "colab": {
          "base_uri": "https://localhost:8080/"
        },
        "id": "4OBHFsfF4kzE",
        "outputId": "2b762c49-0bb7-430d-ff94-060efdec2d45"
      },
      "execution_count": 7,
      "outputs": [
        {
          "output_type": "execute_result",
          "data": {
            "text/plain": [
              "label\n",
              "3    1000\n",
              "1    1000\n",
              "4    1000\n",
              "6    1000\n",
              "5    1000\n",
              "7    1000\n",
              "2    1000\n",
              "0    1000\n",
              "Name: count, dtype: int64"
            ]
          },
          "metadata": {},
          "execution_count": 7
        }
      ]
    },
    {
      "cell_type": "code",
      "source": [
        "df.describe()"
      ],
      "metadata": {
        "colab": {
          "base_uri": "https://localhost:8080/",
          "height": 300
        },
        "id": "l-UPow9g4mkF",
        "outputId": "db91e00b-b37e-4751-d58b-3aec428323c1"
      },
      "execution_count": 8,
      "outputs": [
        {
          "output_type": "execute_result",
          "data": {
            "text/plain": [
              "       sample_rate     duration        label\n",
              "count       8000.0  8000.000000  8000.000000\n",
              "mean       16000.0     0.983703     3.500000\n",
              "std            0.0     0.061426     2.291431\n",
              "min        16000.0     0.426687     0.000000\n",
              "25%        16000.0     1.000000     1.750000\n",
              "50%        16000.0     1.000000     3.500000\n",
              "75%        16000.0     1.000000     5.250000\n",
              "max        16000.0     1.000000     7.000000"
            ],
            "text/html": [
              "\n",
              "  <div id=\"df-e894b047-ee85-454e-a1a9-7f39bca176c5\" class=\"colab-df-container\">\n",
              "    <div>\n",
              "<style scoped>\n",
              "    .dataframe tbody tr th:only-of-type {\n",
              "        vertical-align: middle;\n",
              "    }\n",
              "\n",
              "    .dataframe tbody tr th {\n",
              "        vertical-align: top;\n",
              "    }\n",
              "\n",
              "    .dataframe thead th {\n",
              "        text-align: right;\n",
              "    }\n",
              "</style>\n",
              "<table border=\"1\" class=\"dataframe\">\n",
              "  <thead>\n",
              "    <tr style=\"text-align: right;\">\n",
              "      <th></th>\n",
              "      <th>sample_rate</th>\n",
              "      <th>duration</th>\n",
              "      <th>label</th>\n",
              "    </tr>\n",
              "  </thead>\n",
              "  <tbody>\n",
              "    <tr>\n",
              "      <th>count</th>\n",
              "      <td>8000.0</td>\n",
              "      <td>8000.000000</td>\n",
              "      <td>8000.000000</td>\n",
              "    </tr>\n",
              "    <tr>\n",
              "      <th>mean</th>\n",
              "      <td>16000.0</td>\n",
              "      <td>0.983703</td>\n",
              "      <td>3.500000</td>\n",
              "    </tr>\n",
              "    <tr>\n",
              "      <th>std</th>\n",
              "      <td>0.0</td>\n",
              "      <td>0.061426</td>\n",
              "      <td>2.291431</td>\n",
              "    </tr>\n",
              "    <tr>\n",
              "      <th>min</th>\n",
              "      <td>16000.0</td>\n",
              "      <td>0.426687</td>\n",
              "      <td>0.000000</td>\n",
              "    </tr>\n",
              "    <tr>\n",
              "      <th>25%</th>\n",
              "      <td>16000.0</td>\n",
              "      <td>1.000000</td>\n",
              "      <td>1.750000</td>\n",
              "    </tr>\n",
              "    <tr>\n",
              "      <th>50%</th>\n",
              "      <td>16000.0</td>\n",
              "      <td>1.000000</td>\n",
              "      <td>3.500000</td>\n",
              "    </tr>\n",
              "    <tr>\n",
              "      <th>75%</th>\n",
              "      <td>16000.0</td>\n",
              "      <td>1.000000</td>\n",
              "      <td>5.250000</td>\n",
              "    </tr>\n",
              "    <tr>\n",
              "      <th>max</th>\n",
              "      <td>16000.0</td>\n",
              "      <td>1.000000</td>\n",
              "      <td>7.000000</td>\n",
              "    </tr>\n",
              "  </tbody>\n",
              "</table>\n",
              "</div>\n",
              "    <div class=\"colab-df-buttons\">\n",
              "\n",
              "  <div class=\"colab-df-container\">\n",
              "    <button class=\"colab-df-convert\" onclick=\"convertToInteractive('df-e894b047-ee85-454e-a1a9-7f39bca176c5')\"\n",
              "            title=\"Convert this dataframe to an interactive table.\"\n",
              "            style=\"display:none;\">\n",
              "\n",
              "  <svg xmlns=\"http://www.w3.org/2000/svg\" height=\"24px\" viewBox=\"0 -960 960 960\">\n",
              "    <path d=\"M120-120v-720h720v720H120Zm60-500h600v-160H180v160Zm220 220h160v-160H400v160Zm0 220h160v-160H400v160ZM180-400h160v-160H180v160Zm440 0h160v-160H620v160ZM180-180h160v-160H180v160Zm440 0h160v-160H620v160Z\"/>\n",
              "  </svg>\n",
              "    </button>\n",
              "\n",
              "  <style>\n",
              "    .colab-df-container {\n",
              "      display:flex;\n",
              "      gap: 12px;\n",
              "    }\n",
              "\n",
              "    .colab-df-convert {\n",
              "      background-color: #E8F0FE;\n",
              "      border: none;\n",
              "      border-radius: 50%;\n",
              "      cursor: pointer;\n",
              "      display: none;\n",
              "      fill: #1967D2;\n",
              "      height: 32px;\n",
              "      padding: 0 0 0 0;\n",
              "      width: 32px;\n",
              "    }\n",
              "\n",
              "    .colab-df-convert:hover {\n",
              "      background-color: #E2EBFA;\n",
              "      box-shadow: 0px 1px 2px rgba(60, 64, 67, 0.3), 0px 1px 3px 1px rgba(60, 64, 67, 0.15);\n",
              "      fill: #174EA6;\n",
              "    }\n",
              "\n",
              "    .colab-df-buttons div {\n",
              "      margin-bottom: 4px;\n",
              "    }\n",
              "\n",
              "    [theme=dark] .colab-df-convert {\n",
              "      background-color: #3B4455;\n",
              "      fill: #D2E3FC;\n",
              "    }\n",
              "\n",
              "    [theme=dark] .colab-df-convert:hover {\n",
              "      background-color: #434B5C;\n",
              "      box-shadow: 0px 1px 3px 1px rgba(0, 0, 0, 0.15);\n",
              "      filter: drop-shadow(0px 1px 2px rgba(0, 0, 0, 0.3));\n",
              "      fill: #FFFFFF;\n",
              "    }\n",
              "  </style>\n",
              "\n",
              "    <script>\n",
              "      const buttonEl =\n",
              "        document.querySelector('#df-e894b047-ee85-454e-a1a9-7f39bca176c5 button.colab-df-convert');\n",
              "      buttonEl.style.display =\n",
              "        google.colab.kernel.accessAllowed ? 'block' : 'none';\n",
              "\n",
              "      async function convertToInteractive(key) {\n",
              "        const element = document.querySelector('#df-e894b047-ee85-454e-a1a9-7f39bca176c5');\n",
              "        const dataTable =\n",
              "          await google.colab.kernel.invokeFunction('convertToInteractive',\n",
              "                                                    [key], {});\n",
              "        if (!dataTable) return;\n",
              "\n",
              "        const docLinkHtml = 'Like what you see? Visit the ' +\n",
              "          '<a target=\"_blank\" href=https://colab.research.google.com/notebooks/data_table.ipynb>data table notebook</a>'\n",
              "          + ' to learn more about interactive tables.';\n",
              "        element.innerHTML = '';\n",
              "        dataTable['output_type'] = 'display_data';\n",
              "        await google.colab.output.renderOutput(dataTable, element);\n",
              "        const docLink = document.createElement('div');\n",
              "        docLink.innerHTML = docLinkHtml;\n",
              "        element.appendChild(docLink);\n",
              "      }\n",
              "    </script>\n",
              "  </div>\n",
              "\n",
              "\n",
              "<div id=\"df-972d775d-e6aa-4500-92e4-2275b2645737\">\n",
              "  <button class=\"colab-df-quickchart\" onclick=\"quickchart('df-972d775d-e6aa-4500-92e4-2275b2645737')\"\n",
              "            title=\"Suggest charts\"\n",
              "            style=\"display:none;\">\n",
              "\n",
              "<svg xmlns=\"http://www.w3.org/2000/svg\" height=\"24px\"viewBox=\"0 0 24 24\"\n",
              "     width=\"24px\">\n",
              "    <g>\n",
              "        <path d=\"M19 3H5c-1.1 0-2 .9-2 2v14c0 1.1.9 2 2 2h14c1.1 0 2-.9 2-2V5c0-1.1-.9-2-2-2zM9 17H7v-7h2v7zm4 0h-2V7h2v10zm4 0h-2v-4h2v4z\"/>\n",
              "    </g>\n",
              "</svg>\n",
              "  </button>\n",
              "\n",
              "<style>\n",
              "  .colab-df-quickchart {\n",
              "      --bg-color: #E8F0FE;\n",
              "      --fill-color: #1967D2;\n",
              "      --hover-bg-color: #E2EBFA;\n",
              "      --hover-fill-color: #174EA6;\n",
              "      --disabled-fill-color: #AAA;\n",
              "      --disabled-bg-color: #DDD;\n",
              "  }\n",
              "\n",
              "  [theme=dark] .colab-df-quickchart {\n",
              "      --bg-color: #3B4455;\n",
              "      --fill-color: #D2E3FC;\n",
              "      --hover-bg-color: #434B5C;\n",
              "      --hover-fill-color: #FFFFFF;\n",
              "      --disabled-bg-color: #3B4455;\n",
              "      --disabled-fill-color: #666;\n",
              "  }\n",
              "\n",
              "  .colab-df-quickchart {\n",
              "    background-color: var(--bg-color);\n",
              "    border: none;\n",
              "    border-radius: 50%;\n",
              "    cursor: pointer;\n",
              "    display: none;\n",
              "    fill: var(--fill-color);\n",
              "    height: 32px;\n",
              "    padding: 0;\n",
              "    width: 32px;\n",
              "  }\n",
              "\n",
              "  .colab-df-quickchart:hover {\n",
              "    background-color: var(--hover-bg-color);\n",
              "    box-shadow: 0 1px 2px rgba(60, 64, 67, 0.3), 0 1px 3px 1px rgba(60, 64, 67, 0.15);\n",
              "    fill: var(--button-hover-fill-color);\n",
              "  }\n",
              "\n",
              "  .colab-df-quickchart-complete:disabled,\n",
              "  .colab-df-quickchart-complete:disabled:hover {\n",
              "    background-color: var(--disabled-bg-color);\n",
              "    fill: var(--disabled-fill-color);\n",
              "    box-shadow: none;\n",
              "  }\n",
              "\n",
              "  .colab-df-spinner {\n",
              "    border: 2px solid var(--fill-color);\n",
              "    border-color: transparent;\n",
              "    border-bottom-color: var(--fill-color);\n",
              "    animation:\n",
              "      spin 1s steps(1) infinite;\n",
              "  }\n",
              "\n",
              "  @keyframes spin {\n",
              "    0% {\n",
              "      border-color: transparent;\n",
              "      border-bottom-color: var(--fill-color);\n",
              "      border-left-color: var(--fill-color);\n",
              "    }\n",
              "    20% {\n",
              "      border-color: transparent;\n",
              "      border-left-color: var(--fill-color);\n",
              "      border-top-color: var(--fill-color);\n",
              "    }\n",
              "    30% {\n",
              "      border-color: transparent;\n",
              "      border-left-color: var(--fill-color);\n",
              "      border-top-color: var(--fill-color);\n",
              "      border-right-color: var(--fill-color);\n",
              "    }\n",
              "    40% {\n",
              "      border-color: transparent;\n",
              "      border-right-color: var(--fill-color);\n",
              "      border-top-color: var(--fill-color);\n",
              "    }\n",
              "    60% {\n",
              "      border-color: transparent;\n",
              "      border-right-color: var(--fill-color);\n",
              "    }\n",
              "    80% {\n",
              "      border-color: transparent;\n",
              "      border-right-color: var(--fill-color);\n",
              "      border-bottom-color: var(--fill-color);\n",
              "    }\n",
              "    90% {\n",
              "      border-color: transparent;\n",
              "      border-bottom-color: var(--fill-color);\n",
              "    }\n",
              "  }\n",
              "</style>\n",
              "\n",
              "  <script>\n",
              "    async function quickchart(key) {\n",
              "      const quickchartButtonEl =\n",
              "        document.querySelector('#' + key + ' button');\n",
              "      quickchartButtonEl.disabled = true;  // To prevent multiple clicks.\n",
              "      quickchartButtonEl.classList.add('colab-df-spinner');\n",
              "      try {\n",
              "        const charts = await google.colab.kernel.invokeFunction(\n",
              "            'suggestCharts', [key], {});\n",
              "      } catch (error) {\n",
              "        console.error('Error during call to suggestCharts:', error);\n",
              "      }\n",
              "      quickchartButtonEl.classList.remove('colab-df-spinner');\n",
              "      quickchartButtonEl.classList.add('colab-df-quickchart-complete');\n",
              "    }\n",
              "    (() => {\n",
              "      let quickchartButtonEl =\n",
              "        document.querySelector('#df-972d775d-e6aa-4500-92e4-2275b2645737 button');\n",
              "      quickchartButtonEl.style.display =\n",
              "        google.colab.kernel.accessAllowed ? 'block' : 'none';\n",
              "    })();\n",
              "  </script>\n",
              "</div>\n",
              "\n",
              "    </div>\n",
              "  </div>\n"
            ],
            "application/vnd.google.colaboratory.intrinsic+json": {
              "type": "dataframe",
              "summary": "{\n  \"name\": \"df\",\n  \"rows\": 8,\n  \"fields\": [\n    {\n      \"column\": \"sample_rate\",\n      \"properties\": {\n        \"dtype\": \"number\",\n        \"std\": 5952.190473142759,\n        \"min\": 0.0,\n        \"max\": 16000.0,\n        \"num_unique_values\": 3,\n        \"samples\": [\n          8000.0,\n          16000.0,\n          0.0\n        ],\n        \"semantic_type\": \"\",\n        \"description\": \"\"\n      }\n    },\n    {\n      \"column\": \"duration\",\n      \"properties\": {\n        \"dtype\": \"number\",\n        \"std\": 2828.1507784580403,\n        \"min\": 0.06142551465568253,\n        \"max\": 8000.0,\n        \"num_unique_values\": 5,\n        \"samples\": [\n          0.9837025156249999,\n          1.0,\n          0.06142551465568253\n        ],\n        \"semantic_type\": \"\",\n        \"description\": \"\"\n      }\n    },\n    {\n      \"column\": \"label\",\n      \"properties\": {\n        \"dtype\": \"number\",\n        \"std\": 2827.2515351783513,\n        \"min\": 0.0,\n        \"max\": 8000.0,\n        \"num_unique_values\": 7,\n        \"samples\": [\n          8000.0,\n          3.5,\n          5.25\n        ],\n        \"semantic_type\": \"\",\n        \"description\": \"\"\n      }\n    }\n  ]\n}"
            }
          },
          "metadata": {},
          "execution_count": 8
        }
      ]
    },
    {
      "cell_type": "code",
      "source": [
        "def compute_mfcc(audio, sample_rate, n_mfcc=13):\n",
        "    audio = audio.copy()\n",
        "    audio[np.isnan(audio)] = 0.0\n",
        "    audio[np.isinf(audio)] = 0.0\n",
        "    mfccs = librosa.feature.mfcc(y=audio, sr=sample_rate, n_mfcc=n_mfcc)\n",
        "    return mfccs.T\n",
        "\n",
        "def get_spectrogram(waveform):\n",
        "    # Convert the waveform to a spectrogram via a STFT.\n",
        "    spectrogram = tf.signal.stft(\n",
        "        waveform, frame_length=255, frame_step=128)\n",
        "    # Obtain the magnitude of the STFT.\n",
        "    spectrogram = tf.abs(spectrogram)\n",
        "    # Add a `channels` dimension, so that the spectrogram can be used\n",
        "    # as image-like input data with convolution layers (which expect\n",
        "    # shape (`batch_size`, `height`, `width`, `channels`).\n",
        "    spectrogram = spectrogram[..., tf.newaxis]\n",
        "    return spectrogram\n",
        "\n",
        "def process_audio(audio_path,target_length):\n",
        "    with wave.open(audio_path, 'rb') as wav_file:\n",
        "        frames = wav_file.readframes(-1)\n",
        "        num_channels = wav_file.getnchannels()\n",
        "\n",
        "        numpy_array = np.frombuffer(frames, dtype=np.float32)\n",
        "        # numpy_array = np.frombuffer(frames, dtype=np.int16)\n",
        "\n",
        "        if num_channels == 2:\n",
        "            numpy_array = numpy_array.reshape(-1, 2)\n",
        "\n",
        "        if len(numpy_array) < target_length:\n",
        "            padding_length = target_length - len(numpy_array)\n",
        "            if num_channels == 2:\n",
        "                numpy_array = np.pad(numpy_array, ((0, padding_length), (0, 0)), 'constant')\n",
        "            else:\n",
        "                numpy_array = np.pad(numpy_array, (0, padding_length), 'constant')\n",
        "\n",
        "        elif len(numpy_array) > target_length:\n",
        "            numpy_array = numpy_array[:target_length]\n",
        "\n",
        "        # mfcc = compute_mfcc(numpy_array,target_length)\n",
        "\n",
        "        return numpy_array.reshape((target_length,1))"
      ],
      "metadata": {
        "id": "BQsib4V_4oSl"
      },
      "execution_count": 9,
      "outputs": []
    },
    {
      "cell_type": "code",
      "source": [
        "def audio_file_to_spectrogram(audio_path, target_length=16000):\n",
        "\n",
        "    with wave.open(audio_path, 'rb') as wav_file:\n",
        "        frames = wav_file.readframes(-1)\n",
        "        audio_array = np.frombuffer(frames, dtype=np.int16)\n",
        "\n",
        "        if len(audio_array) < target_length:\n",
        "            padding_length = target_length - len(audio_array)\n",
        "            audio_array = np.pad(audio_array, (0, padding_length), 'constant')\n",
        "        elif len(audio_array) > target_length:\n",
        "            audio_array = audio_array[:target_length]\n",
        "\n",
        "        _,_, spectrogram = signal.spectrogram(audio_array, fs=wav_file.getframerate())\n",
        "\n",
        "        return spectrogram"
      ],
      "metadata": {
        "id": "LH48mbUg_UkW"
      },
      "execution_count": 10,
      "outputs": []
    },
    {
      "cell_type": "code",
      "source": [
        "class DataSequence(tf.keras.utils.Sequence):\n",
        "\n",
        "    def __init__(self,data,batch_size=32,target_length=44100):\n",
        "        self.data = data\n",
        "        self.batch_size = batch_size\n",
        "        self.target_length = target_length\n",
        "\n",
        "    def __len__(self):\n",
        "        return int(np.ceil(len(self.data) / self.batch_size))\n",
        "\n",
        "    def __getitem__(self,idx):\n",
        "        batch = self.data[idx * self.batch_size : (idx + 1) * self.batch_size]\n",
        "        return self.data_gen(batch)\n",
        "\n",
        "    def data_gen(self,data):\n",
        "        audios,labels = list(),list()\n",
        "        for audio,label in data:\n",
        "            aud = audio_file_to_spectrogram(audio,self.target_length)\n",
        "            audios.append(aud)\n",
        "            labels.append(label)\n",
        "        return np.array(audios),np.array(labels)"
      ],
      "metadata": {
        "id": "V9Qdcw3C4rBU"
      },
      "execution_count": 11,
      "outputs": []
    },
    {
      "cell_type": "code",
      "source": [
        "train_ratio = 0.7\n",
        "val_ratio = 0.1\n",
        "total_examples = len(data)\n",
        "train_size = round(total_examples * train_ratio)\n",
        "val_size = round(total_examples * val_ratio)\n",
        "train_examples = data[:train_size]\n",
        "val_examples = data[train_size:train_size+val_size]\n",
        "test_examples = data[train_size+val_size:]"
      ],
      "metadata": {
        "id": "tSukbkVm4s2G"
      },
      "execution_count": 12,
      "outputs": []
    },
    {
      "cell_type": "code",
      "source": [
        "batch_size = 32\n",
        "sample_rate = 16000\n",
        "train_data = DataSequence(train_examples,batch_size,sample_rate)\n",
        "test_data = DataSequence(test_examples,1,sample_rate)\n",
        "eval_data = DataSequence(val_examples,batch_size,sample_rate)"
      ],
      "metadata": {
        "id": "Bh6O63NY42QU"
      },
      "execution_count": 13,
      "outputs": []
    },
    {
      "cell_type": "code",
      "source": [
        "input_shape = (*train_data[0][0].shape[1:],1)\n",
        "input_shape"
      ],
      "metadata": {
        "colab": {
          "base_uri": "https://localhost:8080/"
        },
        "id": "k9qchLQwDfXe",
        "outputId": "170a2bcd-ba15-4681-8203-33c39be1e537"
      },
      "execution_count": 14,
      "outputs": [
        {
          "output_type": "execute_result",
          "data": {
            "text/plain": [
              "(129, 71, 1)"
            ]
          },
          "metadata": {},
          "execution_count": 14
        }
      ]
    },
    {
      "cell_type": "code",
      "source": [
        "# model = tf.keras.Sequential([\n",
        "#     tf.keras.layers.InputLayer(input_shape=list(train_data[1][0].shape[1:])),\n",
        "\n",
        "#     tf.keras.layers.Conv1D(32,3),\n",
        "#     tf.keras.layers.Activation('relu'),\n",
        "#     tf.keras.layers.Conv1D(32,3),\n",
        "#     tf.keras.layers.Activation('relu'),\n",
        "#     tf.keras.layers.Conv1D(64,3),\n",
        "#     tf.keras.layers.Activation('relu'),\n",
        "#     tf.keras.layers.MaxPooling1D(),\n",
        "#     tf.keras.layers.Dropout(0.25),\n",
        "#     tf.keras.layers.Flatten(),\n",
        "#     tf.keras.layers.Dense(512),\n",
        "#     tf.keras.layers.Activation('relu'),\n",
        "#     tf.keras.layers.Dense(128),\n",
        "#     tf.keras.layers.Activation('relu'),\n",
        "#     tf.keras.layers.Dense(64),\n",
        "#     tf.keras.layers.Activation('relu'),\n",
        "#     tf.keras.layers.Dropout(0.5),\n",
        "\n",
        "#     tf.keras.layers.Dense(len(categories)),\n",
        "#     tf.keras.layers.Activation('softmax'),\n",
        "# ])\n",
        "# model.compile(\n",
        "#     optimizer=tf.keras.optimizers.Adam(),\n",
        "#     loss=tf.keras.losses.sparse_categorical_crossentropy,\n",
        "#     metrics=['accuracy']\n",
        "# )\n"
      ],
      "metadata": {
        "id": "UPn8gW-f43xU"
      },
      "execution_count": 15,
      "outputs": []
    },
    {
      "cell_type": "code",
      "source": [
        "def mobilnet_block(x,filters,strides):\n",
        "  x = tf.keras.layers.DepthwiseConv2D(kernel_size = 3, strides = strides, padding = 'same')(x)\n",
        "  x = tf.keras.layers.BatchNormalization()(x)\n",
        "  x = tf.keras.layers.ReLU()(x)\n",
        "  x = tf.keras.layers.Conv2D(filters = filters, kernel_size = 1, strides = 1)(x)\n",
        "  x = tf.keras.layers.BatchNormalization()(x)\n",
        "  x = tf.keras.layers.ReLU()(x)\n",
        "  return x\n",
        "\n",
        "_input = tf.keras.layers.Input(shape=input_shape)\n",
        "x = tf.keras.layers.Conv2D(filters = 32, kernel_size = 3, strides = 2, padding = 'same')(_input)\n",
        "x = tf.keras.layers.BatchNormalization()(x)\n",
        "x = tf.keras.layers.ReLU()(x)\n",
        "x = mobilnet_block(x, filters = 64, strides = 1)\n",
        "x = mobilnet_block(x, filters = 128, strides = 2)\n",
        "x = mobilnet_block(x, filters = 128, strides = 1)\n",
        "x = mobilnet_block(x, filters = 256, strides = 2)\n",
        "x = mobilnet_block(x, filters = 256, strides = 1)\n",
        "x = mobilnet_block(x, filters = 512, strides = 2)\n",
        "for _ in range (5):\n",
        "     x = mobilnet_block(x, filters = 512, strides = 1)\n",
        "x = mobilnet_block(x, filters = 1024, strides = 2)\n",
        "x = tf.keras.layers.Dropout(0.5)(x)\n",
        "x = mobilnet_block(x, filters = 1024, strides = 1)\n",
        "# x = tf.keras.layers.AvgPool2D(pool_size = 7, strides = 1, data_format='channels_first')(x)\n",
        "x = tf.keras.layers.Flatten()(x)\n",
        "output = tf.keras.layers.Dense(len(categories), activation = 'softmax', kernel_regularizer=tf.keras.regularizers.L2(l2=0.01))(x)\n",
        "model = tf.keras.Model(inputs=_input, outputs=output)\n",
        "\n",
        "model.compile(\n",
        "    optimizer=tf.keras.optimizers.Adam(),\n",
        "    loss=tf.keras.losses.sparse_categorical_crossentropy,\n",
        "    metrics=['accuracy']\n",
        ")"
      ],
      "metadata": {
        "id": "uj1LJ1ECW3K0"
      },
      "execution_count": 23,
      "outputs": []
    },
    {
      "cell_type": "code",
      "source": [
        "model.summary()"
      ],
      "metadata": {
        "colab": {
          "base_uri": "https://localhost:8080/"
        },
        "id": "ji8QC9cr5EFk",
        "outputId": "5b0ed074-635f-471d-9bf0-e5825e595aac"
      },
      "execution_count": 24,
      "outputs": [
        {
          "output_type": "stream",
          "name": "stdout",
          "text": [
            "Model: \"model_2\"\n",
            "_________________________________________________________________\n",
            " Layer (type)                Output Shape              Param #   \n",
            "=================================================================\n",
            " input_3 (InputLayer)        [(None, 129, 71, 1)]      0         \n",
            "                                                                 \n",
            " conv2d_28 (Conv2D)          (None, 65, 36, 32)        320       \n",
            "                                                                 \n",
            " batch_normalization_54 (Ba  (None, 65, 36, 32)        128       \n",
            " tchNormalization)                                               \n",
            "                                                                 \n",
            " re_lu_54 (ReLU)             (None, 65, 36, 32)        0         \n",
            "                                                                 \n",
            " depthwise_conv2d_26 (Depth  (None, 65, 36, 32)        320       \n",
            " wiseConv2D)                                                     \n",
            "                                                                 \n",
            " batch_normalization_55 (Ba  (None, 65, 36, 32)        128       \n",
            " tchNormalization)                                               \n",
            "                                                                 \n",
            " re_lu_55 (ReLU)             (None, 65, 36, 32)        0         \n",
            "                                                                 \n",
            " conv2d_29 (Conv2D)          (None, 65, 36, 64)        2112      \n",
            "                                                                 \n",
            " batch_normalization_56 (Ba  (None, 65, 36, 64)        256       \n",
            " tchNormalization)                                               \n",
            "                                                                 \n",
            " re_lu_56 (ReLU)             (None, 65, 36, 64)        0         \n",
            "                                                                 \n",
            " depthwise_conv2d_27 (Depth  (None, 33, 18, 64)        640       \n",
            " wiseConv2D)                                                     \n",
            "                                                                 \n",
            " batch_normalization_57 (Ba  (None, 33, 18, 64)        256       \n",
            " tchNormalization)                                               \n",
            "                                                                 \n",
            " re_lu_57 (ReLU)             (None, 33, 18, 64)        0         \n",
            "                                                                 \n",
            " conv2d_30 (Conv2D)          (None, 33, 18, 128)       8320      \n",
            "                                                                 \n",
            " batch_normalization_58 (Ba  (None, 33, 18, 128)       512       \n",
            " tchNormalization)                                               \n",
            "                                                                 \n",
            " re_lu_58 (ReLU)             (None, 33, 18, 128)       0         \n",
            "                                                                 \n",
            " depthwise_conv2d_28 (Depth  (None, 33, 18, 128)       1280      \n",
            " wiseConv2D)                                                     \n",
            "                                                                 \n",
            " batch_normalization_59 (Ba  (None, 33, 18, 128)       512       \n",
            " tchNormalization)                                               \n",
            "                                                                 \n",
            " re_lu_59 (ReLU)             (None, 33, 18, 128)       0         \n",
            "                                                                 \n",
            " conv2d_31 (Conv2D)          (None, 33, 18, 128)       16512     \n",
            "                                                                 \n",
            " batch_normalization_60 (Ba  (None, 33, 18, 128)       512       \n",
            " tchNormalization)                                               \n",
            "                                                                 \n",
            " re_lu_60 (ReLU)             (None, 33, 18, 128)       0         \n",
            "                                                                 \n",
            " depthwise_conv2d_29 (Depth  (None, 17, 9, 128)        1280      \n",
            " wiseConv2D)                                                     \n",
            "                                                                 \n",
            " batch_normalization_61 (Ba  (None, 17, 9, 128)        512       \n",
            " tchNormalization)                                               \n",
            "                                                                 \n",
            " re_lu_61 (ReLU)             (None, 17, 9, 128)        0         \n",
            "                                                                 \n",
            " conv2d_32 (Conv2D)          (None, 17, 9, 256)        33024     \n",
            "                                                                 \n",
            " batch_normalization_62 (Ba  (None, 17, 9, 256)        1024      \n",
            " tchNormalization)                                               \n",
            "                                                                 \n",
            " re_lu_62 (ReLU)             (None, 17, 9, 256)        0         \n",
            "                                                                 \n",
            " depthwise_conv2d_30 (Depth  (None, 17, 9, 256)        2560      \n",
            " wiseConv2D)                                                     \n",
            "                                                                 \n",
            " batch_normalization_63 (Ba  (None, 17, 9, 256)        1024      \n",
            " tchNormalization)                                               \n",
            "                                                                 \n",
            " re_lu_63 (ReLU)             (None, 17, 9, 256)        0         \n",
            "                                                                 \n",
            " conv2d_33 (Conv2D)          (None, 17, 9, 256)        65792     \n",
            "                                                                 \n",
            " batch_normalization_64 (Ba  (None, 17, 9, 256)        1024      \n",
            " tchNormalization)                                               \n",
            "                                                                 \n",
            " re_lu_64 (ReLU)             (None, 17, 9, 256)        0         \n",
            "                                                                 \n",
            " depthwise_conv2d_31 (Depth  (None, 9, 5, 256)         2560      \n",
            " wiseConv2D)                                                     \n",
            "                                                                 \n",
            " batch_normalization_65 (Ba  (None, 9, 5, 256)         1024      \n",
            " tchNormalization)                                               \n",
            "                                                                 \n",
            " re_lu_65 (ReLU)             (None, 9, 5, 256)         0         \n",
            "                                                                 \n",
            " conv2d_34 (Conv2D)          (None, 9, 5, 512)         131584    \n",
            "                                                                 \n",
            " batch_normalization_66 (Ba  (None, 9, 5, 512)         2048      \n",
            " tchNormalization)                                               \n",
            "                                                                 \n",
            " re_lu_66 (ReLU)             (None, 9, 5, 512)         0         \n",
            "                                                                 \n",
            " depthwise_conv2d_32 (Depth  (None, 9, 5, 512)         5120      \n",
            " wiseConv2D)                                                     \n",
            "                                                                 \n",
            " batch_normalization_67 (Ba  (None, 9, 5, 512)         2048      \n",
            " tchNormalization)                                               \n",
            "                                                                 \n",
            " re_lu_67 (ReLU)             (None, 9, 5, 512)         0         \n",
            "                                                                 \n",
            " conv2d_35 (Conv2D)          (None, 9, 5, 512)         262656    \n",
            "                                                                 \n",
            " batch_normalization_68 (Ba  (None, 9, 5, 512)         2048      \n",
            " tchNormalization)                                               \n",
            "                                                                 \n",
            " re_lu_68 (ReLU)             (None, 9, 5, 512)         0         \n",
            "                                                                 \n",
            " depthwise_conv2d_33 (Depth  (None, 9, 5, 512)         5120      \n",
            " wiseConv2D)                                                     \n",
            "                                                                 \n",
            " batch_normalization_69 (Ba  (None, 9, 5, 512)         2048      \n",
            " tchNormalization)                                               \n",
            "                                                                 \n",
            " re_lu_69 (ReLU)             (None, 9, 5, 512)         0         \n",
            "                                                                 \n",
            " conv2d_36 (Conv2D)          (None, 9, 5, 512)         262656    \n",
            "                                                                 \n",
            " batch_normalization_70 (Ba  (None, 9, 5, 512)         2048      \n",
            " tchNormalization)                                               \n",
            "                                                                 \n",
            " re_lu_70 (ReLU)             (None, 9, 5, 512)         0         \n",
            "                                                                 \n",
            " depthwise_conv2d_34 (Depth  (None, 9, 5, 512)         5120      \n",
            " wiseConv2D)                                                     \n",
            "                                                                 \n",
            " batch_normalization_71 (Ba  (None, 9, 5, 512)         2048      \n",
            " tchNormalization)                                               \n",
            "                                                                 \n",
            " re_lu_71 (ReLU)             (None, 9, 5, 512)         0         \n",
            "                                                                 \n",
            " conv2d_37 (Conv2D)          (None, 9, 5, 512)         262656    \n",
            "                                                                 \n",
            " batch_normalization_72 (Ba  (None, 9, 5, 512)         2048      \n",
            " tchNormalization)                                               \n",
            "                                                                 \n",
            " re_lu_72 (ReLU)             (None, 9, 5, 512)         0         \n",
            "                                                                 \n",
            " depthwise_conv2d_35 (Depth  (None, 9, 5, 512)         5120      \n",
            " wiseConv2D)                                                     \n",
            "                                                                 \n",
            " batch_normalization_73 (Ba  (None, 9, 5, 512)         2048      \n",
            " tchNormalization)                                               \n",
            "                                                                 \n",
            " re_lu_73 (ReLU)             (None, 9, 5, 512)         0         \n",
            "                                                                 \n",
            " conv2d_38 (Conv2D)          (None, 9, 5, 512)         262656    \n",
            "                                                                 \n",
            " batch_normalization_74 (Ba  (None, 9, 5, 512)         2048      \n",
            " tchNormalization)                                               \n",
            "                                                                 \n",
            " re_lu_74 (ReLU)             (None, 9, 5, 512)         0         \n",
            "                                                                 \n",
            " depthwise_conv2d_36 (Depth  (None, 9, 5, 512)         5120      \n",
            " wiseConv2D)                                                     \n",
            "                                                                 \n",
            " batch_normalization_75 (Ba  (None, 9, 5, 512)         2048      \n",
            " tchNormalization)                                               \n",
            "                                                                 \n",
            " re_lu_75 (ReLU)             (None, 9, 5, 512)         0         \n",
            "                                                                 \n",
            " conv2d_39 (Conv2D)          (None, 9, 5, 512)         262656    \n",
            "                                                                 \n",
            " batch_normalization_76 (Ba  (None, 9, 5, 512)         2048      \n",
            " tchNormalization)                                               \n",
            "                                                                 \n",
            " re_lu_76 (ReLU)             (None, 9, 5, 512)         0         \n",
            "                                                                 \n",
            " depthwise_conv2d_37 (Depth  (None, 5, 3, 512)         5120      \n",
            " wiseConv2D)                                                     \n",
            "                                                                 \n",
            " batch_normalization_77 (Ba  (None, 5, 3, 512)         2048      \n",
            " tchNormalization)                                               \n",
            "                                                                 \n",
            " re_lu_77 (ReLU)             (None, 5, 3, 512)         0         \n",
            "                                                                 \n",
            " conv2d_40 (Conv2D)          (None, 5, 3, 1024)        525312    \n",
            "                                                                 \n",
            " batch_normalization_78 (Ba  (None, 5, 3, 1024)        4096      \n",
            " tchNormalization)                                               \n",
            "                                                                 \n",
            " re_lu_78 (ReLU)             (None, 5, 3, 1024)        0         \n",
            "                                                                 \n",
            " dropout (Dropout)           (None, 5, 3, 1024)        0         \n",
            "                                                                 \n",
            " depthwise_conv2d_38 (Depth  (None, 5, 3, 1024)        10240     \n",
            " wiseConv2D)                                                     \n",
            "                                                                 \n",
            " batch_normalization_79 (Ba  (None, 5, 3, 1024)        4096      \n",
            " tchNormalization)                                               \n",
            "                                                                 \n",
            " re_lu_79 (ReLU)             (None, 5, 3, 1024)        0         \n",
            "                                                                 \n",
            " conv2d_41 (Conv2D)          (None, 5, 3, 1024)        1049600   \n",
            "                                                                 \n",
            " batch_normalization_80 (Ba  (None, 5, 3, 1024)        4096      \n",
            " tchNormalization)                                               \n",
            "                                                                 \n",
            " re_lu_80 (ReLU)             (None, 5, 3, 1024)        0         \n",
            "                                                                 \n",
            " flatten_2 (Flatten)         (None, 15360)             0         \n",
            "                                                                 \n",
            " dense_2 (Dense)             (None, 8)                 122888    \n",
            "                                                                 \n",
            "=================================================================\n",
            "Total params: 3362120 (12.83 MB)\n",
            "Trainable params: 3340232 (12.74 MB)\n",
            "Non-trainable params: 21888 (85.50 KB)\n",
            "_________________________________________________________________\n"
          ]
        }
      ]
    },
    {
      "cell_type": "code",
      "source": [
        "with tf.device('gpu:0'):\n",
        "  history = model.fit(train_data,epochs=25,validation_data=eval_data,verbose=1)\n"
      ],
      "metadata": {
        "colab": {
          "base_uri": "https://localhost:8080/"
        },
        "id": "mze6FFUl46j1",
        "outputId": "41dd8658-306c-4777-cd7f-f35289ae7010"
      },
      "execution_count": 26,
      "outputs": [
        {
          "output_type": "stream",
          "name": "stdout",
          "text": [
            "Epoch 1/25\n",
            "175/175 [==============================] - 11s 60ms/step - loss: 0.3037 - accuracy: 0.9095 - val_loss: 3.6441 - val_accuracy: 0.2375\n",
            "Epoch 2/25\n",
            "175/175 [==============================] - 8s 46ms/step - loss: 0.2881 - accuracy: 0.9145 - val_loss: 4.2777 - val_accuracy: 0.2062\n",
            "Epoch 3/25\n",
            "175/175 [==============================] - 9s 50ms/step - loss: 0.2298 - accuracy: 0.9304 - val_loss: 2.3510 - val_accuracy: 0.3988\n",
            "Epoch 4/25\n",
            "175/175 [==============================] - 9s 50ms/step - loss: 0.1939 - accuracy: 0.9475 - val_loss: 3.4053 - val_accuracy: 0.2837\n",
            "Epoch 5/25\n",
            "175/175 [==============================] - 8s 46ms/step - loss: 0.2179 - accuracy: 0.9364 - val_loss: 4.0659 - val_accuracy: 0.1950\n",
            "Epoch 6/25\n",
            "175/175 [==============================] - 9s 49ms/step - loss: 0.1708 - accuracy: 0.9516 - val_loss: 2.9478 - val_accuracy: 0.3700\n",
            "Epoch 7/25\n",
            "175/175 [==============================] - 9s 50ms/step - loss: 0.1674 - accuracy: 0.9489 - val_loss: 7.3090 - val_accuracy: 0.1400\n",
            "Epoch 8/25\n",
            "175/175 [==============================] - 9s 49ms/step - loss: 0.1719 - accuracy: 0.9529 - val_loss: 3.8811 - val_accuracy: 0.3150\n",
            "Epoch 9/25\n",
            "175/175 [==============================] - 8s 47ms/step - loss: 0.2189 - accuracy: 0.9366 - val_loss: 2.4657 - val_accuracy: 0.2037\n",
            "Epoch 10/25\n",
            "175/175 [==============================] - 9s 50ms/step - loss: 0.1632 - accuracy: 0.9555 - val_loss: 2.8655 - val_accuracy: 0.2825\n",
            "Epoch 11/25\n",
            "175/175 [==============================] - 9s 49ms/step - loss: 0.1427 - accuracy: 0.9586 - val_loss: 2.0167 - val_accuracy: 0.5550\n",
            "Epoch 12/25\n",
            "175/175 [==============================] - 8s 45ms/step - loss: 0.1494 - accuracy: 0.9589 - val_loss: 3.0715 - val_accuracy: 0.4462\n",
            "Epoch 13/25\n",
            "175/175 [==============================] - 9s 50ms/step - loss: 0.1256 - accuracy: 0.9668 - val_loss: 2.8464 - val_accuracy: 0.3875\n",
            "Epoch 14/25\n",
            "175/175 [==============================] - 9s 49ms/step - loss: 0.1370 - accuracy: 0.9638 - val_loss: 3.1351 - val_accuracy: 0.3100\n",
            "Epoch 15/25\n",
            "175/175 [==============================] - 8s 46ms/step - loss: 0.1216 - accuracy: 0.9654 - val_loss: 3.6924 - val_accuracy: 0.2962\n",
            "Epoch 16/25\n",
            "175/175 [==============================] - 9s 50ms/step - loss: 0.0819 - accuracy: 0.9809 - val_loss: 2.2655 - val_accuracy: 0.4638\n",
            "Epoch 17/25\n",
            "175/175 [==============================] - 9s 50ms/step - loss: 0.1291 - accuracy: 0.9664 - val_loss: 3.2471 - val_accuracy: 0.3787\n",
            "Epoch 18/25\n",
            "175/175 [==============================] - 9s 49ms/step - loss: 0.1720 - accuracy: 0.9555 - val_loss: 2.5359 - val_accuracy: 0.4375\n",
            "Epoch 19/25\n",
            "175/175 [==============================] - 8s 48ms/step - loss: 0.1222 - accuracy: 0.9689 - val_loss: 4.8644 - val_accuracy: 0.2062\n",
            "Epoch 20/25\n",
            "175/175 [==============================] - 9s 53ms/step - loss: 0.0678 - accuracy: 0.9836 - val_loss: 2.3846 - val_accuracy: 0.4950\n",
            "Epoch 21/25\n",
            "175/175 [==============================] - 9s 49ms/step - loss: 0.1045 - accuracy: 0.9741 - val_loss: 1.5813 - val_accuracy: 0.5750\n",
            "Epoch 22/25\n",
            "175/175 [==============================] - 8s 45ms/step - loss: 0.0970 - accuracy: 0.9745 - val_loss: 1.5238 - val_accuracy: 0.5913\n",
            "Epoch 23/25\n",
            "175/175 [==============================] - 9s 50ms/step - loss: 0.1097 - accuracy: 0.9711 - val_loss: 3.7759 - val_accuracy: 0.2637\n",
            "Epoch 24/25\n",
            "175/175 [==============================] - 9s 50ms/step - loss: 0.1199 - accuracy: 0.9680 - val_loss: 2.4630 - val_accuracy: 0.4638\n",
            "Epoch 25/25\n",
            "175/175 [==============================] - 8s 45ms/step - loss: 0.1268 - accuracy: 0.9673 - val_loss: 1.8686 - val_accuracy: 0.5175\n"
          ]
        }
      ]
    },
    {
      "cell_type": "code",
      "source": [
        "y_true = [i[0] for _,i in test_data]\n",
        "y_pred = [np.argmax(i) for i in model.predict(test_data)]"
      ],
      "metadata": {
        "id": "2e93_f5D69Wk"
      },
      "execution_count": null,
      "outputs": []
    },
    {
      "cell_type": "code",
      "source": [
        "conf_mat = tf.math.confusion_matrix(y_true,y_pred)"
      ],
      "metadata": {
        "id": "VtpDIYUGrRbY"
      },
      "execution_count": 33,
      "outputs": []
    },
    {
      "cell_type": "code",
      "source": [
        "sns.heatmap(conf_mat)\n",
        "plt.show()"
      ],
      "metadata": {
        "colab": {
          "base_uri": "https://localhost:8080/",
          "height": 430
        },
        "id": "CCK-NAXArR4H",
        "outputId": "ab10b899-6be7-4ec9-c03b-bd969a85cabc"
      },
      "execution_count": 35,
      "outputs": [
        {
          "output_type": "display_data",
          "data": {
            "text/plain": [
              "<Figure size 640x480 with 2 Axes>"
            ],
            "image/png": "[encoded data removed]"
          },
          "metadata": {}
        }
      ]
    },
    {
      "cell_type": "code",
      "source": [
        "model.save('classifier.h5')\n",
        "from google.colab import files\n",
        "files.download('classifier.h5')"
      ],
      "metadata": {
        "colab": {
          "base_uri": "https://localhost:8080/",
          "height": 73
        },
        "id": "9WEBv2hkrdUW",
        "outputId": "bcf59b41-7ddd-453d-b167-103a058f1034"
      },
      "execution_count": 36,
      "outputs": [
        {
          "output_type": "stream",
          "name": "stderr",
          "text": [
            "/usr/local/lib/python3.10/dist-packages/keras/src/engine/training.py:3103: UserWarning: You are saving your model as an HDF5 file via `model.save()`. This file format is considered legacy. We recommend using instead the native Keras format, e.g. `model.save('my_model.keras')`.\n",
            "  saving_api.save_model(\n"
          ]
        },
        {
          "output_type": "display_data",
          "data": {
            "text/plain": [
              "<IPython.core.display.Javascript object>"
            ],
            "application/javascript": [
              "\n",
              "    async function download(id, filename, size) {\n",
              "      if (!google.colab.kernel.accessAllowed) {\n",
              "        return;\n",
              "      }\n",
              "      const div = document.createElement('div');\n",
              "      const label = document.createElement('label');\n",
              "      label.textContent = `Downloading \"${filename}\": `;\n",
              "      div.appendChild(label);\n",
              "      const progress = document.createElement('progress');\n",
              "      progress.max = size;\n",
              "      div.appendChild(progress);\n",
              "      document.body.appendChild(div);\n",
              "\n",
              "      const buffers = [];\n",
              "      let downloaded = 0;\n",
              "\n",
              "      const channel = await google.colab.kernel.comms.open(id);\n",
              "      // Send a message to notify the kernel that we're ready.\n",
              "      channel.send({})\n",
              "\n",
              "      for await (const message of channel.messages) {\n",
              "        // Send a message to notify the kernel that we're ready.\n",
              "        channel.send({})\n",
              "        if (message.buffers) {\n",
              "          for (const buffer of message.buffers) {\n",
              "            buffers.push(buffer);\n",
              "            downloaded += buffer.byteLength;\n",
              "            progress.value = downloaded;\n",
              "          }\n",
              "        }\n",
              "      }\n",
              "      const blob = new Blob(buffers, {type: 'application/binary'});\n",
              "      const a = document.createElement('a');\n",
              "      a.href = window.URL.createObjectURL(blob);\n",
              "      a.download = filename;\n",
              "      div.appendChild(a);\n",
              "      a.click();\n",
              "      div.remove();\n",
              "    }\n",
              "  "
            ]
          },
          "metadata": {}
        },
        {
          "output_type": "display_data",
          "data": {
            "text/plain": [
              "<IPython.core.display.Javascript object>"
            ],
            "application/javascript": [
              "download(\"download_c13959b3-c044-4224-915b-0967d8393dec\", \"classifier.h5\", 40650320)"
            ]
          },
          "metadata": {}
        }
      ]
    },
    {
      "cell_type": "code",
      "source": [],
      "metadata": {
        "id": "uzM4MWkWrpmI"
      },
      "execution_count": null,
      "outputs": []
    }
  ]
}