{
  "nbformat": 4,
  "nbformat_minor": 0,
  "metadata": {
    "colab": {
      "provenance": [],
      "gpuType": "T4"
    },
    "kernelspec": {
      "name": "python3",
      "display_name": "Python 3"
    },
    "language_info": {
      "name": "python"
    },
    "accelerator": "GPU"
  },
  "cells": [
    {
      "cell_type": "code",
      "execution_count": 72,
      "metadata": {
        "id": "y5DDd6g0jD3C"
      },
      "outputs": [],
      "source": [
        "import os\n",
        "import pathlib\n",
        "import random\n",
        "import tensorflow as tf\n",
        "import numpy as np\n",
        "import wave\n",
        "import pandas as pd\n",
        "import librosa\n",
        "from scipy import signal\n",
        "import matplotlib.pyplot as plt\n",
        "import seaborn as sns\n",
        "from sklearn.metrics import classification_report"
      ]
    },
    {
      "cell_type": "code",
      "source": [
        "DATASET_PATH = 'data/mini_speech_commands'\n",
        "\n",
        "data_dir = pathlib.Path(DATASET_PATH)\n",
        "if not data_dir.exists():\n",
        "    tf.keras.utils.get_file(\n",
        "        'mini_speech_commands.zip',\n",
        "        origin=\"http://storage.googleapis.com/download.tensorflow.org/data/mini_speech_commands.zip\",\n",
        "        extract=True,\n",
        "        cache_dir='.', cache_subdir='data')"
      ],
      "metadata": {
        "colab": {
          "base_uri": "https://localhost:8080/"
        },
        "id": "AmyL1cawjmpn",
        "outputId": "44890c0f-474c-46ba-8807-e057991fecf4"
      },
      "execution_count": 2,
      "outputs": [
        {
          "output_type": "stream",
          "name": "stdout",
          "text": [
            "Downloading data from http://storage.googleapis.com/download.tensorflow.org/data/mini_speech_commands.zip\n",
            "182082353/182082353 [==============================] - 1s 0us/step\n"
          ]
        }
      ]
    },
    {
      "cell_type": "code",
      "source": [
        "categories = {i:j for i,j in enumerate(filter(lambda x: x in ['stop', 'up', 'yes', 'down', 'no', 'left', 'right', 'go'],os.listdir(DATASET_PATH)))}\n",
        "categories"
      ],
      "metadata": {
        "colab": {
          "base_uri": "https://localhost:8080/"
        },
        "id": "1t2MQ5k_jowx",
        "outputId": "75a3a63c-62ce-4e21-a8e7-67f4c94701eb"
      },
      "execution_count": 3,
      "outputs": [
        {
          "output_type": "execute_result",
          "data": {
            "text/plain": [
              "{0: 'up',\n",
              " 1: 'left',\n",
              " 2: 'yes',\n",
              " 3: 'go',\n",
              " 4: 'right',\n",
              " 5: 'down',\n",
              " 6: 'no',\n",
              " 7: 'stop'}"
            ]
          },
          "metadata": {},
          "execution_count": 3
        }
      ]
    },
    {
      "cell_type": "code",
      "source": [
        "def load_data(path):\n",
        "    data = list()\n",
        "    for idx, folder in categories.items():\n",
        "        folder_path = os.path.join(path,folder)\n",
        "        images = os.listdir(folder_path)\n",
        "        images = [os.path.join(folder_path,image) for image in images]\n",
        "        for image in images:\n",
        "            data.append([image,idx])\n",
        "    return data\n",
        "data = load_data(DATASET_PATH)"
      ],
      "metadata": {
        "id": "kiBN55VXjqg-"
      },
      "execution_count": 4,
      "outputs": []
    },
    {
      "cell_type": "code",
      "source": [
        "random.shuffle(data)\n",
        "random.shuffle(data)"
      ],
      "metadata": {
        "id": "kHDwmg8Xjr4a"
      },
      "execution_count": 5,
      "outputs": []
    },
    {
      "cell_type": "code",
      "source": [
        "def get_sample_rate(d):\n",
        "    audio_path,label = d\n",
        "    with wave.open(audio_path, 'rb') as wav_file:\n",
        "        sample_rate = wav_file.getframerate()\n",
        "        num_frames = wav_file.getnframes()\n",
        "        duration = num_frames / sample_rate\n",
        "    return sample_rate,duration,label\n",
        "\n",
        "audio_info = [get_sample_rate(d) for d in data]\n",
        "df = pd.DataFrame(audio_info, columns =['sample_rate', 'duration','label'])"
      ],
      "metadata": {
        "id": "1JT6LHQNjtXp"
      },
      "execution_count": 6,
      "outputs": []
    },
    {
      "cell_type": "code",
      "source": [
        "df['label'].value_counts()"
      ],
      "metadata": {
        "colab": {
          "base_uri": "https://localhost:8080/"
        },
        "id": "QMzCqj-6jvGX",
        "outputId": "e8d70316-7e20-4329-d5bb-d6a8562f1c50"
      },
      "execution_count": 7,
      "outputs": [
        {
          "output_type": "execute_result",
          "data": {
            "text/plain": [
              "label\n",
              "5    1000\n",
              "3    1000\n",
              "4    1000\n",
              "7    1000\n",
              "0    1000\n",
              "1    1000\n",
              "2    1000\n",
              "6    1000\n",
              "Name: count, dtype: int64"
            ]
          },
          "metadata": {},
          "execution_count": 7
        }
      ]
    },
    {
      "cell_type": "code",
      "source": [
        "df.describe()"
      ],
      "metadata": {
        "colab": {
          "base_uri": "https://localhost:8080/",
          "height": 300
        },
        "id": "wfzzqQcbjwUA",
        "outputId": "15c588db-093d-431c-ca71-ff4fa142b458"
      },
      "execution_count": 8,
      "outputs": [
        {
          "output_type": "execute_result",
          "data": {
            "text/plain": [
              "       sample_rate     duration        label\n",
              "count       8000.0  8000.000000  8000.000000\n",
              "mean       16000.0     0.983703     3.500000\n",
              "std            0.0     0.061426     2.291431\n",
              "min        16000.0     0.426687     0.000000\n",
              "25%        16000.0     1.000000     1.750000\n",
              "50%        16000.0     1.000000     3.500000\n",
              "75%        16000.0     1.000000     5.250000\n",
              "max        16000.0     1.000000     7.000000"
            ],
            "text/html": [
              "\n",
              "  <div id=\"df-c6f60dfc-1b0a-4cc2-8612-e852e3bb2fc5\" class=\"colab-df-container\">\n",
              "    <div>\n",
              "<style scoped>\n",
              "    .dataframe tbody tr th:only-of-type {\n",
              "        vertical-align: middle;\n",
              "    }\n",
              "\n",
              "    .dataframe tbody tr th {\n",
              "        vertical-align: top;\n",
              "    }\n",
              "\n",
              "    .dataframe thead th {\n",
              "        text-align: right;\n",
              "    }\n",
              "</style>\n",
              "<table border=\"1\" class=\"dataframe\">\n",
              "  <thead>\n",
              "    <tr style=\"text-align: right;\">\n",
              "      <th></th>\n",
              "      <th>sample_rate</th>\n",
              "      <th>duration</th>\n",
              "      <th>label</th>\n",
              "    </tr>\n",
              "  </thead>\n",
              "  <tbody>\n",
              "    <tr>\n",
              "      <th>count</th>\n",
              "      <td>8000.0</td>\n",
              "      <td>8000.000000</td>\n",
              "      <td>8000.000000</td>\n",
              "    </tr>\n",
              "    <tr>\n",
              "      <th>mean</th>\n",
              "      <td>16000.0</td>\n",
              "      <td>0.983703</td>\n",
              "      <td>3.500000</td>\n",
              "    </tr>\n",
              "    <tr>\n",
              "      <th>std</th>\n",
              "      <td>0.0</td>\n",
              "      <td>0.061426</td>\n",
              "      <td>2.291431</td>\n",
              "    </tr>\n",
              "    <tr>\n",
              "      <th>min</th>\n",
              "      <td>16000.0</td>\n",
              "      <td>0.426687</td>\n",
              "      <td>0.000000</td>\n",
              "    </tr>\n",
              "    <tr>\n",
              "      <th>25%</th>\n",
              "      <td>16000.0</td>\n",
              "      <td>1.000000</td>\n",
              "      <td>1.750000</td>\n",
              "    </tr>\n",
              "    <tr>\n",
              "      <th>50%</th>\n",
              "      <td>16000.0</td>\n",
              "      <td>1.000000</td>\n",
              "      <td>3.500000</td>\n",
              "    </tr>\n",
              "    <tr>\n",
              "      <th>75%</th>\n",
              "      <td>16000.0</td>\n",
              "      <td>1.000000</td>\n",
              "      <td>5.250000</td>\n",
              "    </tr>\n",
              "    <tr>\n",
              "      <th>max</th>\n",
              "      <td>16000.0</td>\n",
              "      <td>1.000000</td>\n",
              "      <td>7.000000</td>\n",
              "    </tr>\n",
              "  </tbody>\n",
              "</table>\n",
              "</div>\n",
              "    <div class=\"colab-df-buttons\">\n",
              "\n",
              "  <div class=\"colab-df-container\">\n",
              "    <button class=\"colab-df-convert\" onclick=\"convertToInteractive('df-c6f60dfc-1b0a-4cc2-8612-e852e3bb2fc5')\"\n",
              "            title=\"Convert this dataframe to an interactive table.\"\n",
              "            style=\"display:none;\">\n",
              "\n",
              "  <svg xmlns=\"http://www.w3.org/2000/svg\" height=\"24px\" viewBox=\"0 -960 960 960\">\n",
              "    <path d=\"M120-120v-720h720v720H120Zm60-500h600v-160H180v160Zm220 220h160v-160H400v160Zm0 220h160v-160H400v160ZM180-400h160v-160H180v160Zm440 0h160v-160H620v160ZM180-180h160v-160H180v160Zm440 0h160v-160H620v160Z\"/>\n",
              "  </svg>\n",
              "    </button>\n",
              "\n",
              "  <style>\n",
              "    .colab-df-container {\n",
              "      display:flex;\n",
              "      gap: 12px;\n",
              "    }\n",
              "\n",
              "    .colab-df-convert {\n",
              "      background-color: #E8F0FE;\n",
              "      border: none;\n",
              "      border-radius: 50%;\n",
              "      cursor: pointer;\n",
              "      display: none;\n",
              "      fill: #1967D2;\n",
              "      height: 32px;\n",
              "      padding: 0 0 0 0;\n",
              "      width: 32px;\n",
              "    }\n",
              "\n",
              "    .colab-df-convert:hover {\n",
              "      background-color: #E2EBFA;\n",
              "      box-shadow: 0px 1px 2px rgba(60, 64, 67, 0.3), 0px 1px 3px 1px rgba(60, 64, 67, 0.15);\n",
              "      fill: #174EA6;\n",
              "    }\n",
              "\n",
              "    .colab-df-buttons div {\n",
              "      margin-bottom: 4px;\n",
              "    }\n",
              "\n",
              "    [theme=dark] .colab-df-convert {\n",
              "      background-color: #3B4455;\n",
              "      fill: #D2E3FC;\n",
              "    }\n",
              "\n",
              "    [theme=dark] .colab-df-convert:hover {\n",
              "      background-color: #434B5C;\n",
              "      box-shadow: 0px 1px 3px 1px rgba(0, 0, 0, 0.15);\n",
              "      filter: drop-shadow(0px 1px 2px rgba(0, 0, 0, 0.3));\n",
              "      fill: #FFFFFF;\n",
              "    }\n",
              "  </style>\n",
              "\n",
              "    <script>\n",
              "      const buttonEl =\n",
              "        document.querySelector('#df-c6f60dfc-1b0a-4cc2-8612-e852e3bb2fc5 button.colab-df-convert');\n",
              "      buttonEl.style.display =\n",
              "        google.colab.kernel.accessAllowed ? 'block' : 'none';\n",
              "\n",
              "      async function convertToInteractive(key) {\n",
              "        const element = document.querySelector('#df-c6f60dfc-1b0a-4cc2-8612-e852e3bb2fc5');\n",
              "        const dataTable =\n",
              "          await google.colab.kernel.invokeFunction('convertToInteractive',\n",
              "                                                    [key], {});\n",
              "        if (!dataTable) return;\n",
              "\n",
              "        const docLinkHtml = 'Like what you see? Visit the ' +\n",
              "          '<a target=\"_blank\" href=https://colab.research.google.com/notebooks/data_table.ipynb>data table notebook</a>'\n",
              "          + ' to learn more about interactive tables.';\n",
              "        element.innerHTML = '';\n",
              "        dataTable['output_type'] = 'display_data';\n",
              "        await google.colab.output.renderOutput(dataTable, element);\n",
              "        const docLink = document.createElement('div');\n",
              "        docLink.innerHTML = docLinkHtml;\n",
              "        element.appendChild(docLink);\n",
              "      }\n",
              "    </script>\n",
              "  </div>\n",
              "\n",
              "\n",
              "<div id=\"df-b4d6dece-3f51-4855-a862-24db30ae5718\">\n",
              "  <button class=\"colab-df-quickchart\" onclick=\"quickchart('df-b4d6dece-3f51-4855-a862-24db30ae5718')\"\n",
              "            title=\"Suggest charts\"\n",
              "            style=\"display:none;\">\n",
              "\n",
              "<svg xmlns=\"http://www.w3.org/2000/svg\" height=\"24px\"viewBox=\"0 0 24 24\"\n",
              "     width=\"24px\">\n",
              "    <g>\n",
              "        <path d=\"M19 3H5c-1.1 0-2 .9-2 2v14c0 1.1.9 2 2 2h14c1.1 0 2-.9 2-2V5c0-1.1-.9-2-2-2zM9 17H7v-7h2v7zm4 0h-2V7h2v10zm4 0h-2v-4h2v4z\"/>\n",
              "    </g>\n",
              "</svg>\n",
              "  </button>\n",
              "\n",
              "<style>\n",
              "  .colab-df-quickchart {\n",
              "      --bg-color: #E8F0FE;\n",
              "      --fill-color: #1967D2;\n",
              "      --hover-bg-color: #E2EBFA;\n",
              "      --hover-fill-color: #174EA6;\n",
              "      --disabled-fill-color: #AAA;\n",
              "      --disabled-bg-color: #DDD;\n",
              "  }\n",
              "\n",
              "  [theme=dark] .colab-df-quickchart {\n",
              "      --bg-color: #3B4455;\n",
              "      --fill-color: #D2E3FC;\n",
              "      --hover-bg-color: #434B5C;\n",
              "      --hover-fill-color: #FFFFFF;\n",
              "      --disabled-bg-color: #3B4455;\n",
              "      --disabled-fill-color: #666;\n",
              "  }\n",
              "\n",
              "  .colab-df-quickchart {\n",
              "    background-color: var(--bg-color);\n",
              "    border: none;\n",
              "    border-radius: 50%;\n",
              "    cursor: pointer;\n",
              "    display: none;\n",
              "    fill: var(--fill-color);\n",
              "    height: 32px;\n",
              "    padding: 0;\n",
              "    width: 32px;\n",
              "  }\n",
              "\n",
              "  .colab-df-quickchart:hover {\n",
              "    background-color: var(--hover-bg-color);\n",
              "    box-shadow: 0 1px 2px rgba(60, 64, 67, 0.3), 0 1px 3px 1px rgba(60, 64, 67, 0.15);\n",
              "    fill: var(--button-hover-fill-color);\n",
              "  }\n",
              "\n",
              "  .colab-df-quickchart-complete:disabled,\n",
              "  .colab-df-quickchart-complete:disabled:hover {\n",
              "    background-color: var(--disabled-bg-color);\n",
              "    fill: var(--disabled-fill-color);\n",
              "    box-shadow: none;\n",
              "  }\n",
              "\n",
              "  .colab-df-spinner {\n",
              "    border: 2px solid var(--fill-color);\n",
              "    border-color: transparent;\n",
              "    border-bottom-color: var(--fill-color);\n",
              "    animation:\n",
              "      spin 1s steps(1) infinite;\n",
              "  }\n",
              "\n",
              "  @keyframes spin {\n",
              "    0% {\n",
              "      border-color: transparent;\n",
              "      border-bottom-color: var(--fill-color);\n",
              "      border-left-color: var(--fill-color);\n",
              "    }\n",
              "    20% {\n",
              "      border-color: transparent;\n",
              "      border-left-color: var(--fill-color);\n",
              "      border-top-color: var(--fill-color);\n",
              "    }\n",
              "    30% {\n",
              "      border-color: transparent;\n",
              "      border-left-color: var(--fill-color);\n",
              "      border-top-color: var(--fill-color);\n",
              "      border-right-color: var(--fill-color);\n",
              "    }\n",
              "    40% {\n",
              "      border-color: transparent;\n",
              "      border-right-color: var(--fill-color);\n",
              "      border-top-color: var(--fill-color);\n",
              "    }\n",
              "    60% {\n",
              "      border-color: transparent;\n",
              "      border-right-color: var(--fill-color);\n",
              "    }\n",
              "    80% {\n",
              "      border-color: transparent;\n",
              "      border-right-color: var(--fill-color);\n",
              "      border-bottom-color: var(--fill-color);\n",
              "    }\n",
              "    90% {\n",
              "      border-color: transparent;\n",
              "      border-bottom-color: var(--fill-color);\n",
              "    }\n",
              "  }\n",
              "</style>\n",
              "\n",
              "  <script>\n",
              "    async function quickchart(key) {\n",
              "      const quickchartButtonEl =\n",
              "        document.querySelector('#' + key + ' button');\n",
              "      quickchartButtonEl.disabled = true;  // To prevent multiple clicks.\n",
              "      quickchartButtonEl.classList.add('colab-df-spinner');\n",
              "      try {\n",
              "        const charts = await google.colab.kernel.invokeFunction(\n",
              "            'suggestCharts', [key], {});\n",
              "      } catch (error) {\n",
              "        console.error('Error during call to suggestCharts:', error);\n",
              "      }\n",
              "      quickchartButtonEl.classList.remove('colab-df-spinner');\n",
              "      quickchartButtonEl.classList.add('colab-df-quickchart-complete');\n",
              "    }\n",
              "    (() => {\n",
              "      let quickchartButtonEl =\n",
              "        document.querySelector('#df-b4d6dece-3f51-4855-a862-24db30ae5718 button');\n",
              "      quickchartButtonEl.style.display =\n",
              "        google.colab.kernel.accessAllowed ? 'block' : 'none';\n",
              "    })();\n",
              "  </script>\n",
              "</div>\n",
              "\n",
              "    </div>\n",
              "  </div>\n"
            ],
            "application/vnd.google.colaboratory.intrinsic+json": {
              "type": "dataframe",
              "summary": "{\n  \"name\": \"df\",\n  \"rows\": 8,\n  \"fields\": [\n    {\n      \"column\": \"sample_rate\",\n      \"properties\": {\n        \"dtype\": \"number\",\n        \"std\": 5952.190473142759,\n        \"min\": 0.0,\n        \"max\": 16000.0,\n        \"num_unique_values\": 3,\n        \"samples\": [\n          8000.0,\n          16000.0,\n          0.0\n        ],\n        \"semantic_type\": \"\",\n        \"description\": \"\"\n      }\n    },\n    {\n      \"column\": \"duration\",\n      \"properties\": {\n        \"dtype\": \"number\",\n        \"std\": 2828.1507784580403,\n        \"min\": 0.06142551465568254,\n        \"max\": 8000.0,\n        \"num_unique_values\": 5,\n        \"samples\": [\n          0.9837025156249999,\n          1.0,\n          0.06142551465568254\n        ],\n        \"semantic_type\": \"\",\n        \"description\": \"\"\n      }\n    },\n    {\n      \"column\": \"label\",\n      \"properties\": {\n        \"dtype\": \"number\",\n        \"std\": 2827.2515351783513,\n        \"min\": 0.0,\n        \"max\": 8000.0,\n        \"num_unique_values\": 7,\n        \"samples\": [\n          8000.0,\n          3.5,\n          5.25\n        ],\n        \"semantic_type\": \"\",\n        \"description\": \"\"\n      }\n    }\n  ]\n}"
            }
          },
          "metadata": {},
          "execution_count": 8
        }
      ]
    },
    {
      "cell_type": "code",
      "source": [
        "def compute_mfcc(audio, sample_rate, n_mfcc=13):\n",
        "    audio = audio.copy()\n",
        "    audio[np.isnan(audio)] = 0.0\n",
        "    audio[np.isinf(audio)] = 0.0\n",
        "    mfccs = librosa.feature.mfcc(y=audio, sr=sample_rate, n_mfcc=n_mfcc)\n",
        "    return mfccs.T\n",
        "\n",
        "def get_spectrogram(waveform):\n",
        "    # Convert the waveform to a spectrogram via a STFT.\n",
        "    spectrogram = tf.signal.stft(\n",
        "        waveform, frame_length=255, frame_step=128)\n",
        "    # Obtain the magnitude of the STFT.\n",
        "    spectrogram = tf.abs(spectrogram)\n",
        "    # Add a `channels` dimension, so that the spectrogram can be used\n",
        "    # as image-like input data with convolution layers (which expect\n",
        "    # shape (`batch_size`, `height`, `width`, `channels`).\n",
        "    spectrogram = spectrogram[..., tf.newaxis]\n",
        "    return spectrogram\n",
        "\n",
        "def process_audio(audio_path,target_length):\n",
        "    with wave.open(audio_path, 'rb') as wav_file:\n",
        "        frames = wav_file.readframes(-1)\n",
        "        num_channels = wav_file.getnchannels()\n",
        "\n",
        "        numpy_array = np.frombuffer(frames, dtype=np.float32)\n",
        "        # numpy_array = np.frombuffer(frames, dtype=np.int16)\n",
        "\n",
        "        if num_channels == 2:\n",
        "            numpy_array = numpy_array.reshape(-1, 2)\n",
        "\n",
        "        if len(numpy_array) < target_length:\n",
        "            padding_length = target_length - len(numpy_array)\n",
        "            if num_channels == 2:\n",
        "                numpy_array = np.pad(numpy_array, ((0, padding_length), (0, 0)), 'constant')\n",
        "            else:\n",
        "                numpy_array = np.pad(numpy_array, (0, padding_length), 'constant')\n",
        "\n",
        "        elif len(numpy_array) > target_length:\n",
        "            numpy_array = numpy_array[:target_length]\n",
        "\n",
        "        # mfcc = compute_mfcc(numpy_array,target_length)\n",
        "\n",
        "        return numpy_array.reshape((target_length,1))"
      ],
      "metadata": {
        "id": "vA81DDszjx9i"
      },
      "execution_count": 9,
      "outputs": []
    },
    {
      "cell_type": "code",
      "source": [
        "def audio_file_to_spectrogram(audio_path, target_length=16000):\n",
        "\n",
        "    with wave.open(audio_path, 'rb') as wav_file:\n",
        "        frames = wav_file.readframes(-1)\n",
        "        audio_array = np.frombuffer(frames, dtype=np.int16)\n",
        "\n",
        "        if len(audio_array) < target_length:\n",
        "            padding_length = target_length - len(audio_array)\n",
        "            audio_array = np.pad(audio_array, (0, padding_length), 'constant')\n",
        "        elif len(audio_array) > target_length:\n",
        "            audio_array = audio_array[:target_length]\n",
        "\n",
        "        _,_, spectrogram = signal.spectrogram(audio_array, fs=wav_file.getframerate())\n",
        "\n",
        "        return spectrogram"
      ],
      "metadata": {
        "id": "xFWEnCLxjzZI"
      },
      "execution_count": 10,
      "outputs": []
    },
    {
      "cell_type": "code",
      "source": [
        "class DataSequence(tf.keras.utils.Sequence):\n",
        "\n",
        "    def __init__(self,data,batch_size=32,target_length=44100):\n",
        "        self.data = data\n",
        "        self.batch_size = batch_size\n",
        "        self.target_length = target_length\n",
        "\n",
        "    def __len__(self):\n",
        "        return int(np.ceil(len(self.data) / self.batch_size))\n",
        "\n",
        "    def __getitem__(self,idx):\n",
        "        batch = self.data[idx * self.batch_size : (idx + 1) * self.batch_size]\n",
        "        return self.data_gen(batch)\n",
        "\n",
        "    def data_gen(self,data):\n",
        "        audios,labels = list(),list()\n",
        "        for audio,label in data:\n",
        "            aud = audio_file_to_spectrogram(audio,self.target_length)\n",
        "            audios.append(aud)\n",
        "            labels.append(label)\n",
        "        return np.array(audios),np.array(labels)"
      ],
      "metadata": {
        "id": "VYF6Y377j03v"
      },
      "execution_count": 11,
      "outputs": []
    },
    {
      "cell_type": "code",
      "source": [
        "train_ratio = 0.7\n",
        "val_ratio = 0.1\n",
        "total_examples = len(data)\n",
        "train_size = round(total_examples * train_ratio)\n",
        "val_size = round(total_examples * val_ratio)\n",
        "train_examples = data[:train_size]\n",
        "val_examples = data[train_size:train_size+val_size]\n",
        "test_examples = data[train_size+val_size:]"
      ],
      "metadata": {
        "id": "N3ObY2r3j2TO"
      },
      "execution_count": 12,
      "outputs": []
    },
    {
      "cell_type": "code",
      "source": [
        "batch_size = 32\n",
        "sample_rate = 16000\n",
        "train_data = DataSequence(train_examples,batch_size,sample_rate)\n",
        "test_data = DataSequence(test_examples,1,sample_rate)\n",
        "eval_data = DataSequence(val_examples,batch_size,sample_rate)"
      ],
      "metadata": {
        "id": "_5Y9FwpWj3X3"
      },
      "execution_count": 59,
      "outputs": []
    },
    {
      "cell_type": "code",
      "source": [
        "input_shape = (*train_data[0][0].shape[1:],1)\n",
        "input_shape"
      ],
      "metadata": {
        "colab": {
          "base_uri": "https://localhost:8080/"
        },
        "id": "tc0D0yzOj5cZ",
        "outputId": "ebd7d8de-b6c3-473a-afa7-24b6a2c2a0ad"
      },
      "execution_count": 14,
      "outputs": [
        {
          "output_type": "execute_result",
          "data": {
            "text/plain": [
              "(129, 71, 1)"
            ]
          },
          "metadata": {},
          "execution_count": 14
        }
      ]
    },
    {
      "cell_type": "code",
      "source": [
        "# model = tf.keras.Sequential([\n",
        "#     tf.keras.layers.InputLayer(input_shape=list(train_data[1][0].shape[1:])),\n",
        "\n",
        "#     tf.keras.layers.Conv1D(32,3),\n",
        "#     tf.keras.layers.Activation('relu'),\n",
        "#     tf.keras.layers.Conv1D(32,3),\n",
        "#     tf.keras.layers.Activation('relu'),\n",
        "#     tf.keras.layers.Conv1D(64,3),\n",
        "#     tf.keras.layers.Activation('relu'),\n",
        "#     tf.keras.layers.MaxPooling1D(),\n",
        "#     tf.keras.layers.Dropout(0.25),\n",
        "#     tf.keras.layers.Flatten(),\n",
        "#     tf.keras.layers.Dense(512),\n",
        "#     tf.keras.layers.Activation('relu'),\n",
        "#     tf.keras.layers.Dense(128),\n",
        "#     tf.keras.layers.Activation('relu'),\n",
        "#     tf.keras.layers.Dense(64),\n",
        "#     tf.keras.layers.Activation('relu'),\n",
        "#     tf.keras.layers.Dropout(0.5),\n",
        "\n",
        "#     tf.keras.layers.Dense(len(categories)),\n",
        "#     tf.keras.layers.Activation('softmax'),\n",
        "# ])\n",
        "# model.compile(\n",
        "#     optimizer=tf.keras.optimizers.Adam(),\n",
        "#     loss=tf.keras.losses.sparse_categorical_crossentropy,\n",
        "#     metrics=['accuracy']\n",
        "# )\n"
      ],
      "metadata": {
        "id": "_Qh0GT6hj6nI"
      },
      "execution_count": 15,
      "outputs": []
    },
    {
      "cell_type": "code",
      "source": [
        "def mobilnet_block(x,filters,strides):\n",
        "  x = tf.keras.layers.DepthwiseConv2D(kernel_size = 3, strides = strides, padding = 'same')(x)\n",
        "  x = tf.keras.layers.BatchNormalization()(x)\n",
        "  x = tf.keras.layers.ReLU()(x)\n",
        "  x = tf.keras.layers.Conv2D(filters = filters, kernel_size = 1, strides = 1)(x)\n",
        "  x = tf.keras.layers.BatchNormalization()(x)\n",
        "  x = tf.keras.layers.ReLU()(x)\n",
        "  return x\n",
        "\n",
        "_input = tf.keras.layers.Input(shape=input_shape)\n",
        "x = tf.keras.layers.Conv2D(filters = 32, kernel_size = 3, strides = 2, padding = 'same')(_input)\n",
        "x = tf.keras.layers.BatchNormalization()(x)\n",
        "x = tf.keras.layers.ReLU()(x)\n",
        "x = mobilnet_block(x, filters = 64, strides = 1)\n",
        "x = mobilnet_block(x, filters = 128, strides = 2)\n",
        "x = mobilnet_block(x, filters = 128, strides = 1)\n",
        "x = mobilnet_block(x, filters = 256, strides = 2)\n",
        "x = mobilnet_block(x, filters = 256, strides = 1)\n",
        "x = mobilnet_block(x, filters = 512, strides = 2)\n",
        "for _ in range (5):\n",
        "     x = mobilnet_block(x, filters = 512, strides = 1)\n",
        "x = mobilnet_block(x, filters = 1024, strides = 2)\n",
        "x = tf.keras.layers.Dropout(0.5)(x)\n",
        "x = mobilnet_block(x, filters = 1024, strides = 1)\n",
        "# x = tf.keras.layers.AvgPool2D(pool_size = 7, strides = 1, data_format='channels_first')(x)\n",
        "x = tf.keras.layers.Flatten()(x)\n",
        "output = tf.keras.layers.Dense(len(categories), activation = 'softmax', kernel_regularizer=tf.keras.regularizers.L2(l2=0.01))(x)\n",
        "model = tf.keras.Model(inputs=_input, outputs=output)\n",
        "\n",
        "model.compile(\n",
        "    optimizer=tf.keras.optimizers.Adam(),\n",
        "    loss=tf.keras.losses.sparse_categorical_crossentropy,\n",
        "    metrics=['accuracy']\n",
        ")"
      ],
      "metadata": {
        "id": "7LpD0IEpj8Js"
      },
      "execution_count": 16,
      "outputs": []
    },
    {
      "cell_type": "code",
      "source": [
        "model.summary()"
      ],
      "metadata": {
        "id": "tQxQDNgKj9aM"
      },
      "execution_count": null,
      "outputs": []
    },
    {
      "cell_type": "code",
      "source": [
        "with tf.device('gpu:0'):\n",
        "  history = model.fit(train_data,epochs=25,validation_data=eval_data,verbose=1)\n"
      ],
      "metadata": {
        "colab": {
          "base_uri": "https://localhost:8080/"
        },
        "id": "dbSFnteTj-lm",
        "outputId": "33b0905c-39cf-4a17-d8cc-edae1d67cc8b"
      },
      "execution_count": 18,
      "outputs": [
        {
          "output_type": "stream",
          "name": "stdout",
          "text": [
            "Epoch 1/25\n",
            "175/175 [==============================] - 35s 76ms/step - loss: 2.9107 - accuracy: 0.1843 - val_loss: 2.7003 - val_accuracy: 0.1200\n",
            "Epoch 2/25\n",
            "175/175 [==============================] - 11s 64ms/step - loss: 2.1688 - accuracy: 0.3154 - val_loss: 3.0680 - val_accuracy: 0.1275\n",
            "Epoch 3/25\n",
            "175/175 [==============================] - 9s 51ms/step - loss: 1.7127 - accuracy: 0.4461 - val_loss: 3.0136 - val_accuracy: 0.1200\n",
            "Epoch 4/25\n",
            "175/175 [==============================] - 9s 52ms/step - loss: 1.2930 - accuracy: 0.5752 - val_loss: 3.2235 - val_accuracy: 0.1775\n",
            "Epoch 5/25\n",
            "175/175 [==============================] - 9s 49ms/step - loss: 0.9610 - accuracy: 0.6970 - val_loss: 4.9321 - val_accuracy: 0.2375\n",
            "Epoch 6/25\n",
            "175/175 [==============================] - 8s 48ms/step - loss: 0.7367 - accuracy: 0.7677 - val_loss: 2.0216 - val_accuracy: 0.3950\n",
            "Epoch 7/25\n",
            "175/175 [==============================] - 8s 46ms/step - loss: 0.6118 - accuracy: 0.8084 - val_loss: 3.2104 - val_accuracy: 0.2612\n",
            "Epoch 8/25\n",
            "175/175 [==============================] - 9s 49ms/step - loss: 0.5106 - accuracy: 0.8393 - val_loss: 1.8703 - val_accuracy: 0.4050\n",
            "Epoch 9/25\n",
            "175/175 [==============================] - 8s 47ms/step - loss: 0.4204 - accuracy: 0.8696 - val_loss: 2.6255 - val_accuracy: 0.4137\n",
            "Epoch 10/25\n",
            "175/175 [==============================] - 9s 48ms/step - loss: 0.3713 - accuracy: 0.8880 - val_loss: 2.8568 - val_accuracy: 0.2937\n",
            "Epoch 11/25\n",
            "175/175 [==============================] - 9s 50ms/step - loss: 0.3325 - accuracy: 0.8948 - val_loss: 1.7384 - val_accuracy: 0.4800\n",
            "Epoch 12/25\n",
            "175/175 [==============================] - 9s 50ms/step - loss: 0.3157 - accuracy: 0.9045 - val_loss: 1.9793 - val_accuracy: 0.4563\n",
            "Epoch 13/25\n",
            "175/175 [==============================] - 8s 45ms/step - loss: 0.2542 - accuracy: 0.9254 - val_loss: 2.3759 - val_accuracy: 0.4375\n",
            "Epoch 14/25\n",
            "175/175 [==============================] - 9s 49ms/step - loss: 0.2676 - accuracy: 0.9196 - val_loss: 1.8880 - val_accuracy: 0.5600\n",
            "Epoch 15/25\n",
            "175/175 [==============================] - 9s 49ms/step - loss: 0.2218 - accuracy: 0.9361 - val_loss: 1.3110 - val_accuracy: 0.6413\n",
            "Epoch 16/25\n",
            "175/175 [==============================] - 8s 47ms/step - loss: 0.2344 - accuracy: 0.9314 - val_loss: 3.1848 - val_accuracy: 0.3013\n",
            "Epoch 17/25\n",
            "175/175 [==============================] - 9s 49ms/step - loss: 0.2421 - accuracy: 0.9291 - val_loss: 2.0526 - val_accuracy: 0.4125\n",
            "Epoch 18/25\n",
            "175/175 [==============================] - 8s 48ms/step - loss: 0.2040 - accuracy: 0.9418 - val_loss: 3.2479 - val_accuracy: 0.2488\n",
            "Epoch 19/25\n",
            "175/175 [==============================] - 8s 45ms/step - loss: 0.1551 - accuracy: 0.9571 - val_loss: 1.4115 - val_accuracy: 0.5938\n",
            "Epoch 20/25\n",
            "175/175 [==============================] - 9s 49ms/step - loss: 0.1918 - accuracy: 0.9461 - val_loss: 1.6552 - val_accuracy: 0.5975\n",
            "Epoch 21/25\n",
            "175/175 [==============================] - 9s 49ms/step - loss: 0.2097 - accuracy: 0.9423 - val_loss: 3.2347 - val_accuracy: 0.3088\n",
            "Epoch 22/25\n",
            "175/175 [==============================] - 8s 48ms/step - loss: 0.1553 - accuracy: 0.9554 - val_loss: 1.5154 - val_accuracy: 0.5500\n",
            "Epoch 23/25\n",
            "175/175 [==============================] - 8s 45ms/step - loss: 0.1404 - accuracy: 0.9616 - val_loss: 1.4005 - val_accuracy: 0.5925\n",
            "Epoch 24/25\n",
            "175/175 [==============================] - 9s 49ms/step - loss: 0.1259 - accuracy: 0.9638 - val_loss: 2.3974 - val_accuracy: 0.4412\n",
            "Epoch 25/25\n",
            "175/175 [==============================] - 8s 48ms/step - loss: 0.1520 - accuracy: 0.9586 - val_loss: 1.5020 - val_accuracy: 0.6150\n"
          ]
        }
      ]
    },
    {
      "cell_type": "code",
      "source": [
        "y_true = [i[0] for _,i in test_data]\n",
        "y_pred = [np.argmax(i) for i in model.predict(test_data)]"
      ],
      "metadata": {
        "colab": {
          "base_uri": "https://localhost:8080/"
        },
        "id": "BT5PCckCkAfH",
        "outputId": "c892b4fe-3c9a-4613-8e9a-fbd99c03e621"
      },
      "execution_count": 65,
      "outputs": [
        {
          "output_type": "stream",
          "name": "stdout",
          "text": [
            "1600/1600 [==============================] - 6s 4ms/step\n"
          ]
        }
      ]
    },
    {
      "cell_type": "code",
      "source": [
        "conf_mat = tf.math.confusion_matrix(y_true,y_pred)"
      ],
      "metadata": {
        "id": "YKk7nYAJkEd-"
      },
      "execution_count": 66,
      "outputs": []
    },
    {
      "cell_type": "code",
      "source": [
        "sns.heatmap(conf_mat)\n",
        "plt.show()"
      ],
      "metadata": {
        "colab": {
          "base_uri": "https://localhost:8080/",
          "height": 435
        },
        "id": "hDZ1oVbakFhT",
        "outputId": "7e43349f-ca3f-4894-af74-768ca7890d7f"
      },
      "execution_count": 21,
      "outputs": [
        {
          "output_type": "display_data",
          "data": {
            "text/plain": [
              "<Figure size 640x480 with 2 Axes>"
            ],
            "image/png": "[encoded data removed]"
          },
          "metadata": {}
        }
      ]
    },
    {
      "cell_type": "code",
      "source": [
        "print(classification_report(y_true,y_pred))"
      ],
      "metadata": {
        "colab": {
          "base_uri": "https://localhost:8080/"
        },
        "id": "F3pGn0hDvFmB",
        "outputId": "018c664c-7fce-4848-9358-6150e52b3ba7"
      },
      "execution_count": 74,
      "outputs": [
        {
          "output_type": "stream",
          "name": "stdout",
          "text": [
            "              precision    recall  f1-score   support\n",
            "\n",
            "           0       0.38      0.89      0.53       180\n",
            "           1       0.45      0.68      0.54       205\n",
            "           2       0.76      0.59      0.66       197\n",
            "           3       0.59      0.44      0.51       201\n",
            "           4       0.72      0.63      0.67       192\n",
            "           5       0.62      0.73      0.67       202\n",
            "           6       0.88      0.31      0.46       206\n",
            "           7       0.99      0.41      0.58       217\n",
            "\n",
            "    accuracy                           0.58      1600\n",
            "   macro avg       0.67      0.59      0.58      1600\n",
            "weighted avg       0.68      0.58      0.58      1600\n",
            "\n"
          ]
        }
      ]
    },
    {
      "cell_type": "code",
      "source": [
        "model.save('classifier.keras')\n",
        "from google.colab import files\n",
        "files.download('classifier.keras')"
      ],
      "metadata": {
        "colab": {
          "base_uri": "https://localhost:8080/",
          "height": 17
        },
        "id": "vs_IQmZ7kHdG",
        "outputId": "9efc5b9f-3a48-4f7d-86de-de7dcb97d702"
      },
      "execution_count": 23,
      "outputs": [
        {
          "output_type": "display_data",
          "data": {
            "text/plain": [
              "<IPython.core.display.Javascript object>"
            ],
            "application/javascript": [
              "\n",
              "    async function download(id, filename, size) {\n",
              "      if (!google.colab.kernel.accessAllowed) {\n",
              "        return;\n",
              "      }\n",
              "      const div = document.createElement('div');\n",
              "      const label = document.createElement('label');\n",
              "      label.textContent = `Downloading \"${filename}\": `;\n",
              "      div.appendChild(label);\n",
              "      const progress = document.createElement('progress');\n",
              "      progress.max = size;\n",
              "      div.appendChild(progress);\n",
              "      document.body.appendChild(div);\n",
              "\n",
              "      const buffers = [];\n",
              "      let downloaded = 0;\n",
              "\n",
              "      const channel = await google.colab.kernel.comms.open(id);\n",
              "      // Send a message to notify the kernel that we're ready.\n",
              "      channel.send({})\n",
              "\n",
              "      for await (const message of channel.messages) {\n",
              "        // Send a message to notify the kernel that we're ready.\n",
              "        channel.send({})\n",
              "        if (message.buffers) {\n",
              "          for (const buffer of message.buffers) {\n",
              "            buffers.push(buffer);\n",
              "            downloaded += buffer.byteLength;\n",
              "            progress.value = downloaded;\n",
              "          }\n",
              "        }\n",
              "      }\n",
              "      const blob = new Blob(buffers, {type: 'application/binary'});\n",
              "      const a = document.createElement('a');\n",
              "      a.href = window.URL.createObjectURL(blob);\n",
              "      a.download = filename;\n",
              "      div.appendChild(a);\n",
              "      a.click();\n",
              "      div.remove();\n",
              "    }\n",
              "  "
            ]
          },
          "metadata": {}
        },
        {
          "output_type": "display_data",
          "data": {
            "text/plain": [
              "<IPython.core.display.Javascript object>"
            ],
            "application/javascript": [
              "download(\"download_da9fe20f-5369-4940-be49-1d0c00013675\", \"classifier.keras\", 40542155)"
            ]
          },
          "metadata": {}
        }
      ]
    },
    {
      "cell_type": "code",
      "source": [
        "converter = tf.lite.TFLiteConverter.from_keras_model(model)\n",
        "converter.optimizations = [tf.lite.Optimize.DEFAULT]\n",
        "tflite_model = converter.convert()"
      ],
      "metadata": {
        "id": "fEXPXgEAkLeZ"
      },
      "execution_count": 76,
      "outputs": []
    },
    {
      "cell_type": "code",
      "source": [
        "with open(\"converted_model.tflite\", \"wb\") as f:\n",
        "  f.write(tflite_model)\n",
        "\n",
        "files.download('converted_model.tflite')"
      ],
      "metadata": {
        "colab": {
          "base_uri": "https://localhost:8080/",
          "height": 17
        },
        "id": "oz6LSIvco57T",
        "outputId": "79d5dfa0-39fd-41c0-b28e-a1e344a806a0"
      },
      "execution_count": 77,
      "outputs": [
        {
          "output_type": "display_data",
          "data": {
            "text/plain": [
              "<IPython.core.display.Javascript object>"
            ],
            "application/javascript": [
              "\n",
              "    async function download(id, filename, size) {\n",
              "      if (!google.colab.kernel.accessAllowed) {\n",
              "        return;\n",
              "      }\n",
              "      const div = document.createElement('div');\n",
              "      const label = document.createElement('label');\n",
              "      label.textContent = `Downloading \"${filename}\": `;\n",
              "      div.appendChild(label);\n",
              "      const progress = document.createElement('progress');\n",
              "      progress.max = size;\n",
              "      div.appendChild(progress);\n",
              "      document.body.appendChild(div);\n",
              "\n",
              "      const buffers = [];\n",
              "      let downloaded = 0;\n",
              "\n",
              "      const channel = await google.colab.kernel.comms.open(id);\n",
              "      // Send a message to notify the kernel that we're ready.\n",
              "      channel.send({})\n",
              "\n",
              "      for await (const message of channel.messages) {\n",
              "        // Send a message to notify the kernel that we're ready.\n",
              "        channel.send({})\n",
              "        if (message.buffers) {\n",
              "          for (const buffer of message.buffers) {\n",
              "            buffers.push(buffer);\n",
              "            downloaded += buffer.byteLength;\n",
              "            progress.value = downloaded;\n",
              "          }\n",
              "        }\n",
              "      }\n",
              "      const blob = new Blob(buffers, {type: 'application/binary'});\n",
              "      const a = document.createElement('a');\n",
              "      a.href = window.URL.createObjectURL(blob);\n",
              "      a.download = filename;\n",
              "      div.appendChild(a);\n",
              "      a.click();\n",
              "      div.remove();\n",
              "    }\n",
              "  "
            ]
          },
          "metadata": {}
        },
        {
          "output_type": "display_data",
          "data": {
            "text/plain": [
              "<IPython.core.display.Javascript object>"
            ],
            "application/javascript": [
              "download(\"download_42743779-2498-4ed3-9c87-fd09b6c54e27\", \"converted_model.tflite\", 3507712)"
            ]
          },
          "metadata": {}
        }
      ]
    },
    {
      "cell_type": "code",
      "source": [
        "interpreter = tf.lite.Interpreter(model_content=tflite_model)\n",
        "interpreter.allocate_tensors()"
      ],
      "metadata": {
        "id": "EGLcep1XpaKi"
      },
      "execution_count": 78,
      "outputs": []
    },
    {
      "cell_type": "code",
      "source": [
        "output_details = interpreter.get_output_details()[0]\n",
        "input_details = interpreter.get_input_details()[0]"
      ],
      "metadata": {
        "id": "P7gbgh95qNUu"
      },
      "execution_count": 79,
      "outputs": []
    },
    {
      "cell_type": "code",
      "source": [
        "input_details['shape']"
      ],
      "metadata": {
        "colab": {
          "base_uri": "https://localhost:8080/"
        },
        "id": "oKhWweg4tNko",
        "outputId": "bdeb556f-1526-4c2e-a430-a843f365979d"
      },
      "execution_count": 80,
      "outputs": [
        {
          "output_type": "execute_result",
          "data": {
            "text/plain": [
              "array([  1, 129,  71,   1], dtype=int32)"
            ]
          },
          "metadata": {},
          "execution_count": 80
        }
      ]
    },
    {
      "cell_type": "code",
      "source": [
        "y_pred_lite = list()\n",
        "for ar,_ in test_data:\n",
        "    input_data = ar.reshape(input_details['shape'])\n",
        "    interpreter.set_tensor(input_details['index'], input_data)\n",
        "    interpreter.invoke()\n",
        "    output_data = interpreter.get_tensor(output_details['index'])\n",
        "    y_pred_lite.append(np.argmax(output_data))"
      ],
      "metadata": {
        "id": "2dIlq9o3tlTk"
      },
      "execution_count": 81,
      "outputs": []
    },
    {
      "cell_type": "code",
      "source": [
        "conf_mat_lite = tf.math.confusion_matrix(y_true,y_pred_lite)"
      ],
      "metadata": {
        "id": "c2w-GvMrrG-0"
      },
      "execution_count": 82,
      "outputs": []
    },
    {
      "cell_type": "code",
      "source": [
        "sns.heatmap(conf_mat_lite)\n",
        "plt.show()"
      ],
      "metadata": {
        "colab": {
          "base_uri": "https://localhost:8080/",
          "height": 430
        },
        "id": "8O35cMgirZcT",
        "outputId": "1222198c-1f99-4507-dd39-136649f93c46"
      },
      "execution_count": 83,
      "outputs": [
        {
          "output_type": "display_data",
          "data": {
            "text/plain": [
              "<Figure size 640x480 with 2 Axes>"
            ],
            "image/png": "[encoded data removed]"
          },
          "metadata": {}
        }
      ]
    },
    {
      "cell_type": "code",
      "source": [
        "print(classification_report(y_true,y_pred_lite))"
      ],
      "metadata": {
        "colab": {
          "base_uri": "https://localhost:8080/"
        },
        "id": "ajnn3SVLs4dQ",
        "outputId": "91aa2853-2392-4d53-c56f-55ef3bde0dee"
      },
      "execution_count": 84,
      "outputs": [
        {
          "output_type": "stream",
          "name": "stdout",
          "text": [
            "              precision    recall  f1-score   support\n",
            "\n",
            "           0       0.38      0.87      0.53       180\n",
            "           1       0.46      0.68      0.55       205\n",
            "           2       0.76      0.59      0.66       197\n",
            "           3       0.60      0.47      0.53       201\n",
            "           4       0.71      0.63      0.67       192\n",
            "           5       0.63      0.73      0.68       202\n",
            "           6       0.85      0.32      0.46       206\n",
            "           7       0.99      0.42      0.59       217\n",
            "\n",
            "    accuracy                           0.58      1600\n",
            "   macro avg       0.67      0.59      0.58      1600\n",
            "weighted avg       0.68      0.58      0.58      1600\n",
            "\n"
          ]
        }
      ]
    },
    {
      "cell_type": "code",
      "source": [
        "print(\"Float model in Mb:\", os.path.getsize('classifier.keras') / float(2**20))\n",
        "print(\"Quantized model in Mb:\", os.path.getsize('converted_model.tflite') / float(2**20))\n"
      ],
      "metadata": {
        "colab": {
          "base_uri": "https://localhost:8080/"
        },
        "id": "Gb3r_zyhxYyg",
        "outputId": "b3c48d9d-3446-4741-cc50-e82308b2fee4"
      },
      "execution_count": 87,
      "outputs": [
        {
          "output_type": "stream",
          "name": "stdout",
          "text": [
            "Float model in Mb: 38.66401195526123\n",
            "Quantized model in Mb: 3.34521484375\n"
          ]
        }
      ]
    },
    {
      "cell_type": "code",
      "source": [],
      "metadata": {
        "id": "PmwFUrTKyK_V"
      },
      "execution_count": null,
      "outputs": []
    }
  ]
}