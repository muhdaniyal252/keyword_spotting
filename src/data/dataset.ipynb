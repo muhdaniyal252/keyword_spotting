{
 "cells": [
  {
   "cell_type": "code",
   "execution_count": 7,
   "id": "1aaeb944-165e-448d-8ef8-39903d1f6082",
   "metadata": {},
   "outputs": [],
   "source": [
    "import os\n",
    "import shutil\n",
    "import random\n",
    "import glob"
   ]
  },
  {
   "cell_type": "code",
   "execution_count": 28,
   "id": "2c9e46d0-d805-465e-b354-43fc9731925c",
   "metadata": {},
   "outputs": [],
   "source": [
    "keyword = 'adele'"
   ]
  },
  {
   "cell_type": "code",
   "execution_count": 29,
   "id": "0c5a6e50-a024-4edf-a929-a80569679f0c",
   "metadata": {},
   "outputs": [],
   "source": [
    "word_path = '/shareddrive/working/data_code/data/neg_data/spcmd/all_words/original/*'\n",
    "environment_path = '/shareddrive/working/data_code/data/neg_data/envornment/chunks/1s_chunks/*'\n",
    "noise_path = '/shareddrive/working/data_code/data/neg_data/_background_noise_/chunks/1s_chunks/*'\n",
    "recording_path = '/shareddrive/working/data_code/data/neg_data/internet_recordings/chunks/1s_chunks/*'\n",
    "aug_recording_path = '/shareddrive/working/data_code/data/neg_data/internet_recordings/chunks/1s_chunks_aug/*'"
   ]
  },
  {
   "cell_type": "code",
   "execution_count": 30,
   "id": "116a636b-1dbc-44e7-b9ae-d683501c23ff",
   "metadata": {},
   "outputs": [],
   "source": [
    "keyword_path = f'/shareddrive/working/data_code/data/{keyword}/augmented/*'\n",
    "keyword_folders = glob.glob(keyword_path)\n",
    "keyword_files = [j for i in keyword_folders for j in glob.glob(f'{i}/*')]"
   ]
  },
  {
   "cell_type": "code",
   "execution_count": 31,
   "id": "50a78247-6359-4db1-976d-45975e332186",
   "metadata": {},
   "outputs": [],
   "source": [
    "unknown_files = list()\n",
    "avg_files = int(len(keyword_files)/8)"
   ]
  },
  {
   "cell_type": "code",
   "execution_count": 32,
   "id": "fff0af86-96be-4fd0-b8e1-02d77aedbf9d",
   "metadata": {},
   "outputs": [
    {
     "data": {
      "text/plain": [
       "(1109, 660, 64721, 7511, 14483)"
      ]
     },
     "execution_count": 32,
     "metadata": {},
     "output_type": "execute_result"
    }
   ],
   "source": [
    "word_files = glob.glob(word_path)\n",
    "environment_files = glob.glob(environment_path)\n",
    "noise_files = glob.glob(noise_path)\n",
    "recording_files = glob.glob(recording_path)\n",
    "aug_recording_files = glob.glob(aug_recording_path)\n",
    "len(environment_files),len(noise_files),len(word_files),len(recording_files),len(aug_recording_files)"
   ]
  },
  {
   "cell_type": "code",
   "execution_count": 33,
   "id": "8b5452d7-ccc3-4bbc-9aae-1744fa23ab4d",
   "metadata": {},
   "outputs": [],
   "source": [
    "unknown_files.extend(random.sample(aug_recording_files,int(avg_files*1.8)))\n",
    "unknown_files.extend(recording_files)\n",
    "# file_path_and_labels.extend([(i,0) for i in aug_recording_files])\n",
    "unknown_files.extend(random.sample(word_files,avg_files))\n",
    "unknown_files.extend(noise_files)\n",
    "unknown_files.extend(environment_files)\n",
    "random.shuffle(unknown_files)"
   ]
  },
  {
   "cell_type": "code",
   "execution_count": 34,
   "id": "efb507be-5232-4060-8dca-bf0e1a75d3ec",
   "metadata": {},
   "outputs": [
    {
     "data": {
      "text/plain": [
       "(14250,\n",
       " 14266,\n",
       " ['/shareddrive/working/data_code/data/neg_data/spcmd/all_words/original/three_1543.wav',\n",
       "  '/shareddrive/working/data_code/data/neg_data/envornment/chunks/1s_chunks/env_668.wav',\n",
       "  '/shareddrive/working/data_code/data/neg_data/internet_recordings/chunks/1s_chunks/967f0bbc017315.wav'],\n",
       " ['/shareddrive/working/data_code/data/adele/augmented/band_pass/bp_Adele_0.wav',\n",
       "  '/shareddrive/working/data_code/data/adele/augmented/band_pass/bp_Adele_1.wav',\n",
       "  '/shareddrive/working/data_code/data/adele/augmented/band_pass/bp_Adele_10.wav'])"
      ]
     },
     "execution_count": 34,
     "metadata": {},
     "output_type": "execute_result"
    }
   ],
   "source": [
    "len(keyword_files),len(unknown_files),unknown_files[:3],keyword_files[:3]"
   ]
  },
  {
   "cell_type": "code",
   "execution_count": 35,
   "id": "67775be0-79ad-495f-93cb-3fc6321d0ef2",
   "metadata": {},
   "outputs": [],
   "source": [
    "base_dir = '/shareddrive/working/keyword_spotting/data'"
   ]
  },
  {
   "cell_type": "code",
   "execution_count": 36,
   "id": "1aa846ec-5e9d-4d77-b333-3308624da3c9",
   "metadata": {},
   "outputs": [],
   "source": [
    "test_split = 0.1\n",
    "validation_split = 0.1\n",
    "training_split = 1 - (test_split + validation_split)\n",
    "\n",
    "# Folder names\n",
    "main_folders = ['training', 'testing', 'validation']\n",
    "subfolders = [keyword, 'unknown']\n"
   ]
  },
  {
   "cell_type": "code",
   "execution_count": 37,
   "id": "84464d97-f9f4-4280-ac8a-86424a4b537c",
   "metadata": {},
   "outputs": [],
   "source": [
    "for folder in main_folders:\n",
    "    for subfolder in subfolders:\n",
    "        os.makedirs(os.path.join(base_dir, folder, subfolder), exist_ok=True)\n"
   ]
  },
  {
   "cell_type": "code",
   "execution_count": 38,
   "id": "ff4f3c7b-4720-43ef-abab-a37891d08d23",
   "metadata": {},
   "outputs": [],
   "source": [
    "def distribute_files(files, folder_name):\n",
    "    random.shuffle(files)  # Shuffle to ensure randomness\n",
    "\n",
    "    # Determine number of files per split\n",
    "    test_count = int(len(files) * test_split)\n",
    "    validation_count = int(len(files) * validation_split)\n",
    "    training_count = len(files) - test_count - validation_count\n",
    "\n",
    "    # Split files into training, testing, and validation\n",
    "    test_files = files[:test_count]\n",
    "    validation_files = files[test_count:test_count + validation_count]\n",
    "    training_files = files[test_count + validation_count:]\n",
    "\n",
    "    # Move files to respective folders in the base directory\n",
    "    for file in test_files:\n",
    "        shutil.copy2(file, os.path.join(base_dir, 'testing', folder_name, os.path.basename(file)))\n",
    "    for file in validation_files:\n",
    "        shutil.copy2(file, os.path.join(base_dir, 'validation', folder_name, os.path.basename(file)))\n",
    "    for file in training_files:\n",
    "        shutil.copy2(file, os.path.join(base_dir, 'training', folder_name, os.path.basename(file)))"
   ]
  },
  {
   "cell_type": "code",
   "execution_count": 39,
   "id": "0ecd8966-ef8f-45a5-b8fe-0a7bde378560",
   "metadata": {},
   "outputs": [],
   "source": [
    "distribute_files(keyword_files, keyword)\n",
    "distribute_files(unknown_files, 'unknown')\n"
   ]
  },
  {
   "cell_type": "code",
   "execution_count": null,
   "id": "ba81ff83-4284-4e54-992b-a670723c6f4f",
   "metadata": {},
   "outputs": [],
   "source": []
  }
 ],
 "metadata": {
  "kernelspec": {
   "display_name": "Python 3 (ipykernel)",
   "language": "python",
   "name": "python3"
  },
  "language_info": {
   "codemirror_mode": {
    "name": "ipython",
    "version": 3
   },
   "file_extension": ".py",
   "mimetype": "text/x-python",
   "name": "python",
   "nbconvert_exporter": "python",
   "pygments_lexer": "ipython3",
   "version": "3.10.12"
  }
 },
 "nbformat": 4,
 "nbformat_minor": 5
}
