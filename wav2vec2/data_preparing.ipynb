{
 "cells": [
  {
   "cell_type": "code",
   "execution_count": 21,
   "metadata": {},
   "outputs": [],
   "source": [
    "import glob\n",
    "import random\n",
    "import pandas as pd"
   ]
  },
  {
   "cell_type": "code",
   "execution_count": 12,
   "metadata": {},
   "outputs": [],
   "source": [
    "adele_path = r'D:\\data_code\\data\\adele\\processed\\3\\3s_audios/*'\n",
    "hilfe_hilfe_path = r'D:\\data_code\\data\\hilfe_hilfe\\processed\\3\\3s_audios/*'\n",
    "noise_path = r'D:\\data_code\\data\\neg_data\\_background_noise_\\chunks\\3s_chunks/*'\n",
    "silence_path = r'D:\\data_code\\data\\neg_data\\silence\\chunks\\3s_chunks/*'\n",
    "word_path = r'D:\\data_code\\data\\neg_data\\speech_command\\all_words\\3_seconds/*'"
   ]
  },
  {
   "cell_type": "code",
   "execution_count": 13,
   "metadata": {},
   "outputs": [],
   "source": [
    "adele_folder = [f'{i}/*' for i in glob.glob(adele_path)]\n",
    "hilfe_hilfe_folder = [f'{i}/*' for i in glob.glob(hilfe_hilfe_path)]"
   ]
  },
  {
   "cell_type": "code",
   "execution_count": 14,
   "metadata": {},
   "outputs": [],
   "source": [
    "adele_files = [j for i in adele_folder for j in glob.glob(i)]\n",
    "hilfe_hilfe_files = [j for i in hilfe_hilfe_folder for j in glob.glob(i)]"
   ]
  },
  {
   "cell_type": "code",
   "execution_count": 15,
   "metadata": {},
   "outputs": [],
   "source": [
    "word_files = glob.glob(word_path)\n",
    "silence_files = glob.glob(silence_path)\n",
    "noise_files = glob.glob(noise_path)"
   ]
  },
  {
   "cell_type": "code",
   "execution_count": 19,
   "metadata": {},
   "outputs": [
    {
     "data": {
      "text/plain": [
       "(67830, 20, 220)"
      ]
     },
     "execution_count": 19,
     "metadata": {},
     "output_type": "execute_result"
    }
   ],
   "source": [
    "len(word_files),len(silence_files),len(noise_files)"
   ]
  },
  {
   "cell_type": "code",
   "execution_count": 20,
   "metadata": {},
   "outputs": [],
   "source": [
    "file_path_and_labels = list()\n",
    "file_path_and_labels.extend([(i,1,'adele') for i in random.sample(adele_files,2500)])\n",
    "file_path_and_labels.extend([(i,2,'hilfe_hilfe') for i in random.sample(hilfe_hilfe_files,2500)])\n",
    "file_path_and_labels.extend([(i,0,'unknown') for i in random.sample(word_files,2500-len(silence_files)-len(noise_files))])\n",
    "file_path_and_labels.extend([(i,0,'unknown') for i in noise_files])\n",
    "file_path_and_labels.extend([(i,0,'unknown') for i in silence_files])\n",
    "random.shuffle(file_path_and_labels)"
   ]
  },
  {
   "cell_type": "code",
   "execution_count": 22,
   "metadata": {},
   "outputs": [
    {
     "ename": "",
     "evalue": "",
     "output_type": "error",
     "traceback": [
      "\u001b[1;31mThe Kernel crashed while executing code in the current cell or a previous cell. \n",
      "\u001b[1;31mPlease review the code in the cell(s) to identify a possible cause of the failure. \n",
      "\u001b[1;31mClick <a href='https://aka.ms/vscodeJupyterKernelCrash'>here</a> for more info. \n",
      "\u001b[1;31mView Jupyter <a href='command:jupyter.viewOutput'>log</a> for further details."
     ]
    }
   ],
   "source": [
    "df = pd.DataFrame(file_path_and_labels,columns=['path','label','class'])\n",
    "df.to_csv('wav2vec_ds.csv',index=False)"
   ]
  },
  {
   "cell_type": "code",
   "execution_count": 12,
   "metadata": {},
   "outputs": [
    {
     "data": {
      "text/plain": [
       "[99, 98, 97, 96, 95, 94, 93, 92, 91, 90, 89, 88, 87, 86, 85]"
      ]
     },
     "execution_count": 12,
     "metadata": {},
     "output_type": "execute_result"
    }
   ],
   "source": [
    "list(range(100))[-15:][::-1]"
   ]
  }
 ],
 "metadata": {
  "kernelspec": {
   "display_name": "kws",
   "language": "python",
   "name": "python3"
  },
  "language_info": {
   "codemirror_mode": {
    "name": "ipython",
    "version": 3
   },
   "file_extension": ".py",
   "mimetype": "text/x-python",
   "name": "python",
   "nbconvert_exporter": "python",
   "pygments_lexer": "ipython3",
   "version": "3.12.3"
  }
 },
 "nbformat": 4,
 "nbformat_minor": 2
}
