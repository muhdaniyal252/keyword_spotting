{
 "cells": [
  {
   "cell_type": "code",
   "execution_count": 21,
   "metadata": {},
   "outputs": [],
   "source": [
    "import glob\n",
    "import random\n",
    "import pandas as pd"
   ]
  },
  {
   "cell_type": "code",
   "execution_count": null,
   "metadata": {},
   "outputs": [],
   "source": [
    "adele_path = ''\n",
    "adele_folders = glob.glob(adele_path)\n",
    "adele_files = [j for i in adele_folders for j in glob.glob(i)]"
   ]
  },
  {
   "cell_type": "code",
   "execution_count": null,
   "metadata": {},
   "outputs": [],
   "source": [
    "hilfe_path = ''\n",
    "hilfe_folders = glob.glob(hilfe_path)\n",
    "hilfe_files = [j for i in hilfe_folders for j in glob.glob(i)]"
   ]
  },
  {
   "cell_type": "code",
   "execution_count": 7,
   "metadata": {},
   "outputs": [],
   "source": [
    "noise_path = r'D:\\data_code\\data\\neg_data\\_background_noise_\\chunks\\3s_chunks/*'\n",
    "silence_path = r'D:\\data_code\\data\\neg_data\\silence\\chunks\\3s_chunks/*'\n",
    "word_path = r'D:\\data_code\\data\\neg_data\\speech_command\\all_words\\3_seconds/*'\n",
    "generated_path = ''\n",
    "word_files = glob.glob(word_path)\n",
    "silence_files = glob.glob(silence_path)\n",
    "noise_files = glob.glob(noise_path)\n",
    "generated_files = glob.glob(generated_path)"
   ]
  },
  {
   "cell_type": "code",
   "execution_count": 9,
   "metadata": {},
   "outputs": [],
   "source": [
    "file_path_and_labels = list()\n",
    "file_path_and_labels.extend([(i,1,'adele') for i in adele_files])\n",
    "file_path_and_labels.extend([(i,2,'hilfe') for i in hilfe_files])\n",
    "f = (len(adele_files)+len(hilfe_files))//2\n",
    "file_path_and_labels.extend([(i,0,'unknown') for i in random.sample(word_files,f)])\n",
    "file_path_and_labels.extend([(i,0,'unknown') for i in noise_files])\n",
    "file_path_and_labels.extend([(i,0,'unknown') for i in silence_files])\n",
    "file_path_and_labels.extend([(i,0,'unknown') for i in generated_files])\n",
    "random.shuffle(file_path_and_labels)\n",
    "df = pd.DataFrame(file_path_and_labels,columns=['path','label','class'])\n",
    "df.to_csv('dataset.csv',index=False)"
   ]
  }
 ],
 "metadata": {
  "kernelspec": {
   "display_name": "kws",
   "language": "python",
   "name": "python3"
  },
  "language_info": {
   "codemirror_mode": {
    "name": "ipython",
    "version": 3
   },
   "file_extension": ".py",
   "mimetype": "text/x-python",
   "name": "python",
   "nbconvert_exporter": "python",
   "pygments_lexer": "ipython3",
   "version": "3.12.3"
  }
 },
 "nbformat": 4,
 "nbformat_minor": 2
}
