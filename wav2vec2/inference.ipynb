{
 "cells": [
  {
   "cell_type": "code",
   "execution_count": 1,
   "metadata": {},
   "outputs": [],
   "source": [
    "from transformers import pipeline\n",
    "import librosa\n",
    "import sounddevice as sd"
   ]
  },
  {
   "cell_type": "code",
   "execution_count": 2,
   "metadata": {},
   "outputs": [],
   "source": [
    "model_pth = r'D:\\model_code\\server_models\\wav2vec2\\trial_2\\wav2vec2-finetune'"
   ]
  },
  {
   "cell_type": "code",
   "execution_count": 3,
   "metadata": {},
   "outputs": [
    {
     "name": "stdout",
     "output_type": "stream",
     "text": [
      "WARNING:tensorflow:From d:\\envs\\kws\\Lib\\site-packages\\tf_keras\\src\\losses.py:2976: The name tf.losses.sparse_softmax_cross_entropy is deprecated. Please use tf.compat.v1.losses.sparse_softmax_cross_entropy instead.\n",
      "\n"
     ]
    },
    {
     "name": "stderr",
     "output_type": "stream",
     "text": [
      "Some weights of the model checkpoint at D:\\model_code\\server_models\\wav2vec2\\trial_2\\wav2vec2-finetune were not used when initializing Wav2Vec2ForSequenceClassification: ['wav2vec2.encoder.pos_conv_embed.conv.weight_g', 'wav2vec2.encoder.pos_conv_embed.conv.weight_v']\n",
      "- This IS expected if you are initializing Wav2Vec2ForSequenceClassification from the checkpoint of a model trained on another task or with another architecture (e.g. initializing a BertForSequenceClassification model from a BertForPreTraining model).\n",
      "- This IS NOT expected if you are initializing Wav2Vec2ForSequenceClassification from the checkpoint of a model that you expect to be exactly identical (initializing a BertForSequenceClassification model from a BertForSequenceClassification model).\n",
      "Some weights of Wav2Vec2ForSequenceClassification were not initialized from the model checkpoint at D:\\model_code\\server_models\\wav2vec2\\trial_2\\wav2vec2-finetune and are newly initialized: ['wav2vec2.encoder.pos_conv_embed.conv.parametrizations.weight.original0', 'wav2vec2.encoder.pos_conv_embed.conv.parametrizations.weight.original1']\n",
      "You should probably TRAIN this model on a down-stream task to be able to use it for predictions and inference.\n"
     ]
    }
   ],
   "source": [
    "pipe = pipeline(\"audio-classification\", model=model_pth)"
   ]
  },
  {
   "cell_type": "code",
   "execution_count": 4,
   "metadata": {},
   "outputs": [],
   "source": [
    "def get_label(x):\n",
    "    y = None\n",
    "    mx_n = -1\n",
    "    for i in x:\n",
    "        if i['score'] > mx_n:\n",
    "            mx_n = i['score']\n",
    "            y = i['label']\n",
    "    return y, mx_n\n"
   ]
  },
  {
   "cell_type": "markdown",
   "metadata": {},
   "source": [
    "Inference"
   ]
  },
  {
   "cell_type": "code",
   "execution_count": 5,
   "metadata": {},
   "outputs": [],
   "source": [
    "fs = 44100\n",
    "sr = 16000\n",
    "buffer_duration = 2 # seconds\n",
    "buffer_size = buffer_duration * fs"
   ]
  },
  {
   "cell_type": "code",
   "execution_count": 33,
   "metadata": {},
   "outputs": [
    {
     "name": "stdout",
     "output_type": "stream",
     "text": [
      "  adele adele     hilfe hilfe adele      adele      adele  Stream stopped by user\n"
     ]
    }
   ],
   "source": [
    "while True:\n",
    "    try:\n",
    "        # print(\"Recording...\")\n",
    "        # Record audio for 2 seconds\n",
    "        buffer = sd.rec(buffer_size, channels=1, dtype='float32')\n",
    "        sd.wait()  # Wait until recording is finished\n",
    "        sd.play(buffer,fs)\n",
    "        sd.wait()  # Wait until recording is finished\n",
    "        # Process the recorded audio\n",
    "        y = buffer.squeeze()[fs:]\n",
    "        data = librosa.resample(y=y,orig_sr=fs,target_sr=sr)\n",
    "        l = get_label(pipe(data))\n",
    "        print(l or '',end=' ')\n",
    "        # break\n",
    "        # clear_output(wait=True)\n",
    "    except KeyboardInterrupt:\n",
    "        print(\"Stream stopped by user\")\n",
    "        break"
   ]
  },
  {
   "cell_type": "code",
   "execution_count": 6,
   "metadata": {},
   "outputs": [
    {
     "data": {
      "text/plain": [
       "([{'score': 0.5576029419898987, 'label': 'unknown'},\n",
       "  {'score': 0.391681432723999, 'label': 'hilfe'},\n",
       "  {'score': 0.05071566626429558, 'label': 'adele'}],\n",
       " 16000)"
      ]
     },
     "execution_count": 6,
     "metadata": {},
     "output_type": "execute_result"
    }
   ],
   "source": [
    "import librosa\n",
    "y,sr = librosa.load(r'D:\\model_code\\web_app\\static\\audios\\2024-07-16_20-24\\unknown\\58_unknown.wav',sr=None)\n",
    "pipe(y),sr"
   ]
  },
  {
   "cell_type": "code",
   "execution_count": null,
   "metadata": {},
   "outputs": [],
   "source": []
  }
 ],
 "metadata": {
  "kernelspec": {
   "display_name": "kws",
   "language": "python",
   "name": "python3"
  },
  "language_info": {
   "codemirror_mode": {
    "name": "ipython",
    "version": 3
   },
   "file_extension": ".py",
   "mimetype": "text/x-python",
   "name": "python",
   "nbconvert_exporter": "python",
   "pygments_lexer": "ipython3",
   "version": "3.12.3"
  }
 },
 "nbformat": 4,
 "nbformat_minor": 2
}
