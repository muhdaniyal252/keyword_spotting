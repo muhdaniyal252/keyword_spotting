{
 "cells": [
  {
   "cell_type": "code",
   "execution_count": 1,
   "metadata": {},
   "outputs": [],
   "source": [
    "from transformers import pipeline\n",
    "import librosa\n",
    "import sounddevice as sd"
   ]
  },
  {
   "cell_type": "code",
   "execution_count": 2,
   "metadata": {},
   "outputs": [],
   "source": [
    "model_pth = r\"D:\\model_code\\server_models\\wav2vec2\\trial_2\\adele\\wav2vec2-finetune\""
   ]
  },
  {
   "cell_type": "code",
   "execution_count": 3,
   "metadata": {},
   "outputs": [
    {
     "name": "stdout",
     "output_type": "stream",
     "text": [
      "WARNING:tensorflow:From d:\\envs\\kws\\Lib\\site-packages\\tf_keras\\src\\losses.py:2976: The name tf.losses.sparse_softmax_cross_entropy is deprecated. Please use tf.compat.v1.losses.sparse_softmax_cross_entropy instead.\n",
      "\n"
     ]
    }
   ],
   "source": [
    "pipe = pipeline(\"audio-classification\", model=model_pth)"
   ]
  },
  {
   "cell_type": "code",
   "execution_count": 4,
   "metadata": {},
   "outputs": [],
   "source": [
    "def get_label(x):\n",
    "    y = None\n",
    "    mx_n = -1\n",
    "    for i in x:\n",
    "        if i['score'] > mx_n:\n",
    "            mx_n = i['score']\n",
    "            y = i['label']\n",
    "    return y, mx_n\n",
    "    return y if mx_n > 0.99 and y != 'unknown' else None\n"
   ]
  },
  {
   "cell_type": "markdown",
   "metadata": {},
   "source": [
    "Inference"
   ]
  },
  {
   "cell_type": "code",
   "execution_count": 5,
   "metadata": {},
   "outputs": [],
   "source": [
    "sr = 16000\n",
    "fs = 44100\n",
    "buffer_duration = 2 # seconds\n",
    "buffer_size = buffer_duration * fs"
   ]
  },
  {
   "cell_type": "code",
   "execution_count": 6,
   "metadata": {},
   "outputs": [
    {
     "name": "stdout",
     "output_type": "stream",
     "text": [
      "('unknown', 0.9995005130767822) ('unknown', 0.9994996786117554) ('unknown', 0.9994950294494629) Stream stopped by user\n"
     ]
    }
   ],
   "source": [
    "while True:\n",
    "    try:\n",
    "        # print(\"Recording...\")\n",
    "        # Record audio for 2 seconds\n",
    "        buffer = sd.rec(buffer_size, channels=1, dtype='float32')\n",
    "        sd.wait()  # Wait until recording is finished\n",
    "        sd.play(buffer,fs)\n",
    "        sd.wait()  # Wait until recording is finished\n",
    "        # Process the recorded audio\n",
    "        y = buffer.squeeze()[fs:]\n",
    "        data = librosa.resample(y=y,orig_sr=fs,target_sr=sr)\n",
    "        l = get_label(pipe(data))\n",
    "        print(l or '',end=' ')\n",
    "        # break\n",
    "        # clear_output(wait=True)\n",
    "    except KeyboardInterrupt:\n",
    "        print(\"Stream stopped by user\")\n",
    "        break"
   ]
  },
  {
   "cell_type": "code",
   "execution_count": 12,
   "metadata": {},
   "outputs": [
    {
     "name": "stdout",
     "output_type": "stream",
     "text": [
      "0_adele.wav ('adele', 0.9990003705024719)\n",
      "10_adele.wav ('adele', 0.9950312376022339)\n",
      "14_adele.wav ('adele', 0.7823439836502075)\n",
      "1_adele.wav ('adele', 0.9868614077568054)\n",
      "9_adele.wav ('adele', 0.992116391658783)\n",
      "13_hilfe.wav ('adele', 0.9725024700164795)\n",
      "1_hilfe.wav ('adele', 0.8856857419013977)\n",
      "20_hilfe.wav ('adele', 0.7850538492202759)\n",
      "24_hilfe.wav ('adele', 0.9988188147544861)\n",
      "30_hilfe.wav ('adele', 0.9916595816612244)\n",
      "36_hilfe.wav ('adele', 0.9934617280960083)\n",
      "38_hilfe.wav ('adele', 0.7079593539237976)\n",
      "40_hilfe.wav ('adele', 0.6062816977500916)\n",
      "47_hilfe.wav ('adele', 0.9821916222572327)\n",
      "7_hilfe.wav ('adele', 0.9512498378753662)\n",
      "8_hilfe.wav ('adele', 0.9990257024765015)\n",
      "25_unknown.wav ('adele', 0.9958192110061646)\n",
      "312_unknown.wav ('adele', 0.9873260259628296)\n",
      "31_unknown.wav ('adele', 0.9736422896385193)\n",
      "398_unknown.wav ('adele', 0.9633371829986572)\n",
      "459_unknown.wav ('adele', 0.9533089995384216)\n",
      "500_unknown.wav ('adele', 0.9503385424613953)\n",
      "512_unknown.wav ('adele', 0.9753772020339966)\n",
      "521_unknown.wav ('adele', 0.9918606877326965)\n",
      "537_unknown.wav ('adele', 0.9628322124481201)\n",
      "559_unknown.wav ('adele', 0.9989185333251953)\n",
      "560_unknown.wav ('adele', 0.5562066435813904)\n",
      "565_unknown.wav ('adele', 0.5632801055908203)\n",
      "572_unknown.wav ('adele', 0.896025538444519)\n",
      "577_unknown.wav ('adele', 0.9972568154335022)\n",
      "600_unknown.wav ('adele', 0.9194009900093079)\n",
      "607_unknown.wav ('adele', 0.9669745564460754)\n",
      "633_unknown.wav ('adele', 0.9969879984855652)\n",
      "634_unknown.wav ('adele', 0.9944040775299072)\n",
      "657_unknown.wav ('adele', 0.9979686141014099)\n",
      "661_unknown.wav ('adele', 0.9574992656707764)\n",
      "672_unknown.wav ('adele', 0.990974485874176)\n",
      "687_unknown.wav ('adele', 0.7982414364814758)\n",
      "723_unknown.wav ('adele', 0.9712003469467163)\n",
      "7_unknown.wav ('adele', 0.9946426153182983)\n"
     ]
    }
   ],
   "source": [
    "import librosa\n",
    "import glob\n",
    "pth = r'D:\\keyword_spotting\\web_app\\static\\audios\\2024-07-29_19-19'\n",
    "files = [j for i in glob.glob(f'{pth}/*') for j in glob.glob(f'{i}/*')]\n",
    "for f in files:\n",
    "    y, sr = librosa.load(f, sr=None)\n",
    "    l = get_label(pipe(y))\n",
    "    if not l[0] == 'unknown':\n",
    "        print(f.replace('\\\\','/').split('/')[-1],l)"
   ]
  },
  {
   "cell_type": "code",
   "execution_count": null,
   "metadata": {},
   "outputs": [
    {
     "ename": "ModuleNotFoundError",
     "evalue": "No module named 'audiostream'",
     "output_type": "error",
     "traceback": [
      "\u001b[1;31m---------------------------------------------------------------------------\u001b[0m",
      "\u001b[1;31mModuleNotFoundError\u001b[0m                       Traceback (most recent call last)",
      "Cell \u001b[1;32mIn[1], line 1\u001b[0m\n\u001b[1;32m----> 1\u001b[0m \u001b[38;5;28;01mfrom\u001b[39;00m \u001b[38;5;21;01maudiostream\u001b[39;00m \u001b[38;5;28;01mimport\u001b[39;00m AudioStream, AudioInput\n\u001b[0;32m      2\u001b[0m \u001b[38;5;28;01mimport\u001b[39;00m \u001b[38;5;21;01mnumpy\u001b[39;00m \u001b[38;5;28;01mas\u001b[39;00m \u001b[38;5;21;01mnp\u001b[39;00m\n\u001b[0;32m      3\u001b[0m \u001b[38;5;28;01mfrom\u001b[39;00m \u001b[38;5;21;01mcollections\u001b[39;00m \u001b[38;5;28;01mimport\u001b[39;00m deque\n",
      "\u001b[1;31mModuleNotFoundError\u001b[0m: No module named 'audiostream'"
     ]
    }
   ],
   "source": [
    "from audiostream import AudioStream, AudioInput\n",
    "import numpy as np\n",
    "from collections import deque\n",
    "import time\n",
    "\n",
    "# Define your function that processes 1-second audio chunks\n",
    "def process_audio_chunk(audio_chunk):\n",
    "    # Your processing code here\n",
    "    print(\"Processing audio chunk of length:\", len(audio_chunk))\n",
    "\n",
    "# Audio stream configuration\n",
    "sample_rate = 16000  # 16 kHz\n",
    "chunk_duration = 1.0  # 1 second\n",
    "overlap_duration = 0.5  # 0.5 second\n",
    "\n",
    "# Calculate the number of samples per chunk and overlap\n",
    "chunk_samples = int(chunk_duration * sample_rate)\n",
    "overlap_samples = int(overlap_duration * sample_rate)\n",
    "\n",
    "# Buffer to store audio data\n",
    "buffer = deque(maxlen=chunk_samples + overlap_samples)\n",
    "\n",
    "# Callback to process audio data\n",
    "def audio_callback(input_stream):\n",
    "    audio_data = np.frombuffer(input_stream.read(), dtype=np.float32)\n",
    "    \n",
    "    # Append new audio data to buffer\n",
    "    buffer.extend(audio_data)\n",
    "    \n",
    "    # Process the buffer if it has enough samples for a chunk\n",
    "    while len(buffer) >= chunk_samples:\n",
    "        # Extract chunk and pass it to the processing function\n",
    "        audio_chunk = np.array(buffer)[:chunk_samples]\n",
    "        process_audio_chunk(audio_chunk)\n",
    "        \n",
    "        # Remove the processed chunk while keeping the overlap part in the buffer\n",
    "        for _ in range(chunk_samples - overlap_samples):\n",
    "            buffer.popleft()\n",
    "\n",
    "# Set up the audio input stream\n",
    "stream = AudioInput(callback=audio_callback, channels=1, samplerate=sample_rate, buffersize=chunk_samples)\n",
    "\n",
    "# Start recording\n",
    "stream.start()\n",
    "\n",
    "print(\"Recording audio. Press Ctrl+C to stop.\")\n",
    "try:\n",
    "    while True:\n",
    "        time.sleep(1)  # Keep the script running\n",
    "except KeyboardInterrupt:\n",
    "    print(\"Stopped recording.\")\n",
    "    stream.stop()\n"
   ]
  }
 ],
 "metadata": {
  "kernelspec": {
   "display_name": "kws",
   "language": "python",
   "name": "python3"
  },
  "language_info": {
   "codemirror_mode": {
    "name": "ipython",
    "version": 3
   },
   "file_extension": ".py",
   "mimetype": "text/x-python",
   "name": "python",
   "nbconvert_exporter": "python",
   "pygments_lexer": "ipython3",
   "version": "3.12.3"
  }
 },
 "nbformat": 4,
 "nbformat_minor": 2
}
