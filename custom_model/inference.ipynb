{
 "cells": [
  {
   "cell_type": "code",
   "execution_count": 6,
   "metadata": {},
   "outputs": [],
   "source": [
    "import librosa\n",
    "import sounddevice as sd\n",
    "import numpy as np\n",
    "import tensorflow as tf"
   ]
  },
  {
   "cell_type": "code",
   "execution_count": 15,
   "metadata": {},
   "outputs": [],
   "source": [
    "model_pth = r\"D:\\model_code\\server_models\\mobile_net\\trail_1\\_1\\old_samples\\16k_melspec-nfft-1024_a_h_cnn_dense_model.keras\""
   ]
  },
  {
   "cell_type": "code",
   "execution_count": 16,
   "metadata": {},
   "outputs": [],
   "source": [
    "model = tf.keras.models.load_model(model_pth)"
   ]
  },
  {
   "cell_type": "code",
   "execution_count": 5,
   "metadata": {},
   "outputs": [],
   "source": [
    "fs = 44100\n",
    "sr = 16000\n",
    "buffer_duration = 2 # seconds\n",
    "buffer_size = buffer_duration * fs"
   ]
  },
  {
   "cell_type": "code",
   "execution_count": 10,
   "metadata": {},
   "outputs": [],
   "source": [
    "label = {\n",
    "    0:'unknown',1:'adele',2:'hilfe'\n",
    "}\n",
    "pad_or_trunc = lambda a,i : a[0:i] if len(a) > i else a if len(a) == i else np.pad(a,(0, (i-len(a))))\n",
    "max_seconds = 1\n",
    "target_sr = 16000\n",
    "\n",
    "def process_data(y,sr,max_seconds):\n",
    "    y = pad_or_trunc(y,sr*max_seconds)\n",
    "    features = librosa.feature.melspectrogram(y=y,sr=sr,n_fft=1024)\n",
    "    return features\n",
    "\n",
    "def get_features(waveform, sr):\n",
    "    features = process_data(waveform,sr,max_seconds)\n",
    "    shape = features.shape\n",
    "    features = features.reshape([1,*shape,1])\n",
    "    return features\n",
    "\n",
    "def predict(data,sr):\n",
    "    # data,_ = librosa.load(data,sr=sr)\n",
    "    y = librosa.resample(data,orig_sr=sr,target_sr=target_sr)\n",
    "    features = get_features(y,sr=target_sr)\n",
    "    pred = model.predict(features)\n",
    "    return label.get(np.argmax(pred)),np.max(pred)\n",
    "    return y,(label.get(np.argmax(pred) if np.max(pred) >= 0.97 else 0,'unknown'),round(np.max(pred)*100,2))"
   ]
  },
  {
   "cell_type": "code",
   "execution_count": 19,
   "metadata": {},
   "outputs": [
    {
     "name": "stdout",
     "output_type": "stream",
     "text": [
      "\u001b[1m1/1\u001b[0m \u001b[32m━━━━━━━━━━━━━━━━━━━━\u001b[0m\u001b[37m\u001b[0m \u001b[1m0s\u001b[0m 99ms/step\n",
      "\u001b[1m1/1\u001b[0m \u001b[32m━━━━━━━━━━━━━━━━━━━━\u001b[0m\u001b[37m\u001b[0m \u001b[1m0s\u001b[0m 91ms/step\n",
      "unknown 0.6881904 Stream stopped by user\n"
     ]
    }
   ],
   "source": [
    "while True:\n",
    "    try:\n",
    "        # print(\"Recording...\")\n",
    "        # Record audio for 2 seconds\n",
    "        buffer = sd.rec(buffer_size, channels=1, dtype='float32')\n",
    "        sd.wait()  # Wait until recording is finished\n",
    "        sd.play(buffer,fs)\n",
    "        sd.wait()  # Wait until recording is finished\n",
    "        # Process the recorded audio\n",
    "        y = buffer.squeeze()[fs:]\n",
    "        # data = librosa.resample(y=y,orig_sr=fs,target_sr=sr)\n",
    "        l,p = predict(data,fs)\n",
    "        print(l,p or '',end=' ')\n",
    "        # break\n",
    "        # clear_output(wait=True)\n",
    "    except KeyboardInterrupt:\n",
    "        print(\"Stream stopped by user\")\n",
    "        break"
   ]
  }
 ],
 "metadata": {
  "kernelspec": {
   "display_name": "kws",
   "language": "python",
   "name": "python3"
  },
  "language_info": {
   "codemirror_mode": {
    "name": "ipython",
    "version": 3
   },
   "file_extension": ".py",
   "mimetype": "text/x-python",
   "name": "python",
   "nbconvert_exporter": "python",
   "pygments_lexer": "ipython3",
   "version": "3.12.3"
  }
 },
 "nbformat": 4,
 "nbformat_minor": 2
}
